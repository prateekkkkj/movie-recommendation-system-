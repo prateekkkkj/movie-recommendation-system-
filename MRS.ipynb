{
 "cells": [
  {
   "cell_type": "code",
   "execution_count": 1,
   "id": "d8fe0109",
   "metadata": {
    "_cell_guid": "b1076dfc-b9ad-4769-8c92-a6c4dae69d19",
    "_uuid": "8f2839f25d086af736a60e9eeb907d3b93b6e0e5",
    "execution": {
     "iopub.execute_input": "2023-10-18T17:04:05.332887Z",
     "iopub.status.busy": "2023-10-18T17:04:05.332248Z",
     "iopub.status.idle": "2023-10-18T17:04:05.692771Z",
     "shell.execute_reply": "2023-10-18T17:04:05.691106Z"
    },
    "papermill": {
     "duration": 0.376514,
     "end_time": "2023-10-18T17:04:05.695714",
     "exception": false,
     "start_time": "2023-10-18T17:04:05.319200",
     "status": "completed"
    },
    "tags": []
   },
   "outputs": [],
   "source": [
    "import numpy as np # linear algebra\n",
    "import pandas as pd "
   ]
  },
  {
   "cell_type": "code",
   "execution_count": 2,
   "id": "fef1bdde",
   "metadata": {
    "execution": {
     "iopub.execute_input": "2023-10-18T17:04:05.722766Z",
     "iopub.status.busy": "2023-10-18T17:04:05.722318Z",
     "iopub.status.idle": "2023-10-18T17:04:06.723518Z",
     "shell.execute_reply": "2023-10-18T17:04:06.722593Z"
    },
    "papermill": {
     "duration": 1.016577,
     "end_time": "2023-10-18T17:04:06.725713",
     "exception": false,
     "start_time": "2023-10-18T17:04:05.709136",
     "status": "completed"
    },
    "tags": []
   },
   "outputs": [],
   "source": [
    "#reading csv files into dataframe\n",
    "movies = pd.read_csv('movies.csv')\n",
    "credits = pd.read_csv('credits.csv')"
   ]
  },
  {
   "cell_type": "code",
   "execution_count": 3,
   "id": "8dece7cc",
   "metadata": {
    "execution": {
     "iopub.execute_input": "2023-10-18T17:04:06.750598Z",
     "iopub.status.busy": "2023-10-18T17:04:06.749389Z",
     "iopub.status.idle": "2023-10-18T17:04:06.778786Z",
     "shell.execute_reply": "2023-10-18T17:04:06.777721Z"
    },
    "papermill": {
     "duration": 0.043655,
     "end_time": "2023-10-18T17:04:06.780717",
     "exception": false,
     "start_time": "2023-10-18T17:04:06.737062",
     "status": "completed"
    },
    "tags": []
   },
   "outputs": [
    {
     "name": "stdout",
     "output_type": "stream",
     "text": [
      "<class 'pandas.core.frame.DataFrame'>\n",
      "RangeIndex: 4803 entries, 0 to 4802\n",
      "Data columns (total 20 columns):\n",
      " #   Column                Non-Null Count  Dtype  \n",
      "---  ------                --------------  -----  \n",
      " 0   budget                4803 non-null   int64  \n",
      " 1   genres                4803 non-null   object \n",
      " 2   homepage              1712 non-null   object \n",
      " 3   id                    4803 non-null   int64  \n",
      " 4   keywords              4803 non-null   object \n",
      " 5   original_language     4803 non-null   object \n",
      " 6   original_title        4803 non-null   object \n",
      " 7   overview              4800 non-null   object \n",
      " 8   popularity            4803 non-null   float64\n",
      " 9   production_companies  4803 non-null   object \n",
      " 10  production_countries  4803 non-null   object \n",
      " 11  release_date          4802 non-null   object \n",
      " 12  revenue               4803 non-null   int64  \n",
      " 13  runtime               4801 non-null   float64\n",
      " 14  spoken_languages      4803 non-null   object \n",
      " 15  status                4803 non-null   object \n",
      " 16  tagline               3959 non-null   object \n",
      " 17  title                 4803 non-null   object \n",
      " 18  vote_average          4803 non-null   float64\n",
      " 19  vote_count            4803 non-null   int64  \n",
      "dtypes: float64(3), int64(4), object(13)\n",
      "memory usage: 750.6+ KB\n"
     ]
    }
   ],
   "source": [
    "movies.info()"
   ]
  },
  {
   "cell_type": "code",
   "execution_count": 4,
   "id": "7677883e",
   "metadata": {},
   "outputs": [
    {
     "name": "stdout",
     "output_type": "stream",
     "text": [
      "<class 'pandas.core.frame.DataFrame'>\n",
      "RangeIndex: 4803 entries, 0 to 4802\n",
      "Data columns (total 4 columns):\n",
      " #   Column    Non-Null Count  Dtype \n",
      "---  ------    --------------  ----- \n",
      " 0   movie_id  4803 non-null   int64 \n",
      " 1   title     4803 non-null   object\n",
      " 2   cast      4803 non-null   object\n",
      " 3   crew      4803 non-null   object\n",
      "dtypes: int64(1), object(3)\n",
      "memory usage: 150.2+ KB\n"
     ]
    }
   ],
   "source": [
    "credits.info()"
   ]
  },
  {
   "cell_type": "code",
   "execution_count": 5,
   "id": "26d473ad",
   "metadata": {
    "execution": {
     "iopub.execute_input": "2023-10-18T17:04:06.804421Z",
     "iopub.status.busy": "2023-10-18T17:04:06.804102Z",
     "iopub.status.idle": "2023-10-18T17:04:06.814502Z",
     "shell.execute_reply": "2023-10-18T17:04:06.813510Z"
    },
    "papermill": {
     "duration": 0.02459,
     "end_time": "2023-10-18T17:04:06.816451",
     "exception": false,
     "start_time": "2023-10-18T17:04:06.791861",
     "status": "completed"
    },
    "tags": []
   },
   "outputs": [
    {
     "data": {
      "text/html": [
       "<div>\n",
       "<style scoped>\n",
       "    .dataframe tbody tr th:only-of-type {\n",
       "        vertical-align: middle;\n",
       "    }\n",
       "\n",
       "    .dataframe tbody tr th {\n",
       "        vertical-align: top;\n",
       "    }\n",
       "\n",
       "    .dataframe thead th {\n",
       "        text-align: right;\n",
       "    }\n",
       "</style>\n",
       "<table border=\"1\" class=\"dataframe\">\n",
       "  <thead>\n",
       "    <tr style=\"text-align: right;\">\n",
       "      <th></th>\n",
       "      <th>movie_id</th>\n",
       "      <th>title</th>\n",
       "      <th>cast</th>\n",
       "      <th>crew</th>\n",
       "    </tr>\n",
       "  </thead>\n",
       "  <tbody>\n",
       "    <tr>\n",
       "      <th>0</th>\n",
       "      <td>19995</td>\n",
       "      <td>Avatar</td>\n",
       "      <td>[{\"cast_id\": 242, \"character\": \"Jake Sully\", \"...</td>\n",
       "      <td>[{\"credit_id\": \"52fe48009251416c750aca23\", \"de...</td>\n",
       "    </tr>\n",
       "    <tr>\n",
       "      <th>1</th>\n",
       "      <td>285</td>\n",
       "      <td>Pirates of the Caribbean: At World's End</td>\n",
       "      <td>[{\"cast_id\": 4, \"character\": \"Captain Jack Spa...</td>\n",
       "      <td>[{\"credit_id\": \"52fe4232c3a36847f800b579\", \"de...</td>\n",
       "    </tr>\n",
       "    <tr>\n",
       "      <th>2</th>\n",
       "      <td>206647</td>\n",
       "      <td>Spectre</td>\n",
       "      <td>[{\"cast_id\": 1, \"character\": \"James Bond\", \"cr...</td>\n",
       "      <td>[{\"credit_id\": \"54805967c3a36829b5002c41\", \"de...</td>\n",
       "    </tr>\n",
       "    <tr>\n",
       "      <th>3</th>\n",
       "      <td>49026</td>\n",
       "      <td>The Dark Knight Rises</td>\n",
       "      <td>[{\"cast_id\": 2, \"character\": \"Bruce Wayne / Ba...</td>\n",
       "      <td>[{\"credit_id\": \"52fe4781c3a36847f81398c3\", \"de...</td>\n",
       "    </tr>\n",
       "    <tr>\n",
       "      <th>4</th>\n",
       "      <td>49529</td>\n",
       "      <td>John Carter</td>\n",
       "      <td>[{\"cast_id\": 5, \"character\": \"John Carter\", \"c...</td>\n",
       "      <td>[{\"credit_id\": \"52fe479ac3a36847f813eaa3\", \"de...</td>\n",
       "    </tr>\n",
       "  </tbody>\n",
       "</table>\n",
       "</div>"
      ],
      "text/plain": [
       "   movie_id                                     title  \\\n",
       "0     19995                                    Avatar   \n",
       "1       285  Pirates of the Caribbean: At World's End   \n",
       "2    206647                                   Spectre   \n",
       "3     49026                     The Dark Knight Rises   \n",
       "4     49529                               John Carter   \n",
       "\n",
       "                                                cast  \\\n",
       "0  [{\"cast_id\": 242, \"character\": \"Jake Sully\", \"...   \n",
       "1  [{\"cast_id\": 4, \"character\": \"Captain Jack Spa...   \n",
       "2  [{\"cast_id\": 1, \"character\": \"James Bond\", \"cr...   \n",
       "3  [{\"cast_id\": 2, \"character\": \"Bruce Wayne / Ba...   \n",
       "4  [{\"cast_id\": 5, \"character\": \"John Carter\", \"c...   \n",
       "\n",
       "                                                crew  \n",
       "0  [{\"credit_id\": \"52fe48009251416c750aca23\", \"de...  \n",
       "1  [{\"credit_id\": \"52fe4232c3a36847f800b579\", \"de...  \n",
       "2  [{\"credit_id\": \"54805967c3a36829b5002c41\", \"de...  \n",
       "3  [{\"credit_id\": \"52fe4781c3a36847f81398c3\", \"de...  \n",
       "4  [{\"credit_id\": \"52fe479ac3a36847f813eaa3\", \"de...  "
      ]
     },
     "execution_count": 5,
     "metadata": {},
     "output_type": "execute_result"
    }
   ],
   "source": [
    "credits.head()"
   ]
  },
  {
   "cell_type": "code",
   "execution_count": 6,
   "id": "09033caa",
   "metadata": {
    "execution": {
     "iopub.execute_input": "2023-10-18T17:04:06.842751Z",
     "iopub.status.busy": "2023-10-18T17:04:06.841882Z",
     "iopub.status.idle": "2023-10-18T17:04:06.873614Z",
     "shell.execute_reply": "2023-10-18T17:04:06.872715Z"
    },
    "papermill": {
     "duration": 0.04791,
     "end_time": "2023-10-18T17:04:06.876021",
     "exception": false,
     "start_time": "2023-10-18T17:04:06.828111",
     "status": "completed"
    },
    "tags": []
   },
   "outputs": [],
   "source": [
    "movies = movies.merge(credits,on='title')"
   ]
  },
  {
   "cell_type": "code",
   "execution_count": 7,
   "id": "ba320ed2",
   "metadata": {
    "execution": {
     "iopub.execute_input": "2023-10-18T17:04:06.901114Z",
     "iopub.status.busy": "2023-10-18T17:04:06.900816Z",
     "iopub.status.idle": "2023-10-18T17:04:06.918513Z",
     "shell.execute_reply": "2023-10-18T17:04:06.917330Z"
    },
    "papermill": {
     "duration": 0.03271,
     "end_time": "2023-10-18T17:04:06.920582",
     "exception": false,
     "start_time": "2023-10-18T17:04:06.887872",
     "status": "completed"
    },
    "tags": []
   },
   "outputs": [
    {
     "data": {
      "text/html": [
       "<div>\n",
       "<style scoped>\n",
       "    .dataframe tbody tr th:only-of-type {\n",
       "        vertical-align: middle;\n",
       "    }\n",
       "\n",
       "    .dataframe tbody tr th {\n",
       "        vertical-align: top;\n",
       "    }\n",
       "\n",
       "    .dataframe thead th {\n",
       "        text-align: right;\n",
       "    }\n",
       "</style>\n",
       "<table border=\"1\" class=\"dataframe\">\n",
       "  <thead>\n",
       "    <tr style=\"text-align: right;\">\n",
       "      <th></th>\n",
       "      <th>budget</th>\n",
       "      <th>genres</th>\n",
       "      <th>homepage</th>\n",
       "      <th>id</th>\n",
       "      <th>keywords</th>\n",
       "      <th>original_language</th>\n",
       "      <th>original_title</th>\n",
       "      <th>overview</th>\n",
       "      <th>popularity</th>\n",
       "      <th>production_companies</th>\n",
       "      <th>...</th>\n",
       "      <th>runtime</th>\n",
       "      <th>spoken_languages</th>\n",
       "      <th>status</th>\n",
       "      <th>tagline</th>\n",
       "      <th>title</th>\n",
       "      <th>vote_average</th>\n",
       "      <th>vote_count</th>\n",
       "      <th>movie_id</th>\n",
       "      <th>cast</th>\n",
       "      <th>crew</th>\n",
       "    </tr>\n",
       "  </thead>\n",
       "  <tbody>\n",
       "    <tr>\n",
       "      <th>0</th>\n",
       "      <td>237000000</td>\n",
       "      <td>[{\"id\": 28, \"name\": \"Action\"}, {\"id\": 12, \"nam...</td>\n",
       "      <td>http://www.avatarmovie.com/</td>\n",
       "      <td>19995</td>\n",
       "      <td>[{\"id\": 1463, \"name\": \"culture clash\"}, {\"id\":...</td>\n",
       "      <td>en</td>\n",
       "      <td>Avatar</td>\n",
       "      <td>In the 22nd century, a paraplegic Marine is di...</td>\n",
       "      <td>150.437577</td>\n",
       "      <td>[{\"name\": \"Ingenious Film Partners\", \"id\": 289...</td>\n",
       "      <td>...</td>\n",
       "      <td>162.0</td>\n",
       "      <td>[{\"iso_639_1\": \"en\", \"name\": \"English\"}, {\"iso...</td>\n",
       "      <td>Released</td>\n",
       "      <td>Enter the World of Pandora.</td>\n",
       "      <td>Avatar</td>\n",
       "      <td>7.2</td>\n",
       "      <td>11800</td>\n",
       "      <td>19995</td>\n",
       "      <td>[{\"cast_id\": 242, \"character\": \"Jake Sully\", \"...</td>\n",
       "      <td>[{\"credit_id\": \"52fe48009251416c750aca23\", \"de...</td>\n",
       "    </tr>\n",
       "  </tbody>\n",
       "</table>\n",
       "<p>1 rows × 23 columns</p>\n",
       "</div>"
      ],
      "text/plain": [
       "      budget                                             genres  \\\n",
       "0  237000000  [{\"id\": 28, \"name\": \"Action\"}, {\"id\": 12, \"nam...   \n",
       "\n",
       "                      homepage     id  \\\n",
       "0  http://www.avatarmovie.com/  19995   \n",
       "\n",
       "                                            keywords original_language  \\\n",
       "0  [{\"id\": 1463, \"name\": \"culture clash\"}, {\"id\":...                en   \n",
       "\n",
       "  original_title                                           overview  \\\n",
       "0         Avatar  In the 22nd century, a paraplegic Marine is di...   \n",
       "\n",
       "   popularity                               production_companies  ... runtime  \\\n",
       "0  150.437577  [{\"name\": \"Ingenious Film Partners\", \"id\": 289...  ...   162.0   \n",
       "\n",
       "                                    spoken_languages    status  \\\n",
       "0  [{\"iso_639_1\": \"en\", \"name\": \"English\"}, {\"iso...  Released   \n",
       "\n",
       "                       tagline   title vote_average vote_count movie_id  \\\n",
       "0  Enter the World of Pandora.  Avatar          7.2      11800    19995   \n",
       "\n",
       "                                                cast  \\\n",
       "0  [{\"cast_id\": 242, \"character\": \"Jake Sully\", \"...   \n",
       "\n",
       "                                                crew  \n",
       "0  [{\"credit_id\": \"52fe48009251416c750aca23\", \"de...  \n",
       "\n",
       "[1 rows x 23 columns]"
      ]
     },
     "execution_count": 7,
     "metadata": {},
     "output_type": "execute_result"
    }
   ],
   "source": [
    "movies.head(1)"
   ]
  },
  {
   "cell_type": "code",
   "execution_count": null,
   "id": "6968eca1",
   "metadata": {
    "execution": {
     "iopub.execute_input": "2023-10-18T17:04:06.947070Z",
     "iopub.status.busy": "2023-10-18T17:04:06.946311Z",
     "iopub.status.idle": "2023-10-18T17:04:06.956248Z",
     "shell.execute_reply": "2023-10-18T17:04:06.955495Z"
    },
    "papermill": {
     "duration": 0.025449,
     "end_time": "2023-10-18T17:04:06.958221",
     "exception": false,
     "start_time": "2023-10-18T17:04:06.932772",
     "status": "completed"
    },
    "tags": []
   },
   "outputs": [],
   "source": []
  },
  {
   "cell_type": "code",
   "execution_count": 8,
   "id": "ea93342a",
   "metadata": {
    "execution": {
     "iopub.execute_input": "2023-10-18T17:04:06.984446Z",
     "iopub.status.busy": "2023-10-18T17:04:06.984119Z",
     "iopub.status.idle": "2023-10-18T17:04:07.006800Z",
     "shell.execute_reply": "2023-10-18T17:04:07.005644Z"
    },
    "papermill": {
     "duration": 0.03912,
     "end_time": "2023-10-18T17:04:07.009696",
     "exception": false,
     "start_time": "2023-10-18T17:04:06.970576",
     "status": "completed"
    },
    "tags": []
   },
   "outputs": [
    {
     "name": "stdout",
     "output_type": "stream",
     "text": [
      "<class 'pandas.core.frame.DataFrame'>\n",
      "RangeIndex: 4809 entries, 0 to 4808\n",
      "Data columns (total 23 columns):\n",
      " #   Column                Non-Null Count  Dtype  \n",
      "---  ------                --------------  -----  \n",
      " 0   budget                4809 non-null   int64  \n",
      " 1   genres                4809 non-null   object \n",
      " 2   homepage              1713 non-null   object \n",
      " 3   id                    4809 non-null   int64  \n",
      " 4   keywords              4809 non-null   object \n",
      " 5   original_language     4809 non-null   object \n",
      " 6   original_title        4809 non-null   object \n",
      " 7   overview              4806 non-null   object \n",
      " 8   popularity            4809 non-null   float64\n",
      " 9   production_companies  4809 non-null   object \n",
      " 10  production_countries  4809 non-null   object \n",
      " 11  release_date          4808 non-null   object \n",
      " 12  revenue               4809 non-null   int64  \n",
      " 13  runtime               4807 non-null   float64\n",
      " 14  spoken_languages      4809 non-null   object \n",
      " 15  status                4809 non-null   object \n",
      " 16  tagline               3965 non-null   object \n",
      " 17  title                 4809 non-null   object \n",
      " 18  vote_average          4809 non-null   float64\n",
      " 19  vote_count            4809 non-null   int64  \n",
      " 20  movie_id              4809 non-null   int64  \n",
      " 21  cast                  4809 non-null   object \n",
      " 22  crew                  4809 non-null   object \n",
      "dtypes: float64(3), int64(5), object(15)\n",
      "memory usage: 864.2+ KB\n"
     ]
    }
   ],
   "source": [
    "movies.info()"
   ]
  },
  {
   "cell_type": "code",
   "execution_count": 9,
   "id": "003e034e",
   "metadata": {},
   "outputs": [
    {
     "data": {
      "text/plain": [
       "original_language\n",
       "en    4510\n",
       "fr      70\n",
       "es      32\n",
       "zh      27\n",
       "de      27\n",
       "hi      19\n",
       "ja      16\n",
       "it      14\n",
       "ko      12\n",
       "cn      12\n",
       "ru      11\n",
       "pt       9\n",
       "da       7\n",
       "sv       5\n",
       "nl       4\n",
       "fa       4\n",
       "th       3\n",
       "he       3\n",
       "ta       2\n",
       "cs       2\n",
       "ro       2\n",
       "id       2\n",
       "ar       2\n",
       "vi       1\n",
       "sl       1\n",
       "ps       1\n",
       "no       1\n",
       "ky       1\n",
       "hu       1\n",
       "pl       1\n",
       "af       1\n",
       "nb       1\n",
       "tr       1\n",
       "is       1\n",
       "xx       1\n",
       "te       1\n",
       "el       1\n",
       "Name: count, dtype: int64"
      ]
     },
     "execution_count": 9,
     "metadata": {},
     "output_type": "execute_result"
    }
   ],
   "source": [
    "movies['original_language'].value_counts()"
   ]
  },
  {
   "cell_type": "code",
   "execution_count": 10,
   "id": "dc4ade9a",
   "metadata": {
    "execution": {
     "iopub.execute_input": "2023-10-18T17:04:07.035666Z",
     "iopub.status.busy": "2023-10-18T17:04:07.035317Z",
     "iopub.status.idle": "2023-10-18T17:04:07.039563Z",
     "shell.execute_reply": "2023-10-18T17:04:07.038532Z"
    },
    "papermill": {
     "duration": 0.019363,
     "end_time": "2023-10-18T17:04:07.041360",
     "exception": false,
     "start_time": "2023-10-18T17:04:07.021997",
     "status": "completed"
    },
    "tags": []
   },
   "outputs": [],
   "source": [
    "# columns which we will keep\n",
    "# genres, id, keywords, title, overview, cast, crew"
   ]
  },
  {
   "cell_type": "code",
   "execution_count": 11,
   "id": "85a53f3f",
   "metadata": {
    "execution": {
     "iopub.execute_input": "2023-10-18T17:04:07.067525Z",
     "iopub.status.busy": "2023-10-18T17:04:07.066443Z",
     "iopub.status.idle": "2023-10-18T17:04:07.073358Z",
     "shell.execute_reply": "2023-10-18T17:04:07.072502Z"
    },
    "papermill": {
     "duration": 0.022071,
     "end_time": "2023-10-18T17:04:07.075555",
     "exception": false,
     "start_time": "2023-10-18T17:04:07.053484",
     "status": "completed"
    },
    "tags": []
   },
   "outputs": [
    {
     "data": {
      "text/html": [
       "<div>\n",
       "<style scoped>\n",
       "    .dataframe tbody tr th:only-of-type {\n",
       "        vertical-align: middle;\n",
       "    }\n",
       "\n",
       "    .dataframe tbody tr th {\n",
       "        vertical-align: top;\n",
       "    }\n",
       "\n",
       "    .dataframe thead th {\n",
       "        text-align: right;\n",
       "    }\n",
       "</style>\n",
       "<table border=\"1\" class=\"dataframe\">\n",
       "  <thead>\n",
       "    <tr style=\"text-align: right;\">\n",
       "      <th></th>\n",
       "      <th>genres</th>\n",
       "      <th>id</th>\n",
       "      <th>keywords</th>\n",
       "      <th>title</th>\n",
       "      <th>overview</th>\n",
       "      <th>cast</th>\n",
       "      <th>crew</th>\n",
       "    </tr>\n",
       "  </thead>\n",
       "  <tbody>\n",
       "    <tr>\n",
       "      <th>0</th>\n",
       "      <td>[{\"id\": 28, \"name\": \"Action\"}, {\"id\": 12, \"nam...</td>\n",
       "      <td>19995</td>\n",
       "      <td>[{\"id\": 1463, \"name\": \"culture clash\"}, {\"id\":...</td>\n",
       "      <td>Avatar</td>\n",
       "      <td>In the 22nd century, a paraplegic Marine is di...</td>\n",
       "      <td>[{\"cast_id\": 242, \"character\": \"Jake Sully\", \"...</td>\n",
       "      <td>[{\"credit_id\": \"52fe48009251416c750aca23\", \"de...</td>\n",
       "    </tr>\n",
       "  </tbody>\n",
       "</table>\n",
       "</div>"
      ],
      "text/plain": [
       "                                              genres     id  \\\n",
       "0  [{\"id\": 28, \"name\": \"Action\"}, {\"id\": 12, \"nam...  19995   \n",
       "\n",
       "                                            keywords   title  \\\n",
       "0  [{\"id\": 1463, \"name\": \"culture clash\"}, {\"id\":...  Avatar   \n",
       "\n",
       "                                            overview  \\\n",
       "0  In the 22nd century, a paraplegic Marine is di...   \n",
       "\n",
       "                                                cast  \\\n",
       "0  [{\"cast_id\": 242, \"character\": \"Jake Sully\", \"...   \n",
       "\n",
       "                                                crew  \n",
       "0  [{\"credit_id\": \"52fe48009251416c750aca23\", \"de...  "
      ]
     },
     "execution_count": 11,
     "metadata": {},
     "output_type": "execute_result"
    }
   ],
   "source": [
    "movies = movies[['genres','id','keywords','title','overview','cast','crew']]\n",
    "movies.head(1)\n"
   ]
  },
  {
   "cell_type": "code",
   "execution_count": 12,
   "id": "11919745",
   "metadata": {
    "execution": {
     "iopub.execute_input": "2023-10-18T17:04:07.101693Z",
     "iopub.status.busy": "2023-10-18T17:04:07.101365Z",
     "iopub.status.idle": "2023-10-18T17:04:07.112009Z",
     "shell.execute_reply": "2023-10-18T17:04:07.111064Z"
    },
    "papermill": {
     "duration": 0.026114,
     "end_time": "2023-10-18T17:04:07.113947",
     "exception": false,
     "start_time": "2023-10-18T17:04:07.087833",
     "status": "completed"
    },
    "tags": []
   },
   "outputs": [
    {
     "data": {
      "text/plain": [
       "genres      0\n",
       "id          0\n",
       "keywords    0\n",
       "title       0\n",
       "overview    3\n",
       "cast        0\n",
       "crew        0\n",
       "dtype: int64"
      ]
     },
     "execution_count": 12,
     "metadata": {},
     "output_type": "execute_result"
    }
   ],
   "source": [
    "movies.isnull().sum()"
   ]
  },
  {
   "cell_type": "code",
   "execution_count": 13,
   "id": "7a9afa90",
   "metadata": {
    "execution": {
     "iopub.execute_input": "2023-10-18T17:04:07.197294Z",
     "iopub.status.busy": "2023-10-18T17:04:07.196983Z",
     "iopub.status.idle": "2023-10-18T17:04:07.206539Z",
     "shell.execute_reply": "2023-10-18T17:04:07.205669Z"
    },
    "papermill": {
     "duration": 0.024878,
     "end_time": "2023-10-18T17:04:07.208320",
     "exception": false,
     "start_time": "2023-10-18T17:04:07.183442",
     "status": "completed"
    },
    "tags": []
   },
   "outputs": [],
   "source": [
    "movies.dropna(inplace=True)"
   ]
  },
  {
   "cell_type": "code",
   "execution_count": 14,
   "id": "4fca1b7e",
   "metadata": {
    "execution": {
     "iopub.execute_input": "2023-10-18T17:04:07.235176Z",
     "iopub.status.busy": "2023-10-18T17:04:07.234216Z",
     "iopub.status.idle": "2023-10-18T17:04:07.245388Z",
     "shell.execute_reply": "2023-10-18T17:04:07.244385Z"
    },
    "papermill": {
     "duration": 0.026445,
     "end_time": "2023-10-18T17:04:07.247265",
     "exception": false,
     "start_time": "2023-10-18T17:04:07.220820",
     "status": "completed"
    },
    "tags": []
   },
   "outputs": [
    {
     "data": {
      "text/plain": [
       "genres      0\n",
       "id          0\n",
       "keywords    0\n",
       "title       0\n",
       "overview    0\n",
       "cast        0\n",
       "crew        0\n",
       "dtype: int64"
      ]
     },
     "execution_count": 14,
     "metadata": {},
     "output_type": "execute_result"
    }
   ],
   "source": [
    "movies.isnull().sum()"
   ]
  },
  {
   "cell_type": "code",
   "execution_count": 15,
   "id": "0c8159a3",
   "metadata": {
    "execution": {
     "iopub.execute_input": "2023-10-18T17:04:07.274107Z",
     "iopub.status.busy": "2023-10-18T17:04:07.273793Z",
     "iopub.status.idle": "2023-10-18T17:04:07.375772Z",
     "shell.execute_reply": "2023-10-18T17:04:07.374877Z"
    },
    "papermill": {
     "duration": 0.118061,
     "end_time": "2023-10-18T17:04:07.378112",
     "exception": false,
     "start_time": "2023-10-18T17:04:07.260051",
     "status": "completed"
    },
    "tags": []
   },
   "outputs": [
    {
     "data": {
      "text/plain": [
       "0"
      ]
     },
     "execution_count": 15,
     "metadata": {},
     "output_type": "execute_result"
    }
   ],
   "source": [
    "#to calculate sum of duplicate rows\n",
    "movies.duplicated().sum()"
   ]
  },
  {
   "cell_type": "code",
   "execution_count": 16,
   "id": "be84a45d",
   "metadata": {},
   "outputs": [
    {
     "data": {
      "text/html": [
       "<div>\n",
       "<style scoped>\n",
       "    .dataframe tbody tr th:only-of-type {\n",
       "        vertical-align: middle;\n",
       "    }\n",
       "\n",
       "    .dataframe tbody tr th {\n",
       "        vertical-align: top;\n",
       "    }\n",
       "\n",
       "    .dataframe thead th {\n",
       "        text-align: right;\n",
       "    }\n",
       "</style>\n",
       "<table border=\"1\" class=\"dataframe\">\n",
       "  <thead>\n",
       "    <tr style=\"text-align: right;\">\n",
       "      <th></th>\n",
       "      <th>genres</th>\n",
       "      <th>id</th>\n",
       "      <th>keywords</th>\n",
       "      <th>title</th>\n",
       "      <th>overview</th>\n",
       "      <th>cast</th>\n",
       "      <th>crew</th>\n",
       "    </tr>\n",
       "  </thead>\n",
       "  <tbody>\n",
       "    <tr>\n",
       "      <th>0</th>\n",
       "      <td>[{\"id\": 28, \"name\": \"Action\"}, {\"id\": 12, \"nam...</td>\n",
       "      <td>19995</td>\n",
       "      <td>[{\"id\": 1463, \"name\": \"culture clash\"}, {\"id\":...</td>\n",
       "      <td>Avatar</td>\n",
       "      <td>In the 22nd century, a paraplegic Marine is di...</td>\n",
       "      <td>[{\"cast_id\": 242, \"character\": \"Jake Sully\", \"...</td>\n",
       "      <td>[{\"credit_id\": \"52fe48009251416c750aca23\", \"de...</td>\n",
       "    </tr>\n",
       "    <tr>\n",
       "      <th>1</th>\n",
       "      <td>[{\"id\": 12, \"name\": \"Adventure\"}, {\"id\": 14, \"...</td>\n",
       "      <td>285</td>\n",
       "      <td>[{\"id\": 270, \"name\": \"ocean\"}, {\"id\": 726, \"na...</td>\n",
       "      <td>Pirates of the Caribbean: At World's End</td>\n",
       "      <td>Captain Barbossa, long believed to be dead, ha...</td>\n",
       "      <td>[{\"cast_id\": 4, \"character\": \"Captain Jack Spa...</td>\n",
       "      <td>[{\"credit_id\": \"52fe4232c3a36847f800b579\", \"de...</td>\n",
       "    </tr>\n",
       "    <tr>\n",
       "      <th>2</th>\n",
       "      <td>[{\"id\": 28, \"name\": \"Action\"}, {\"id\": 12, \"nam...</td>\n",
       "      <td>206647</td>\n",
       "      <td>[{\"id\": 470, \"name\": \"spy\"}, {\"id\": 818, \"name...</td>\n",
       "      <td>Spectre</td>\n",
       "      <td>A cryptic message from Bond’s past sends him o...</td>\n",
       "      <td>[{\"cast_id\": 1, \"character\": \"James Bond\", \"cr...</td>\n",
       "      <td>[{\"credit_id\": \"54805967c3a36829b5002c41\", \"de...</td>\n",
       "    </tr>\n",
       "    <tr>\n",
       "      <th>3</th>\n",
       "      <td>[{\"id\": 28, \"name\": \"Action\"}, {\"id\": 80, \"nam...</td>\n",
       "      <td>49026</td>\n",
       "      <td>[{\"id\": 849, \"name\": \"dc comics\"}, {\"id\": 853,...</td>\n",
       "      <td>The Dark Knight Rises</td>\n",
       "      <td>Following the death of District Attorney Harve...</td>\n",
       "      <td>[{\"cast_id\": 2, \"character\": \"Bruce Wayne / Ba...</td>\n",
       "      <td>[{\"credit_id\": \"52fe4781c3a36847f81398c3\", \"de...</td>\n",
       "    </tr>\n",
       "    <tr>\n",
       "      <th>4</th>\n",
       "      <td>[{\"id\": 28, \"name\": \"Action\"}, {\"id\": 12, \"nam...</td>\n",
       "      <td>49529</td>\n",
       "      <td>[{\"id\": 818, \"name\": \"based on novel\"}, {\"id\":...</td>\n",
       "      <td>John Carter</td>\n",
       "      <td>John Carter is a war-weary, former military ca...</td>\n",
       "      <td>[{\"cast_id\": 5, \"character\": \"John Carter\", \"c...</td>\n",
       "      <td>[{\"credit_id\": \"52fe479ac3a36847f813eaa3\", \"de...</td>\n",
       "    </tr>\n",
       "  </tbody>\n",
       "</table>\n",
       "</div>"
      ],
      "text/plain": [
       "                                              genres      id  \\\n",
       "0  [{\"id\": 28, \"name\": \"Action\"}, {\"id\": 12, \"nam...   19995   \n",
       "1  [{\"id\": 12, \"name\": \"Adventure\"}, {\"id\": 14, \"...     285   \n",
       "2  [{\"id\": 28, \"name\": \"Action\"}, {\"id\": 12, \"nam...  206647   \n",
       "3  [{\"id\": 28, \"name\": \"Action\"}, {\"id\": 80, \"nam...   49026   \n",
       "4  [{\"id\": 28, \"name\": \"Action\"}, {\"id\": 12, \"nam...   49529   \n",
       "\n",
       "                                            keywords  \\\n",
       "0  [{\"id\": 1463, \"name\": \"culture clash\"}, {\"id\":...   \n",
       "1  [{\"id\": 270, \"name\": \"ocean\"}, {\"id\": 726, \"na...   \n",
       "2  [{\"id\": 470, \"name\": \"spy\"}, {\"id\": 818, \"name...   \n",
       "3  [{\"id\": 849, \"name\": \"dc comics\"}, {\"id\": 853,...   \n",
       "4  [{\"id\": 818, \"name\": \"based on novel\"}, {\"id\":...   \n",
       "\n",
       "                                      title  \\\n",
       "0                                    Avatar   \n",
       "1  Pirates of the Caribbean: At World's End   \n",
       "2                                   Spectre   \n",
       "3                     The Dark Knight Rises   \n",
       "4                               John Carter   \n",
       "\n",
       "                                            overview  \\\n",
       "0  In the 22nd century, a paraplegic Marine is di...   \n",
       "1  Captain Barbossa, long believed to be dead, ha...   \n",
       "2  A cryptic message from Bond’s past sends him o...   \n",
       "3  Following the death of District Attorney Harve...   \n",
       "4  John Carter is a war-weary, former military ca...   \n",
       "\n",
       "                                                cast  \\\n",
       "0  [{\"cast_id\": 242, \"character\": \"Jake Sully\", \"...   \n",
       "1  [{\"cast_id\": 4, \"character\": \"Captain Jack Spa...   \n",
       "2  [{\"cast_id\": 1, \"character\": \"James Bond\", \"cr...   \n",
       "3  [{\"cast_id\": 2, \"character\": \"Bruce Wayne / Ba...   \n",
       "4  [{\"cast_id\": 5, \"character\": \"John Carter\", \"c...   \n",
       "\n",
       "                                                crew  \n",
       "0  [{\"credit_id\": \"52fe48009251416c750aca23\", \"de...  \n",
       "1  [{\"credit_id\": \"52fe4232c3a36847f800b579\", \"de...  \n",
       "2  [{\"credit_id\": \"54805967c3a36829b5002c41\", \"de...  \n",
       "3  [{\"credit_id\": \"52fe4781c3a36847f81398c3\", \"de...  \n",
       "4  [{\"credit_id\": \"52fe479ac3a36847f813eaa3\", \"de...  "
      ]
     },
     "execution_count": 16,
     "metadata": {},
     "output_type": "execute_result"
    }
   ],
   "source": [
    "movies.head() "
   ]
  },
  {
   "cell_type": "code",
   "execution_count": 17,
   "id": "4a0bbbc9",
   "metadata": {
    "execution": {
     "iopub.execute_input": "2023-10-18T17:04:07.404781Z",
     "iopub.status.busy": "2023-10-18T17:04:07.404422Z",
     "iopub.status.idle": "2023-10-18T17:04:07.411458Z",
     "shell.execute_reply": "2023-10-18T17:04:07.410385Z"
    },
    "papermill": {
     "duration": 0.022796,
     "end_time": "2023-10-18T17:04:07.413640",
     "exception": false,
     "start_time": "2023-10-18T17:04:07.390844",
     "status": "completed"
    },
    "tags": []
   },
   "outputs": [
    {
     "data": {
      "text/plain": [
       "'[{\"id\": 1463, \"name\": \"culture clash\"}, {\"id\": 2964, \"name\": \"future\"}, {\"id\": 3386, \"name\": \"space war\"}, {\"id\": 3388, \"name\": \"space colony\"}, {\"id\": 3679, \"name\": \"society\"}, {\"id\": 3801, \"name\": \"space travel\"}, {\"id\": 9685, \"name\": \"futuristic\"}, {\"id\": 9840, \"name\": \"romance\"}, {\"id\": 9882, \"name\": \"space\"}, {\"id\": 9951, \"name\": \"alien\"}, {\"id\": 10148, \"name\": \"tribe\"}, {\"id\": 10158, \"name\": \"alien planet\"}, {\"id\": 10987, \"name\": \"cgi\"}, {\"id\": 11399, \"name\": \"marine\"}, {\"id\": 13065, \"name\": \"soldier\"}, {\"id\": 14643, \"name\": \"battle\"}, {\"id\": 14720, \"name\": \"love affair\"}, {\"id\": 165431, \"name\": \"anti war\"}, {\"id\": 193554, \"name\": \"power relations\"}, {\"id\": 206690, \"name\": \"mind and soul\"}, {\"id\": 209714, \"name\": \"3d\"}]'"
      ]
     },
     "execution_count": 17,
     "metadata": {},
     "output_type": "execute_result"
    }
   ],
   "source": [
    "movies.iloc[0].keywords"
   ]
  },
  {
   "cell_type": "code",
   "execution_count": 18,
   "id": "44f7a294",
   "metadata": {
    "execution": {
     "iopub.execute_input": "2023-10-18T17:04:07.441242Z",
     "iopub.status.busy": "2023-10-18T17:04:07.440673Z",
     "iopub.status.idle": "2023-10-18T17:04:07.444722Z",
     "shell.execute_reply": "2023-10-18T17:04:07.444038Z"
    },
    "papermill": {
     "duration": 0.020142,
     "end_time": "2023-10-18T17:04:07.446563",
     "exception": false,
     "start_time": "2023-10-18T17:04:07.426421",
     "status": "completed"
    },
    "tags": []
   },
   "outputs": [],
   "source": [
    "# A module in python to convert a string of list INTO list\n",
    "#example : '[{\"name\": \"Alice\"}, {\"name\": \"Bob\"}]'-->[{\"name\": \"Alice\"}, {\"name\": \"Bob\"}]"
   ]
  },
  {
   "cell_type": "code",
   "execution_count": 19,
   "id": "c91d552d",
   "metadata": {},
   "outputs": [],
   "source": [
    "str='[{\"name\": \"Alice\"}, {\"name\": \"Bob\"}]'"
   ]
  },
  {
   "cell_type": "code",
   "execution_count": 20,
   "id": "2fa8ce59",
   "metadata": {
    "execution": {
     "iopub.execute_input": "2023-10-18T17:04:07.473461Z",
     "iopub.status.busy": "2023-10-18T17:04:07.473109Z",
     "iopub.status.idle": "2023-10-18T17:04:07.476781Z",
     "shell.execute_reply": "2023-10-18T17:04:07.475778Z"
    },
    "papermill": {
     "duration": 0.019511,
     "end_time": "2023-10-18T17:04:07.478697",
     "exception": false,
     "start_time": "2023-10-18T17:04:07.459186",
     "status": "completed"
    },
    "tags": []
   },
   "outputs": [],
   "source": [
    "import ast"
   ]
  },
  {
   "cell_type": "code",
   "execution_count": 21,
   "id": "8b9d7588",
   "metadata": {
    "execution": {
     "iopub.execute_input": "2023-10-18T17:04:07.505661Z",
     "iopub.status.busy": "2023-10-18T17:04:07.505275Z",
     "iopub.status.idle": "2023-10-18T17:04:07.510235Z",
     "shell.execute_reply": "2023-10-18T17:04:07.509271Z"
    },
    "papermill": {
     "duration": 0.020742,
     "end_time": "2023-10-18T17:04:07.512276",
     "exception": false,
     "start_time": "2023-10-18T17:04:07.491534",
     "status": "completed"
    },
    "tags": []
   },
   "outputs": [],
   "source": [
    "def convert(obj):\n",
    "    L = []\n",
    "    for i in ast.literal_eval(obj):\n",
    "        L.append(i['name'])\n",
    "    return L\n"
   ]
  },
  {
   "cell_type": "code",
   "execution_count": 22,
   "id": "e4f7b629",
   "metadata": {},
   "outputs": [
    {
     "name": "stdout",
     "output_type": "stream",
     "text": [
      "['Action', 'Adventure', 'Fantasy', 'Science Fiction']\n"
     ]
    }
   ],
   "source": [
    "x='[{\"id\": 28, \"name\": \"Action\"}, {\"id\": 12, \"name\": \"Adventure\"}, {\"id\": 14, \"name\": \"Fantasy\"}, {\"id\": 878, \"name\": \"Science Fiction\"}]'\n",
    "print(convert(x))"
   ]
  },
  {
   "cell_type": "code",
   "execution_count": 23,
   "id": "a527b0c3",
   "metadata": {
    "execution": {
     "iopub.execute_input": "2023-10-18T17:04:07.540499Z",
     "iopub.status.busy": "2023-10-18T17:04:07.540114Z",
     "iopub.status.idle": "2023-10-18T17:04:07.692766Z",
     "shell.execute_reply": "2023-10-18T17:04:07.691695Z"
    },
    "papermill": {
     "duration": 0.169107,
     "end_time": "2023-10-18T17:04:07.695059",
     "exception": false,
     "start_time": "2023-10-18T17:04:07.525952",
     "status": "completed"
    },
    "tags": []
   },
   "outputs": [],
   "source": [
    "movies['genres'] = movies['genres'].apply(convert)"
   ]
  },
  {
   "cell_type": "code",
   "execution_count": 24,
   "id": "5cf0364a",
   "metadata": {
    "execution": {
     "iopub.execute_input": "2023-10-18T17:04:07.722819Z",
     "iopub.status.busy": "2023-10-18T17:04:07.721914Z",
     "iopub.status.idle": "2023-10-18T17:04:07.728120Z",
     "shell.execute_reply": "2023-10-18T17:04:07.727387Z"
    },
    "papermill": {
     "duration": 0.021779,
     "end_time": "2023-10-18T17:04:07.729837",
     "exception": false,
     "start_time": "2023-10-18T17:04:07.708058",
     "status": "completed"
    },
    "tags": []
   },
   "outputs": [
    {
     "data": {
      "text/plain": [
       "['Adventure', 'Family', 'Fantasy']"
      ]
     },
     "execution_count": 24,
     "metadata": {},
     "output_type": "execute_result"
    }
   ],
   "source": [
    "movies.iloc[15].genres"
   ]
  },
  {
   "cell_type": "code",
   "execution_count": 25,
   "id": "ca0d2721",
   "metadata": {
    "execution": {
     "iopub.execute_input": "2023-10-18T17:04:07.757917Z",
     "iopub.status.busy": "2023-10-18T17:04:07.757338Z",
     "iopub.status.idle": "2023-10-18T17:04:08.137248Z",
     "shell.execute_reply": "2023-10-18T17:04:08.136545Z"
    },
    "papermill": {
     "duration": 0.396601,
     "end_time": "2023-10-18T17:04:08.139703",
     "exception": false,
     "start_time": "2023-10-18T17:04:07.743102",
     "status": "completed"
    },
    "tags": []
   },
   "outputs": [],
   "source": [
    "movies['keywords'] = movies['keywords'].apply(convert)"
   ]
  },
  {
   "cell_type": "code",
   "execution_count": 26,
   "id": "fa0c0c99",
   "metadata": {
    "execution": {
     "iopub.execute_input": "2023-10-18T17:04:08.168692Z",
     "iopub.status.busy": "2023-10-18T17:04:08.167843Z",
     "iopub.status.idle": "2023-10-18T17:04:08.174559Z",
     "shell.execute_reply": "2023-10-18T17:04:08.173651Z"
    },
    "papermill": {
     "duration": 0.023352,
     "end_time": "2023-10-18T17:04:08.176819",
     "exception": false,
     "start_time": "2023-10-18T17:04:08.153467",
     "status": "completed"
    },
    "tags": []
   },
   "outputs": [
    {
     "data": {
      "text/plain": [
       "'[{\"cast_id\": 242, \"character\": \"Jake Sully\", \"credit_id\": \"5602a8a7c3a3685532001c9a\", \"gender\": 2, \"id\": 65731, \"name\": \"Sam Worthington\", \"order\": 0}, {\"cast_id\": 3, \"character\": \"Neytiri\", \"credit_id\": \"52fe48009251416c750ac9cb\", \"gender\": 1, \"id\": 8691, \"name\": \"Zoe Saldana\", \"order\": 1}, {\"cast_id\": 25, \"character\": \"Dr. Grace Augustine\", \"credit_id\": \"52fe48009251416c750aca39\", \"gender\": 1, \"id\": 10205, \"name\": \"Sigourney Weaver\", \"order\": 2}, {\"cast_id\": 4, \"character\": \"Col. Quaritch\", \"credit_id\": \"52fe48009251416c750ac9cf\", \"gender\": 2, \"id\": 32747, \"name\": \"Stephen Lang\", \"order\": 3}, {\"cast_id\": 5, \"character\": \"Trudy Chacon\", \"credit_id\": \"52fe48009251416c750ac9d3\", \"gender\": 1, \"id\": 17647, \"name\": \"Michelle Rodriguez\", \"order\": 4}, {\"cast_id\": 8, \"character\": \"Selfridge\", \"credit_id\": \"52fe48009251416c750ac9e1\", \"gender\": 2, \"id\": 1771, \"name\": \"Giovanni Ribisi\", \"order\": 5}, {\"cast_id\": 7, \"character\": \"Norm Spellman\", \"credit_id\": \"52fe48009251416c750ac9dd\", \"gender\": 2, \"id\": 59231, \"name\": \"Joel David Moore\", \"order\": 6}, {\"cast_id\": 9, \"character\": \"Moat\", \"credit_id\": \"52fe48009251416c750ac9e5\", \"gender\": 1, \"id\": 30485, \"name\": \"CCH Pounder\", \"order\": 7}, {\"cast_id\": 11, \"character\": \"Eytukan\", \"credit_id\": \"52fe48009251416c750ac9ed\", \"gender\": 2, \"id\": 15853, \"name\": \"Wes Studi\", \"order\": 8}, {\"cast_id\": 10, \"character\": \"Tsu\\'Tey\", \"credit_id\": \"52fe48009251416c750ac9e9\", \"gender\": 2, \"id\": 10964, \"name\": \"Laz Alonso\", \"order\": 9}, {\"cast_id\": 12, \"character\": \"Dr. Max Patel\", \"credit_id\": \"52fe48009251416c750ac9f1\", \"gender\": 2, \"id\": 95697, \"name\": \"Dileep Rao\", \"order\": 10}, {\"cast_id\": 13, \"character\": \"Lyle Wainfleet\", \"credit_id\": \"52fe48009251416c750ac9f5\", \"gender\": 2, \"id\": 98215, \"name\": \"Matt Gerald\", \"order\": 11}, {\"cast_id\": 32, \"character\": \"Private Fike\", \"credit_id\": \"52fe48009251416c750aca5b\", \"gender\": 2, \"id\": 154153, \"name\": \"Sean Anthony Moran\", \"order\": 12}, {\"cast_id\": 33, \"character\": \"Cryo Vault Med Tech\", \"credit_id\": \"52fe48009251416c750aca5f\", \"gender\": 2, \"id\": 397312, \"name\": \"Jason Whyte\", \"order\": 13}, {\"cast_id\": 34, \"character\": \"Venture Star Crew Chief\", \"credit_id\": \"52fe48009251416c750aca63\", \"gender\": 2, \"id\": 42317, \"name\": \"Scott Lawrence\", \"order\": 14}, {\"cast_id\": 35, \"character\": \"Lock Up Trooper\", \"credit_id\": \"52fe48009251416c750aca67\", \"gender\": 2, \"id\": 986734, \"name\": \"Kelly Kilgour\", \"order\": 15}, {\"cast_id\": 36, \"character\": \"Shuttle Pilot\", \"credit_id\": \"52fe48009251416c750aca6b\", \"gender\": 0, \"id\": 1207227, \"name\": \"James Patrick Pitt\", \"order\": 16}, {\"cast_id\": 37, \"character\": \"Shuttle Co-Pilot\", \"credit_id\": \"52fe48009251416c750aca6f\", \"gender\": 0, \"id\": 1180936, \"name\": \"Sean Patrick Murphy\", \"order\": 17}, {\"cast_id\": 38, \"character\": \"Shuttle Crew Chief\", \"credit_id\": \"52fe48009251416c750aca73\", \"gender\": 2, \"id\": 1019578, \"name\": \"Peter Dillon\", \"order\": 18}, {\"cast_id\": 39, \"character\": \"Tractor Operator / Troupe\", \"credit_id\": \"52fe48009251416c750aca77\", \"gender\": 0, \"id\": 91443, \"name\": \"Kevin Dorman\", \"order\": 19}, {\"cast_id\": 40, \"character\": \"Dragon Gunship Pilot\", \"credit_id\": \"52fe48009251416c750aca7b\", \"gender\": 2, \"id\": 173391, \"name\": \"Kelson Henderson\", \"order\": 20}, {\"cast_id\": 41, \"character\": \"Dragon Gunship Gunner\", \"credit_id\": \"52fe48009251416c750aca7f\", \"gender\": 0, \"id\": 1207236, \"name\": \"David Van Horn\", \"order\": 21}, {\"cast_id\": 42, \"character\": \"Dragon Gunship Navigator\", \"credit_id\": \"52fe48009251416c750aca83\", \"gender\": 0, \"id\": 215913, \"name\": \"Jacob Tomuri\", \"order\": 22}, {\"cast_id\": 43, \"character\": \"Suit #1\", \"credit_id\": \"52fe48009251416c750aca87\", \"gender\": 0, \"id\": 143206, \"name\": \"Michael Blain-Rozgay\", \"order\": 23}, {\"cast_id\": 44, \"character\": \"Suit #2\", \"credit_id\": \"52fe48009251416c750aca8b\", \"gender\": 2, \"id\": 169676, \"name\": \"Jon Curry\", \"order\": 24}, {\"cast_id\": 46, \"character\": \"Ambient Room Tech\", \"credit_id\": \"52fe48009251416c750aca8f\", \"gender\": 0, \"id\": 1048610, \"name\": \"Luke Hawker\", \"order\": 25}, {\"cast_id\": 47, \"character\": \"Ambient Room Tech / Troupe\", \"credit_id\": \"52fe48009251416c750aca93\", \"gender\": 0, \"id\": 42288, \"name\": \"Woody Schultz\", \"order\": 26}, {\"cast_id\": 48, \"character\": \"Horse Clan Leader\", \"credit_id\": \"52fe48009251416c750aca97\", \"gender\": 2, \"id\": 68278, \"name\": \"Peter Mensah\", \"order\": 27}, {\"cast_id\": 49, \"character\": \"Link Room Tech\", \"credit_id\": \"52fe48009251416c750aca9b\", \"gender\": 0, \"id\": 1207247, \"name\": \"Sonia Yee\", \"order\": 28}, {\"cast_id\": 50, \"character\": \"Basketball Avatar / Troupe\", \"credit_id\": \"52fe48009251416c750aca9f\", \"gender\": 1, \"id\": 1207248, \"name\": \"Jahnel Curfman\", \"order\": 29}, {\"cast_id\": 51, \"character\": \"Basketball Avatar\", \"credit_id\": \"52fe48009251416c750acaa3\", \"gender\": 0, \"id\": 89714, \"name\": \"Ilram Choi\", \"order\": 30}, {\"cast_id\": 52, \"character\": \"Na\\'vi Child\", \"credit_id\": \"52fe48009251416c750acaa7\", \"gender\": 0, \"id\": 1207249, \"name\": \"Kyla Warren\", \"order\": 31}, {\"cast_id\": 53, \"character\": \"Troupe\", \"credit_id\": \"52fe48009251416c750acaab\", \"gender\": 0, \"id\": 1207250, \"name\": \"Lisa Roumain\", \"order\": 32}, {\"cast_id\": 54, \"character\": \"Troupe\", \"credit_id\": \"52fe48009251416c750acaaf\", \"gender\": 1, \"id\": 83105, \"name\": \"Debra Wilson\", \"order\": 33}, {\"cast_id\": 57, \"character\": \"Troupe\", \"credit_id\": \"52fe48009251416c750acabb\", \"gender\": 0, \"id\": 1207253, \"name\": \"Chris Mala\", \"order\": 34}, {\"cast_id\": 55, \"character\": \"Troupe\", \"credit_id\": \"52fe48009251416c750acab3\", \"gender\": 0, \"id\": 1207251, \"name\": \"Taylor Kibby\", \"order\": 35}, {\"cast_id\": 56, \"character\": \"Troupe\", \"credit_id\": \"52fe48009251416c750acab7\", \"gender\": 0, \"id\": 1207252, \"name\": \"Jodie Landau\", \"order\": 36}, {\"cast_id\": 58, \"character\": \"Troupe\", \"credit_id\": \"52fe48009251416c750acabf\", \"gender\": 0, \"id\": 1207254, \"name\": \"Julie Lamm\", \"order\": 37}, {\"cast_id\": 59, \"character\": \"Troupe\", \"credit_id\": \"52fe48009251416c750acac3\", \"gender\": 0, \"id\": 1207257, \"name\": \"Cullen B. Madden\", \"order\": 38}, {\"cast_id\": 60, \"character\": \"Troupe\", \"credit_id\": \"52fe48009251416c750acac7\", \"gender\": 0, \"id\": 1207259, \"name\": \"Joseph Brady Madden\", \"order\": 39}, {\"cast_id\": 61, \"character\": \"Troupe\", \"credit_id\": \"52fe48009251416c750acacb\", \"gender\": 0, \"id\": 1207262, \"name\": \"Frankie Torres\", \"order\": 40}, {\"cast_id\": 62, \"character\": \"Troupe\", \"credit_id\": \"52fe48009251416c750acacf\", \"gender\": 1, \"id\": 1158600, \"name\": \"Austin Wilson\", \"order\": 41}, {\"cast_id\": 63, \"character\": \"Troupe\", \"credit_id\": \"52fe48019251416c750acad3\", \"gender\": 1, \"id\": 983705, \"name\": \"Sara Wilson\", \"order\": 42}, {\"cast_id\": 64, \"character\": \"Troupe\", \"credit_id\": \"52fe48019251416c750acad7\", \"gender\": 0, \"id\": 1207263, \"name\": \"Tamica Washington-Miller\", \"order\": 43}, {\"cast_id\": 65, \"character\": \"Op Center Staff\", \"credit_id\": \"52fe48019251416c750acadb\", \"gender\": 1, \"id\": 1145098, \"name\": \"Lucy Briant\", \"order\": 44}, {\"cast_id\": 66, \"character\": \"Op Center Staff\", \"credit_id\": \"52fe48019251416c750acadf\", \"gender\": 2, \"id\": 33305, \"name\": \"Nathan Meister\", \"order\": 45}, {\"cast_id\": 67, \"character\": \"Op Center Staff\", \"credit_id\": \"52fe48019251416c750acae3\", \"gender\": 0, \"id\": 1207264, \"name\": \"Gerry Blair\", \"order\": 46}, {\"cast_id\": 68, \"character\": \"Op Center Staff\", \"credit_id\": \"52fe48019251416c750acae7\", \"gender\": 2, \"id\": 33311, \"name\": \"Matthew Chamberlain\", \"order\": 47}, {\"cast_id\": 69, \"character\": \"Op Center Staff\", \"credit_id\": \"52fe48019251416c750acaeb\", \"gender\": 0, \"id\": 1207265, \"name\": \"Paul Yates\", \"order\": 48}, {\"cast_id\": 70, \"character\": \"Op Center Duty Officer\", \"credit_id\": \"52fe48019251416c750acaef\", \"gender\": 0, \"id\": 1207266, \"name\": \"Wray Wilson\", \"order\": 49}, {\"cast_id\": 71, \"character\": \"Op Center Staff\", \"credit_id\": \"52fe48019251416c750acaf3\", \"gender\": 2, \"id\": 54492, \"name\": \"James Gaylyn\", \"order\": 50}, {\"cast_id\": 72, \"character\": \"Dancer\", \"credit_id\": \"52fe48019251416c750acaf7\", \"gender\": 0, \"id\": 1207267, \"name\": \"Melvin Leno Clark III\", \"order\": 51}, {\"cast_id\": 73, \"character\": \"Dancer\", \"credit_id\": \"52fe48019251416c750acafb\", \"gender\": 0, \"id\": 1207268, \"name\": \"Carvon Futrell\", \"order\": 52}, {\"cast_id\": 74, \"character\": \"Dancer\", \"credit_id\": \"52fe48019251416c750acaff\", \"gender\": 0, \"id\": 1207269, \"name\": \"Brandon Jelkes\", \"order\": 53}, {\"cast_id\": 75, \"character\": \"Dancer\", \"credit_id\": \"52fe48019251416c750acb03\", \"gender\": 0, \"id\": 1207270, \"name\": \"Micah Moch\", \"order\": 54}, {\"cast_id\": 76, \"character\": \"Dancer\", \"credit_id\": \"52fe48019251416c750acb07\", \"gender\": 0, \"id\": 1207271, \"name\": \"Hanniyah Muhammad\", \"order\": 55}, {\"cast_id\": 77, \"character\": \"Dancer\", \"credit_id\": \"52fe48019251416c750acb0b\", \"gender\": 0, \"id\": 1207272, \"name\": \"Christopher Nolen\", \"order\": 56}, {\"cast_id\": 78, \"character\": \"Dancer\", \"credit_id\": \"52fe48019251416c750acb0f\", \"gender\": 0, \"id\": 1207273, \"name\": \"Christa Oliver\", \"order\": 57}, {\"cast_id\": 79, \"character\": \"Dancer\", \"credit_id\": \"52fe48019251416c750acb13\", \"gender\": 0, \"id\": 1207274, \"name\": \"April Marie Thomas\", \"order\": 58}, {\"cast_id\": 80, \"character\": \"Dancer\", \"credit_id\": \"52fe48019251416c750acb17\", \"gender\": 0, \"id\": 1207275, \"name\": \"Bravita A. Threatt\", \"order\": 59}, {\"cast_id\": 81, \"character\": \"Mining Chief (uncredited)\", \"credit_id\": \"52fe48019251416c750acb1b\", \"gender\": 0, \"id\": 1207276, \"name\": \"Colin Bleasdale\", \"order\": 60}, {\"cast_id\": 82, \"character\": \"Veteran Miner (uncredited)\", \"credit_id\": \"52fe48019251416c750acb1f\", \"gender\": 0, \"id\": 107969, \"name\": \"Mike Bodnar\", \"order\": 61}, {\"cast_id\": 83, \"character\": \"Richard (uncredited)\", \"credit_id\": \"52fe48019251416c750acb23\", \"gender\": 0, \"id\": 1207278, \"name\": \"Matt Clayton\", \"order\": 62}, {\"cast_id\": 84, \"character\": \"Nav\\'i (uncredited)\", \"credit_id\": \"52fe48019251416c750acb27\", \"gender\": 1, \"id\": 147898, \"name\": \"Nicole Dionne\", \"order\": 63}, {\"cast_id\": 85, \"character\": \"Trooper (uncredited)\", \"credit_id\": \"52fe48019251416c750acb2b\", \"gender\": 0, \"id\": 1207280, \"name\": \"Jamie Harrison\", \"order\": 64}, {\"cast_id\": 86, \"character\": \"Trooper (uncredited)\", \"credit_id\": \"52fe48019251416c750acb2f\", \"gender\": 0, \"id\": 1207281, \"name\": \"Allan Henry\", \"order\": 65}, {\"cast_id\": 87, \"character\": \"Ground Technician (uncredited)\", \"credit_id\": \"52fe48019251416c750acb33\", \"gender\": 2, \"id\": 1207282, \"name\": \"Anthony Ingruber\", \"order\": 66}, {\"cast_id\": 88, \"character\": \"Flight Crew Mechanic (uncredited)\", \"credit_id\": \"52fe48019251416c750acb37\", \"gender\": 0, \"id\": 1207283, \"name\": \"Ashley Jeffery\", \"order\": 67}, {\"cast_id\": 14, \"character\": \"Samson Pilot\", \"credit_id\": \"52fe48009251416c750ac9f9\", \"gender\": 0, \"id\": 98216, \"name\": \"Dean Knowsley\", \"order\": 68}, {\"cast_id\": 89, \"character\": \"Trooper (uncredited)\", \"credit_id\": \"52fe48019251416c750acb3b\", \"gender\": 0, \"id\": 1201399, \"name\": \"Joseph Mika-Hunt\", \"order\": 69}, {\"cast_id\": 90, \"character\": \"Banshee (uncredited)\", \"credit_id\": \"52fe48019251416c750acb3f\", \"gender\": 0, \"id\": 236696, \"name\": \"Terry Notary\", \"order\": 70}, {\"cast_id\": 91, \"character\": \"Soldier (uncredited)\", \"credit_id\": \"52fe48019251416c750acb43\", \"gender\": 0, \"id\": 1207287, \"name\": \"Kai Pantano\", \"order\": 71}, {\"cast_id\": 92, \"character\": \"Blast Technician (uncredited)\", \"credit_id\": \"52fe48019251416c750acb47\", \"gender\": 0, \"id\": 1207288, \"name\": \"Logan Pithyou\", \"order\": 72}, {\"cast_id\": 93, \"character\": \"Vindum Raah (uncredited)\", \"credit_id\": \"52fe48019251416c750acb4b\", \"gender\": 0, \"id\": 1207289, \"name\": \"Stuart Pollock\", \"order\": 73}, {\"cast_id\": 94, \"character\": \"Hero (uncredited)\", \"credit_id\": \"52fe48019251416c750acb4f\", \"gender\": 0, \"id\": 584868, \"name\": \"Raja\", \"order\": 74}, {\"cast_id\": 95, \"character\": \"Ops Centreworker (uncredited)\", \"credit_id\": \"52fe48019251416c750acb53\", \"gender\": 0, \"id\": 1207290, \"name\": \"Gareth Ruck\", \"order\": 75}, {\"cast_id\": 96, \"character\": \"Engineer (uncredited)\", \"credit_id\": \"52fe48019251416c750acb57\", \"gender\": 0, \"id\": 1062463, \"name\": \"Rhian Sheehan\", \"order\": 76}, {\"cast_id\": 97, \"character\": \"Col. Quaritch\\'s Mech Suit (uncredited)\", \"credit_id\": \"52fe48019251416c750acb5b\", \"gender\": 0, \"id\": 60656, \"name\": \"T. J. Storm\", \"order\": 77}, {\"cast_id\": 98, \"character\": \"Female Marine (uncredited)\", \"credit_id\": \"52fe48019251416c750acb5f\", \"gender\": 0, \"id\": 1207291, \"name\": \"Jodie Taylor\", \"order\": 78}, {\"cast_id\": 99, \"character\": \"Ikran Clan Leader (uncredited)\", \"credit_id\": \"52fe48019251416c750acb63\", \"gender\": 1, \"id\": 1186027, \"name\": \"Alicia Vela-Bailey\", \"order\": 79}, {\"cast_id\": 100, \"character\": \"Geologist (uncredited)\", \"credit_id\": \"52fe48019251416c750acb67\", \"gender\": 0, \"id\": 1207292, \"name\": \"Richard Whiteside\", \"order\": 80}, {\"cast_id\": 101, \"character\": \"Na\\'vi (uncredited)\", \"credit_id\": \"52fe48019251416c750acb6b\", \"gender\": 0, \"id\": 103259, \"name\": \"Nikie Zambo\", \"order\": 81}, {\"cast_id\": 102, \"character\": \"Ambient Room Tech / Troupe\", \"credit_id\": \"52fe48019251416c750acb6f\", \"gender\": 1, \"id\": 42286, \"name\": \"Julene Renee\", \"order\": 82}]'"
      ]
     },
     "execution_count": 26,
     "metadata": {},
     "output_type": "execute_result"
    }
   ],
   "source": [
    "movies['cast'][0]"
   ]
  },
  {
   "cell_type": "code",
   "execution_count": 27,
   "id": "21c08caa",
   "metadata": {
    "execution": {
     "iopub.execute_input": "2023-10-18T17:04:08.204427Z",
     "iopub.status.busy": "2023-10-18T17:04:08.204076Z",
     "iopub.status.idle": "2023-10-18T17:04:08.208803Z",
     "shell.execute_reply": "2023-10-18T17:04:08.207868Z"
    },
    "papermill": {
     "duration": 0.020476,
     "end_time": "2023-10-18T17:04:08.210651",
     "exception": false,
     "start_time": "2023-10-18T17:04:08.190175",
     "status": "completed"
    },
    "tags": []
   },
   "outputs": [],
   "source": [
    "def convert3(obj):\n",
    "    L = []\n",
    "    ct = 0\n",
    "    for i in ast.literal_eval(obj):\n",
    "        if ct!=5:\n",
    "            L.append(i['name'])\n",
    "            ct = ct+1\n",
    "        else:\n",
    "            break\n",
    "    return L"
   ]
  },
  {
   "cell_type": "code",
   "execution_count": 28,
   "id": "a66050ec",
   "metadata": {
    "execution": {
     "iopub.execute_input": "2023-10-18T17:04:08.238865Z",
     "iopub.status.busy": "2023-10-18T17:04:08.238547Z",
     "iopub.status.idle": "2023-10-18T17:04:11.370514Z",
     "shell.execute_reply": "2023-10-18T17:04:11.369391Z"
    },
    "papermill": {
     "duration": 3.148562,
     "end_time": "2023-10-18T17:04:11.372898",
     "exception": false,
     "start_time": "2023-10-18T17:04:08.224336",
     "status": "completed"
    },
    "tags": []
   },
   "outputs": [],
   "source": [
    "movies['cast'] = movies['cast'].apply(convert3)"
   ]
  },
  {
   "cell_type": "code",
   "execution_count": 29,
   "id": "f52b8b94",
   "metadata": {
    "execution": {
     "iopub.execute_input": "2023-10-18T17:04:11.400866Z",
     "iopub.status.busy": "2023-10-18T17:04:11.400495Z",
     "iopub.status.idle": "2023-10-18T17:04:11.407336Z",
     "shell.execute_reply": "2023-10-18T17:04:11.406492Z"
    },
    "papermill": {
     "duration": 0.023581,
     "end_time": "2023-10-18T17:04:11.409659",
     "exception": false,
     "start_time": "2023-10-18T17:04:11.386078",
     "status": "completed"
    },
    "tags": []
   },
   "outputs": [
    {
     "data": {
      "text/plain": [
       "'[{\"credit_id\": \"52fe48009251416c750aca23\", \"department\": \"Editing\", \"gender\": 0, \"id\": 1721, \"job\": \"Editor\", \"name\": \"Stephen E. Rivkin\"}, {\"credit_id\": \"539c47ecc3a36810e3001f87\", \"department\": \"Art\", \"gender\": 2, \"id\": 496, \"job\": \"Production Design\", \"name\": \"Rick Carter\"}, {\"credit_id\": \"54491c89c3a3680fb4001cf7\", \"department\": \"Sound\", \"gender\": 0, \"id\": 900, \"job\": \"Sound Designer\", \"name\": \"Christopher Boyes\"}, {\"credit_id\": \"54491cb70e0a267480001bd0\", \"department\": \"Sound\", \"gender\": 0, \"id\": 900, \"job\": \"Supervising Sound Editor\", \"name\": \"Christopher Boyes\"}, {\"credit_id\": \"539c4a4cc3a36810c9002101\", \"department\": \"Production\", \"gender\": 1, \"id\": 1262, \"job\": \"Casting\", \"name\": \"Mali Finn\"}, {\"credit_id\": \"5544ee3b925141499f0008fc\", \"department\": \"Sound\", \"gender\": 2, \"id\": 1729, \"job\": \"Original Music Composer\", \"name\": \"James Horner\"}, {\"credit_id\": \"52fe48009251416c750ac9c3\", \"department\": \"Directing\", \"gender\": 2, \"id\": 2710, \"job\": \"Director\", \"name\": \"James Cameron\"}, {\"credit_id\": \"52fe48009251416c750ac9d9\", \"department\": \"Writing\", \"gender\": 2, \"id\": 2710, \"job\": \"Writer\", \"name\": \"James Cameron\"}, {\"credit_id\": \"52fe48009251416c750aca17\", \"department\": \"Editing\", \"gender\": 2, \"id\": 2710, \"job\": \"Editor\", \"name\": \"James Cameron\"}, {\"credit_id\": \"52fe48009251416c750aca29\", \"department\": \"Production\", \"gender\": 2, \"id\": 2710, \"job\": \"Producer\", \"name\": \"James Cameron\"}, {\"credit_id\": \"52fe48009251416c750aca3f\", \"department\": \"Writing\", \"gender\": 2, \"id\": 2710, \"job\": \"Screenplay\", \"name\": \"James Cameron\"}, {\"credit_id\": \"539c4987c3a36810ba0021a4\", \"department\": \"Art\", \"gender\": 2, \"id\": 7236, \"job\": \"Art Direction\", \"name\": \"Andrew Menzies\"}, {\"credit_id\": \"549598c3c3a3686ae9004383\", \"department\": \"Visual Effects\", \"gender\": 0, \"id\": 6690, \"job\": \"Visual Effects Producer\", \"name\": \"Jill Brooks\"}, {\"credit_id\": \"52fe48009251416c750aca4b\", \"department\": \"Production\", \"gender\": 1, \"id\": 6347, \"job\": \"Casting\", \"name\": \"Margery Simkin\"}, {\"credit_id\": \"570b6f419251417da70032fe\", \"department\": \"Art\", \"gender\": 2, \"id\": 6878, \"job\": \"Supervising Art Director\", \"name\": \"Kevin Ishioka\"}, {\"credit_id\": \"5495a0fac3a3686ae9004468\", \"department\": \"Sound\", \"gender\": 0, \"id\": 6883, \"job\": \"Music Editor\", \"name\": \"Dick Bernstein\"}, {\"credit_id\": \"54959706c3a3686af3003e81\", \"department\": \"Sound\", \"gender\": 0, \"id\": 8159, \"job\": \"Sound Effects Editor\", \"name\": \"Shannon Mills\"}, {\"credit_id\": \"54491d58c3a3680fb1001ccb\", \"department\": \"Sound\", \"gender\": 0, \"id\": 8160, \"job\": \"Foley\", \"name\": \"Dennie Thorpe\"}, {\"credit_id\": \"54491d6cc3a3680fa5001b2c\", \"department\": \"Sound\", \"gender\": 0, \"id\": 8163, \"job\": \"Foley\", \"name\": \"Jana Vance\"}, {\"credit_id\": \"52fe48009251416c750aca57\", \"department\": \"Costume & Make-Up\", \"gender\": 1, \"id\": 8527, \"job\": \"Costume Design\", \"name\": \"Deborah Lynn Scott\"}, {\"credit_id\": \"52fe48009251416c750aca2f\", \"department\": \"Production\", \"gender\": 2, \"id\": 8529, \"job\": \"Producer\", \"name\": \"Jon Landau\"}, {\"credit_id\": \"539c4937c3a36810ba002194\", \"department\": \"Art\", \"gender\": 0, \"id\": 9618, \"job\": \"Art Direction\", \"name\": \"Sean Haworth\"}, {\"credit_id\": \"539c49b6c3a36810c10020e6\", \"department\": \"Art\", \"gender\": 1, \"id\": 12653, \"job\": \"Set Decoration\", \"name\": \"Kim Sinclair\"}, {\"credit_id\": \"570b6f2f9251413a0e00020d\", \"department\": \"Art\", \"gender\": 1, \"id\": 12653, \"job\": \"Supervising Art Director\", \"name\": \"Kim Sinclair\"}, {\"credit_id\": \"54491a6c0e0a26748c001b19\", \"department\": \"Art\", \"gender\": 2, \"id\": 14350, \"job\": \"Set Designer\", \"name\": \"Richard F. Mays\"}, {\"credit_id\": \"56928cf4c3a3684cff0025c4\", \"department\": \"Production\", \"gender\": 1, \"id\": 20294, \"job\": \"Executive Producer\", \"name\": \"Laeta Kalogridis\"}, {\"credit_id\": \"52fe48009251416c750aca51\", \"department\": \"Costume & Make-Up\", \"gender\": 0, \"id\": 17675, \"job\": \"Costume Design\", \"name\": \"Mayes C. Rubeo\"}, {\"credit_id\": \"52fe48009251416c750aca11\", \"department\": \"Camera\", \"gender\": 2, \"id\": 18265, \"job\": \"Director of Photography\", \"name\": \"Mauro Fiore\"}, {\"credit_id\": \"5449194d0e0a26748f001b39\", \"department\": \"Art\", \"gender\": 0, \"id\": 42281, \"job\": \"Set Designer\", \"name\": \"Scott Herbertson\"}, {\"credit_id\": \"52fe48009251416c750aca05\", \"department\": \"Crew\", \"gender\": 0, \"id\": 42288, \"job\": \"Stunts\", \"name\": \"Woody Schultz\"}, {\"credit_id\": \"5592aefb92514152de0010f5\", \"department\": \"Costume & Make-Up\", \"gender\": 0, \"id\": 29067, \"job\": \"Makeup Artist\", \"name\": \"Linda DeVetta\"}, {\"credit_id\": \"5592afa492514152de00112c\", \"department\": \"Costume & Make-Up\", \"gender\": 0, \"id\": 29067, \"job\": \"Hairstylist\", \"name\": \"Linda DeVetta\"}, {\"credit_id\": \"54959ed592514130fc002e5d\", \"department\": \"Camera\", \"gender\": 2, \"id\": 33302, \"job\": \"Camera Operator\", \"name\": \"Richard Bluck\"}, {\"credit_id\": \"539c4891c3a36810ba002147\", \"department\": \"Art\", \"gender\": 2, \"id\": 33303, \"job\": \"Art Direction\", \"name\": \"Simon Bright\"}, {\"credit_id\": \"54959c069251417a81001f3a\", \"department\": \"Visual Effects\", \"gender\": 0, \"id\": 113145, \"job\": \"Visual Effects Supervisor\", \"name\": \"Richard Martin\"}, {\"credit_id\": \"54959a0dc3a3680ff5002c8d\", \"department\": \"Crew\", \"gender\": 2, \"id\": 58188, \"job\": \"Visual Effects Editor\", \"name\": \"Steve R. Moore\"}, {\"credit_id\": \"52fe48009251416c750aca1d\", \"department\": \"Editing\", \"gender\": 2, \"id\": 58871, \"job\": \"Editor\", \"name\": \"John Refoua\"}, {\"credit_id\": \"54491a4dc3a3680fc30018ca\", \"department\": \"Art\", \"gender\": 0, \"id\": 92359, \"job\": \"Set Designer\", \"name\": \"Karl J. Martin\"}, {\"credit_id\": \"52fe48009251416c750aca35\", \"department\": \"Camera\", \"gender\": 1, \"id\": 72201, \"job\": \"Director of Photography\", \"name\": \"Chiling Lin\"}, {\"credit_id\": \"52fe48009251416c750ac9ff\", \"department\": \"Crew\", \"gender\": 0, \"id\": 89714, \"job\": \"Stunts\", \"name\": \"Ilram Choi\"}, {\"credit_id\": \"54959c529251416e2b004394\", \"department\": \"Visual Effects\", \"gender\": 2, \"id\": 93214, \"job\": \"Visual Effects Supervisor\", \"name\": \"Steven Quale\"}, {\"credit_id\": \"54491edf0e0a267489001c37\", \"department\": \"Crew\", \"gender\": 1, \"id\": 122607, \"job\": \"Dialect Coach\", \"name\": \"Carla Meyer\"}, {\"credit_id\": \"539c485bc3a368653d001a3a\", \"department\": \"Art\", \"gender\": 2, \"id\": 132585, \"job\": \"Art Direction\", \"name\": \"Nick Bassett\"}, {\"credit_id\": \"539c4903c3a368653d001a74\", \"department\": \"Art\", \"gender\": 0, \"id\": 132596, \"job\": \"Art Direction\", \"name\": \"Jill Cormack\"}, {\"credit_id\": \"539c4967c3a368653d001a94\", \"department\": \"Art\", \"gender\": 0, \"id\": 132604, \"job\": \"Art Direction\", \"name\": \"Andy McLaren\"}, {\"credit_id\": \"52fe48009251416c750aca45\", \"department\": \"Crew\", \"gender\": 0, \"id\": 236696, \"job\": \"Motion Capture Artist\", \"name\": \"Terry Notary\"}, {\"credit_id\": \"54959e02c3a3680fc60027d2\", \"department\": \"Crew\", \"gender\": 2, \"id\": 956198, \"job\": \"Stunt Coordinator\", \"name\": \"Garrett Warren\"}, {\"credit_id\": \"54959ca3c3a3686ae300438c\", \"department\": \"Visual Effects\", \"gender\": 2, \"id\": 957874, \"job\": \"Visual Effects Supervisor\", \"name\": \"Jonathan Rothbart\"}, {\"credit_id\": \"570b6f519251412c74001b2f\", \"department\": \"Art\", \"gender\": 0, \"id\": 957889, \"job\": \"Supervising Art Director\", \"name\": \"Stefan Dechant\"}, {\"credit_id\": \"570b6f62c3a3680b77007460\", \"department\": \"Art\", \"gender\": 2, \"id\": 959555, \"job\": \"Supervising Art Director\", \"name\": \"Todd Cherniawsky\"}, {\"credit_id\": \"539c4a3ac3a36810da0021cc\", \"department\": \"Production\", \"gender\": 0, \"id\": 1016177, \"job\": \"Casting\", \"name\": \"Miranda Rivers\"}, {\"credit_id\": \"539c482cc3a36810c1002062\", \"department\": \"Art\", \"gender\": 0, \"id\": 1032536, \"job\": \"Production Design\", \"name\": \"Robert Stromberg\"}, {\"credit_id\": \"539c4b65c3a36810c9002125\", \"department\": \"Costume & Make-Up\", \"gender\": 2, \"id\": 1071680, \"job\": \"Costume Design\", \"name\": \"John Harding\"}, {\"credit_id\": \"54959e6692514130fc002e4e\", \"department\": \"Camera\", \"gender\": 0, \"id\": 1177364, \"job\": \"Steadicam Operator\", \"name\": \"Roberto De Angelis\"}, {\"credit_id\": \"539c49f1c3a368653d001aac\", \"department\": \"Costume & Make-Up\", \"gender\": 2, \"id\": 1202850, \"job\": \"Makeup Department Head\", \"name\": \"Mike Smithson\"}, {\"credit_id\": \"5495999ec3a3686ae100460c\", \"department\": \"Visual Effects\", \"gender\": 0, \"id\": 1204668, \"job\": \"Visual Effects Producer\", \"name\": \"Alain Lalanne\"}, {\"credit_id\": \"54959cdfc3a3681153002729\", \"department\": \"Visual Effects\", \"gender\": 0, \"id\": 1206410, \"job\": \"Visual Effects Supervisor\", \"name\": \"Lucas Salton\"}, {\"credit_id\": \"549596239251417a81001eae\", \"department\": \"Crew\", \"gender\": 0, \"id\": 1234266, \"job\": \"Post Production Supervisor\", \"name\": \"Janace Tashjian\"}, {\"credit_id\": \"54959c859251416e1e003efe\", \"department\": \"Visual Effects\", \"gender\": 0, \"id\": 1271932, \"job\": \"Visual Effects Supervisor\", \"name\": \"Stephen Rosenbaum\"}, {\"credit_id\": \"5592af28c3a368775a00105f\", \"department\": \"Costume & Make-Up\", \"gender\": 0, \"id\": 1310064, \"job\": \"Makeup Artist\", \"name\": \"Frankie Karena\"}, {\"credit_id\": \"539c4adfc3a36810e300203b\", \"department\": \"Costume & Make-Up\", \"gender\": 1, \"id\": 1319844, \"job\": \"Costume Supervisor\", \"name\": \"Lisa Lovaas\"}, {\"credit_id\": \"54959b579251416e2b004371\", \"department\": \"Visual Effects\", \"gender\": 0, \"id\": 1327028, \"job\": \"Visual Effects Supervisor\", \"name\": \"Jonathan Fawkner\"}, {\"credit_id\": \"539c48a7c3a36810b5001fa7\", \"department\": \"Art\", \"gender\": 0, \"id\": 1330561, \"job\": \"Art Direction\", \"name\": \"Robert Bavin\"}, {\"credit_id\": \"539c4a71c3a36810da0021e0\", \"department\": \"Costume & Make-Up\", \"gender\": 0, \"id\": 1330567, \"job\": \"Costume Supervisor\", \"name\": \"Anthony Almaraz\"}, {\"credit_id\": \"539c4a8ac3a36810ba0021e4\", \"department\": \"Costume & Make-Up\", \"gender\": 0, \"id\": 1330570, \"job\": \"Costume Supervisor\", \"name\": \"Carolyn M. Fenton\"}, {\"credit_id\": \"539c4ab6c3a36810da0021f0\", \"department\": \"Costume & Make-Up\", \"gender\": 0, \"id\": 1330574, \"job\": \"Costume Supervisor\", \"name\": \"Beth Koenigsberg\"}, {\"credit_id\": \"54491ab70e0a267480001ba2\", \"department\": \"Art\", \"gender\": 0, \"id\": 1336191, \"job\": \"Set Designer\", \"name\": \"Sam Page\"}, {\"credit_id\": \"544919d9c3a3680fc30018bd\", \"department\": \"Art\", \"gender\": 0, \"id\": 1339441, \"job\": \"Set Designer\", \"name\": \"Tex Kadonaga\"}, {\"credit_id\": \"54491cf50e0a267483001b0c\", \"department\": \"Editing\", \"gender\": 0, \"id\": 1352422, \"job\": \"Dialogue Editor\", \"name\": \"Kim Foscato\"}, {\"credit_id\": \"544919f40e0a26748c001b09\", \"department\": \"Art\", \"gender\": 0, \"id\": 1352962, \"job\": \"Set Designer\", \"name\": \"Tammy S. Lee\"}, {\"credit_id\": \"5495a115c3a3680ff5002d71\", \"department\": \"Crew\", \"gender\": 0, \"id\": 1357070, \"job\": \"Transportation Coordinator\", \"name\": \"Denny Caira\"}, {\"credit_id\": \"5495a12f92514130fc002e94\", \"department\": \"Crew\", \"gender\": 0, \"id\": 1357071, \"job\": \"Transportation Coordinator\", \"name\": \"James Waitkus\"}, {\"credit_id\": \"5495976fc3a36811530026b0\", \"department\": \"Sound\", \"gender\": 0, \"id\": 1360103, \"job\": \"Supervising Sound Editor\", \"name\": \"Addison Teague\"}, {\"credit_id\": \"54491837c3a3680fb1001c5a\", \"department\": \"Art\", \"gender\": 2, \"id\": 1376887, \"job\": \"Set Designer\", \"name\": \"C. Scott Baker\"}, {\"credit_id\": \"54491878c3a3680fb4001c9d\", \"department\": \"Art\", \"gender\": 0, \"id\": 1376888, \"job\": \"Set Designer\", \"name\": \"Luke Caska\"}, {\"credit_id\": \"544918dac3a3680fa5001ae0\", \"department\": \"Art\", \"gender\": 0, \"id\": 1376889, \"job\": \"Set Designer\", \"name\": \"David Chow\"}, {\"credit_id\": \"544919110e0a267486001b68\", \"department\": \"Art\", \"gender\": 0, \"id\": 1376890, \"job\": \"Set Designer\", \"name\": \"Jonathan Dyer\"}, {\"credit_id\": \"54491967c3a3680faa001b5e\", \"department\": \"Art\", \"gender\": 0, \"id\": 1376891, \"job\": \"Set Designer\", \"name\": \"Joseph Hiura\"}, {\"credit_id\": \"54491997c3a3680fb1001c8a\", \"department\": \"Art\", \"gender\": 0, \"id\": 1376892, \"job\": \"Art Department Coordinator\", \"name\": \"Rebecca Jellie\"}, {\"credit_id\": \"544919ba0e0a26748f001b42\", \"department\": \"Art\", \"gender\": 0, \"id\": 1376893, \"job\": \"Set Designer\", \"name\": \"Robert Andrew Johnson\"}, {\"credit_id\": \"54491b1dc3a3680faa001b8c\", \"department\": \"Art\", \"gender\": 0, \"id\": 1376895, \"job\": \"Assistant Art Director\", \"name\": \"Mike Stassi\"}, {\"credit_id\": \"54491b79c3a3680fbb001826\", \"department\": \"Art\", \"gender\": 0, \"id\": 1376897, \"job\": \"Construction Coordinator\", \"name\": \"John Villarino\"}, {\"credit_id\": \"54491baec3a3680fb4001ce6\", \"department\": \"Art\", \"gender\": 2, \"id\": 1376898, \"job\": \"Assistant Art Director\", \"name\": \"Jeffrey Wisniewski\"}, {\"credit_id\": \"54491d2fc3a3680fb4001d07\", \"department\": \"Editing\", \"gender\": 0, \"id\": 1376899, \"job\": \"Dialogue Editor\", \"name\": \"Cheryl Nardi\"}, {\"credit_id\": \"54491d86c3a3680fa5001b2f\", \"department\": \"Editing\", \"gender\": 0, \"id\": 1376901, \"job\": \"Dialogue Editor\", \"name\": \"Marshall Winn\"}, {\"credit_id\": \"54491d9dc3a3680faa001bb0\", \"department\": \"Sound\", \"gender\": 0, \"id\": 1376902, \"job\": \"Supervising Sound Editor\", \"name\": \"Gwendolyn Yates Whittle\"}, {\"credit_id\": \"54491dc10e0a267486001bce\", \"department\": \"Sound\", \"gender\": 0, \"id\": 1376903, \"job\": \"Sound Re-Recording Mixer\", \"name\": \"William Stein\"}, {\"credit_id\": \"54491f500e0a26747c001c07\", \"department\": \"Crew\", \"gender\": 0, \"id\": 1376909, \"job\": \"Choreographer\", \"name\": \"Lula Washington\"}, {\"credit_id\": \"549599239251412c4e002a2e\", \"department\": \"Visual Effects\", \"gender\": 0, \"id\": 1391692, \"job\": \"Visual Effects Producer\", \"name\": \"Chris Del Conte\"}, {\"credit_id\": \"54959d54c3a36831b8001d9a\", \"department\": \"Visual Effects\", \"gender\": 2, \"id\": 1391695, \"job\": \"Visual Effects Supervisor\", \"name\": \"R. Christopher White\"}, {\"credit_id\": \"54959bdf9251412c4e002a66\", \"department\": \"Visual Effects\", \"gender\": 0, \"id\": 1394070, \"job\": \"Visual Effects Supervisor\", \"name\": \"Dan Lemmon\"}, {\"credit_id\": \"5495971d92514132ed002922\", \"department\": \"Sound\", \"gender\": 0, \"id\": 1394129, \"job\": \"Sound Effects Editor\", \"name\": \"Tim Nielsen\"}, {\"credit_id\": \"5592b25792514152cc0011aa\", \"department\": \"Crew\", \"gender\": 0, \"id\": 1394286, \"job\": \"CG Supervisor\", \"name\": \"Michael Mulholland\"}, {\"credit_id\": \"54959a329251416e2b004355\", \"department\": \"Crew\", \"gender\": 0, \"id\": 1394750, \"job\": \"Visual Effects Editor\", \"name\": \"Thomas Nittmann\"}, {\"credit_id\": \"54959d6dc3a3686ae9004401\", \"department\": \"Visual Effects\", \"gender\": 0, \"id\": 1394755, \"job\": \"Visual Effects Supervisor\", \"name\": \"Edson Williams\"}, {\"credit_id\": \"5495a08fc3a3686ae300441c\", \"department\": \"Editing\", \"gender\": 0, \"id\": 1394953, \"job\": \"Digital Intermediate\", \"name\": \"Christine Carr\"}, {\"credit_id\": \"55402d659251413d6d000249\", \"department\": \"Visual Effects\", \"gender\": 0, \"id\": 1395269, \"job\": \"Visual Effects Supervisor\", \"name\": \"John Bruno\"}, {\"credit_id\": \"54959e7b9251416e1e003f3e\", \"department\": \"Camera\", \"gender\": 0, \"id\": 1398970, \"job\": \"Steadicam Operator\", \"name\": \"David Emmerichs\"}, {\"credit_id\": \"54959734c3a3686ae10045e0\", \"department\": \"Sound\", \"gender\": 0, \"id\": 1400906, \"job\": \"Sound Effects Editor\", \"name\": \"Christopher Scarabosio\"}, {\"credit_id\": \"549595dd92514130fc002d79\", \"department\": \"Production\", \"gender\": 0, \"id\": 1401784, \"job\": \"Production Supervisor\", \"name\": \"Jennifer Teves\"}, {\"credit_id\": \"549596009251413af70028cc\", \"department\": \"Production\", \"gender\": 0, \"id\": 1401785, \"job\": \"Production Manager\", \"name\": \"Brigitte Yorke\"}, {\"credit_id\": \"549596e892514130fc002d99\", \"department\": \"Sound\", \"gender\": 0, \"id\": 1401786, \"job\": \"Sound Effects Editor\", \"name\": \"Ken Fischer\"}, {\"credit_id\": \"549598229251412c4e002a1c\", \"department\": \"Crew\", \"gender\": 0, \"id\": 1401787, \"job\": \"Special Effects Coordinator\", \"name\": \"Iain Hutton\"}, {\"credit_id\": \"549598349251416e2b00432b\", \"department\": \"Crew\", \"gender\": 0, \"id\": 1401788, \"job\": \"Special Effects Coordinator\", \"name\": \"Steve Ingram\"}, {\"credit_id\": \"54959905c3a3686ae3004324\", \"department\": \"Visual Effects\", \"gender\": 0, \"id\": 1401789, \"job\": \"Visual Effects Producer\", \"name\": \"Joyce Cox\"}, {\"credit_id\": \"5495994b92514132ed002951\", \"department\": \"Visual Effects\", \"gender\": 0, \"id\": 1401790, \"job\": \"Visual Effects Producer\", \"name\": \"Jenny Foster\"}, {\"credit_id\": \"549599cbc3a3686ae1004613\", \"department\": \"Crew\", \"gender\": 0, \"id\": 1401791, \"job\": \"Visual Effects Editor\", \"name\": \"Christopher Marino\"}, {\"credit_id\": \"549599f2c3a3686ae100461e\", \"department\": \"Crew\", \"gender\": 0, \"id\": 1401792, \"job\": \"Visual Effects Editor\", \"name\": \"Jim Milton\"}, {\"credit_id\": \"54959a51c3a3686af3003eb5\", \"department\": \"Visual Effects\", \"gender\": 0, \"id\": 1401793, \"job\": \"Visual Effects Producer\", \"name\": \"Cyndi Ochs\"}, {\"credit_id\": \"54959a7cc3a36811530026f4\", \"department\": \"Crew\", \"gender\": 0, \"id\": 1401794, \"job\": \"Visual Effects Editor\", \"name\": \"Lucas Putnam\"}, {\"credit_id\": \"54959b91c3a3680ff5002cb4\", \"department\": \"Visual Effects\", \"gender\": 0, \"id\": 1401795, \"job\": \"Visual Effects Supervisor\", \"name\": \"Anthony \\'Max\\' Ivins\"}, {\"credit_id\": \"54959bb69251412c4e002a5f\", \"department\": \"Visual Effects\", \"gender\": 0, \"id\": 1401796, \"job\": \"Visual Effects Supervisor\", \"name\": \"John Knoll\"}, {\"credit_id\": \"54959cbbc3a3686ae3004391\", \"department\": \"Visual Effects\", \"gender\": 2, \"id\": 1401799, \"job\": \"Visual Effects Supervisor\", \"name\": \"Eric Saindon\"}, {\"credit_id\": \"54959d06c3a3686ae90043f6\", \"department\": \"Visual Effects\", \"gender\": 0, \"id\": 1401800, \"job\": \"Visual Effects Supervisor\", \"name\": \"Wayne Stables\"}, {\"credit_id\": \"54959d259251416e1e003f11\", \"department\": \"Visual Effects\", \"gender\": 0, \"id\": 1401801, \"job\": \"Visual Effects Supervisor\", \"name\": \"David Stinnett\"}, {\"credit_id\": \"54959db49251413af7002975\", \"department\": \"Visual Effects\", \"gender\": 0, \"id\": 1401803, \"job\": \"Visual Effects Supervisor\", \"name\": \"Guy Williams\"}, {\"credit_id\": \"54959de4c3a3681153002750\", \"department\": \"Crew\", \"gender\": 0, \"id\": 1401804, \"job\": \"Stunt Coordinator\", \"name\": \"Stuart Thorp\"}, {\"credit_id\": \"54959ef2c3a3680fc60027f2\", \"department\": \"Lighting\", \"gender\": 0, \"id\": 1401805, \"job\": \"Best Boy Electric\", \"name\": \"Giles Coburn\"}, {\"credit_id\": \"54959f07c3a3680fc60027f9\", \"department\": \"Camera\", \"gender\": 2, \"id\": 1401806, \"job\": \"Still Photographer\", \"name\": \"Mark Fellman\"}, {\"credit_id\": \"54959f47c3a3681153002774\", \"department\": \"Lighting\", \"gender\": 0, \"id\": 1401807, \"job\": \"Lighting Technician\", \"name\": \"Scott Sprague\"}, {\"credit_id\": \"54959f8cc3a36831b8001df2\", \"department\": \"Visual Effects\", \"gender\": 0, \"id\": 1401808, \"job\": \"Animation Director\", \"name\": \"Jeremy Hollobon\"}, {\"credit_id\": \"54959fa0c3a36831b8001dfb\", \"department\": \"Visual Effects\", \"gender\": 0, \"id\": 1401809, \"job\": \"Animation Director\", \"name\": \"Orlando Meunier\"}, {\"credit_id\": \"54959fb6c3a3686af3003f54\", \"department\": \"Visual Effects\", \"gender\": 0, \"id\": 1401810, \"job\": \"Animation Director\", \"name\": \"Taisuke Tanimura\"}, {\"credit_id\": \"54959fd2c3a36831b8001e02\", \"department\": \"Costume & Make-Up\", \"gender\": 0, \"id\": 1401812, \"job\": \"Set Costumer\", \"name\": \"Lilia Mishel Acevedo\"}, {\"credit_id\": \"54959ff9c3a3686ae300440c\", \"department\": \"Costume & Make-Up\", \"gender\": 0, \"id\": 1401814, \"job\": \"Set Costumer\", \"name\": \"Alejandro M. Hernandez\"}, {\"credit_id\": \"5495a0ddc3a3686ae10046fe\", \"department\": \"Editing\", \"gender\": 0, \"id\": 1401815, \"job\": \"Digital Intermediate\", \"name\": \"Marvin Hall\"}, {\"credit_id\": \"5495a1f7c3a3686ae3004443\", \"department\": \"Production\", \"gender\": 0, \"id\": 1401816, \"job\": \"Publicist\", \"name\": \"Judy Alley\"}, {\"credit_id\": \"5592b29fc3a36869d100002f\", \"department\": \"Crew\", \"gender\": 0, \"id\": 1418381, \"job\": \"CG Supervisor\", \"name\": \"Mike Perry\"}, {\"credit_id\": \"5592b23a9251415df8001081\", \"department\": \"Crew\", \"gender\": 0, \"id\": 1426854, \"job\": \"CG Supervisor\", \"name\": \"Andrew Morley\"}, {\"credit_id\": \"55491e1192514104c40002d8\", \"department\": \"Art\", \"gender\": 0, \"id\": 1438901, \"job\": \"Conceptual Design\", \"name\": \"Seth Engstrom\"}, {\"credit_id\": \"5525d5809251417276002b06\", \"department\": \"Crew\", \"gender\": 0, \"id\": 1447362, \"job\": \"Visual Effects Art Director\", \"name\": \"Eric Oliver\"}, {\"credit_id\": \"554427ca925141586500312a\", \"department\": \"Visual Effects\", \"gender\": 0, \"id\": 1447503, \"job\": \"Modeling\", \"name\": \"Matsune Suzuki\"}, {\"credit_id\": \"551906889251415aab001c88\", \"department\": \"Art\", \"gender\": 0, \"id\": 1447524, \"job\": \"Art Department Manager\", \"name\": \"Paul Tobin\"}, {\"credit_id\": \"5592af8492514152cc0010de\", \"department\": \"Costume & Make-Up\", \"gender\": 0, \"id\": 1452643, \"job\": \"Hairstylist\", \"name\": \"Roxane Griffin\"}, {\"credit_id\": \"553d3c109251415852001318\", \"department\": \"Lighting\", \"gender\": 0, \"id\": 1453938, \"job\": \"Lighting Artist\", \"name\": \"Arun Ram-Mohan\"}, {\"credit_id\": \"5592af4692514152d5001355\", \"department\": \"Costume & Make-Up\", \"gender\": 0, \"id\": 1457305, \"job\": \"Makeup Artist\", \"name\": \"Georgia Lockhart-Adams\"}, {\"credit_id\": \"5592b2eac3a36877470012a5\", \"department\": \"Crew\", \"gender\": 0, \"id\": 1466035, \"job\": \"CG Supervisor\", \"name\": \"Thrain Shadbolt\"}, {\"credit_id\": \"5592b032c3a36877450015f1\", \"department\": \"Crew\", \"gender\": 0, \"id\": 1483220, \"job\": \"CG Supervisor\", \"name\": \"Brad Alexander\"}, {\"credit_id\": \"5592b05592514152d80012f6\", \"department\": \"Crew\", \"gender\": 0, \"id\": 1483221, \"job\": \"CG Supervisor\", \"name\": \"Shadi Almassizadeh\"}, {\"credit_id\": \"5592b090c3a36877570010b5\", \"department\": \"Crew\", \"gender\": 0, \"id\": 1483222, \"job\": \"CG Supervisor\", \"name\": \"Simon Clutterbuck\"}, {\"credit_id\": \"5592b0dbc3a368774b00112c\", \"department\": \"Crew\", \"gender\": 0, \"id\": 1483223, \"job\": \"CG Supervisor\", \"name\": \"Graeme Demmocks\"}, {\"credit_id\": \"5592b0fe92514152db0010c1\", \"department\": \"Crew\", \"gender\": 0, \"id\": 1483224, \"job\": \"CG Supervisor\", \"name\": \"Adrian Fernandes\"}, {\"credit_id\": \"5592b11f9251415df8001059\", \"department\": \"Crew\", \"gender\": 0, \"id\": 1483225, \"job\": \"CG Supervisor\", \"name\": \"Mitch Gates\"}, {\"credit_id\": \"5592b15dc3a3687745001645\", \"department\": \"Crew\", \"gender\": 0, \"id\": 1483226, \"job\": \"CG Supervisor\", \"name\": \"Jerry Kung\"}, {\"credit_id\": \"5592b18e925141645a0004ae\", \"department\": \"Crew\", \"gender\": 0, \"id\": 1483227, \"job\": \"CG Supervisor\", \"name\": \"Andy Lomas\"}, {\"credit_id\": \"5592b1bfc3a368775d0010e7\", \"department\": \"Crew\", \"gender\": 0, \"id\": 1483228, \"job\": \"CG Supervisor\", \"name\": \"Sebastian Marino\"}, {\"credit_id\": \"5592b2049251415df8001078\", \"department\": \"Crew\", \"gender\": 0, \"id\": 1483229, \"job\": \"CG Supervisor\", \"name\": \"Matthias Menz\"}, {\"credit_id\": \"5592b27b92514152d800136a\", \"department\": \"Crew\", \"gender\": 0, \"id\": 1483230, \"job\": \"CG Supervisor\", \"name\": \"Sergei Nevshupov\"}, {\"credit_id\": \"5592b2c3c3a36869e800003c\", \"department\": \"Crew\", \"gender\": 0, \"id\": 1483231, \"job\": \"CG Supervisor\", \"name\": \"Philippe Rebours\"}, {\"credit_id\": \"5592b317c3a36877470012af\", \"department\": \"Crew\", \"gender\": 0, \"id\": 1483232, \"job\": \"CG Supervisor\", \"name\": \"Michael Takarangi\"}, {\"credit_id\": \"5592b345c3a36877470012bb\", \"department\": \"Crew\", \"gender\": 0, \"id\": 1483233, \"job\": \"CG Supervisor\", \"name\": \"David Weitzberg\"}, {\"credit_id\": \"5592b37cc3a368775100113b\", \"department\": \"Crew\", \"gender\": 0, \"id\": 1483234, \"job\": \"CG Supervisor\", \"name\": \"Ben White\"}, {\"credit_id\": \"573c8e2f9251413f5d000094\", \"department\": \"Crew\", \"gender\": 1, \"id\": 1621932, \"job\": \"Stunts\", \"name\": \"Min Windle\"}]'"
      ]
     },
     "execution_count": 29,
     "metadata": {},
     "output_type": "execute_result"
    }
   ],
   "source": [
    "movies['crew'][0]"
   ]
  },
  {
   "cell_type": "code",
   "execution_count": 30,
   "id": "7abc8b27",
   "metadata": {
    "execution": {
     "iopub.execute_input": "2023-10-18T17:04:11.437516Z",
     "iopub.status.busy": "2023-10-18T17:04:11.437171Z",
     "iopub.status.idle": "2023-10-18T17:04:11.443333Z",
     "shell.execute_reply": "2023-10-18T17:04:11.442390Z"
    },
    "papermill": {
     "duration": 0.022457,
     "end_time": "2023-10-18T17:04:11.445295",
     "exception": false,
     "start_time": "2023-10-18T17:04:11.422838",
     "status": "completed"
    },
    "tags": []
   },
   "outputs": [],
   "source": [
    "#This function extracts the name of the first person whose job is 'Director' .\n",
    "def fetch_director(obj):\n",
    "    L = []\n",
    "    for i in ast.literal_eval(obj):\n",
    "        if i['job']=='Director':\n",
    "            L.append(i['name'])\n",
    "            break\n",
    "    return L"
   ]
  },
  {
   "cell_type": "code",
   "execution_count": 31,
   "id": "e548892b",
   "metadata": {
    "execution": {
     "iopub.execute_input": "2023-10-18T17:04:11.473112Z",
     "iopub.status.busy": "2023-10-18T17:04:11.472812Z",
     "iopub.status.idle": "2023-10-18T17:04:15.036772Z",
     "shell.execute_reply": "2023-10-18T17:04:15.035741Z"
    },
    "papermill": {
     "duration": 3.580195,
     "end_time": "2023-10-18T17:04:15.038969",
     "exception": false,
     "start_time": "2023-10-18T17:04:11.458774",
     "status": "completed"
    },
    "tags": []
   },
   "outputs": [],
   "source": [
    "movies['crew'] = movies['crew'].apply(fetch_director)"
   ]
  },
  {
   "cell_type": "code",
   "execution_count": 32,
   "id": "b3c3e4fa",
   "metadata": {
    "execution": {
     "iopub.execute_input": "2023-10-18T17:04:15.068058Z",
     "iopub.status.busy": "2023-10-18T17:04:15.067749Z",
     "iopub.status.idle": "2023-10-18T17:04:15.083873Z",
     "shell.execute_reply": "2023-10-18T17:04:15.082837Z"
    },
    "papermill": {
     "duration": 0.033105,
     "end_time": "2023-10-18T17:04:15.085764",
     "exception": false,
     "start_time": "2023-10-18T17:04:15.052659",
     "status": "completed"
    },
    "scrolled": true,
    "tags": []
   },
   "outputs": [
    {
     "data": {
      "text/html": [
       "<div>\n",
       "<style scoped>\n",
       "    .dataframe tbody tr th:only-of-type {\n",
       "        vertical-align: middle;\n",
       "    }\n",
       "\n",
       "    .dataframe tbody tr th {\n",
       "        vertical-align: top;\n",
       "    }\n",
       "\n",
       "    .dataframe thead th {\n",
       "        text-align: right;\n",
       "    }\n",
       "</style>\n",
       "<table border=\"1\" class=\"dataframe\">\n",
       "  <thead>\n",
       "    <tr style=\"text-align: right;\">\n",
       "      <th></th>\n",
       "      <th>genres</th>\n",
       "      <th>id</th>\n",
       "      <th>keywords</th>\n",
       "      <th>title</th>\n",
       "      <th>overview</th>\n",
       "      <th>cast</th>\n",
       "      <th>crew</th>\n",
       "    </tr>\n",
       "  </thead>\n",
       "  <tbody>\n",
       "    <tr>\n",
       "      <th>0</th>\n",
       "      <td>[Action, Adventure, Fantasy, Science Fiction]</td>\n",
       "      <td>19995</td>\n",
       "      <td>[culture clash, future, space war, space colon...</td>\n",
       "      <td>Avatar</td>\n",
       "      <td>In the 22nd century, a paraplegic Marine is di...</td>\n",
       "      <td>[Sam Worthington, Zoe Saldana, Sigourney Weave...</td>\n",
       "      <td>[James Cameron]</td>\n",
       "    </tr>\n",
       "    <tr>\n",
       "      <th>1</th>\n",
       "      <td>[Adventure, Fantasy, Action]</td>\n",
       "      <td>285</td>\n",
       "      <td>[ocean, drug abuse, exotic island, east india ...</td>\n",
       "      <td>Pirates of the Caribbean: At World's End</td>\n",
       "      <td>Captain Barbossa, long believed to be dead, ha...</td>\n",
       "      <td>[Johnny Depp, Orlando Bloom, Keira Knightley, ...</td>\n",
       "      <td>[Gore Verbinski]</td>\n",
       "    </tr>\n",
       "    <tr>\n",
       "      <th>2</th>\n",
       "      <td>[Action, Adventure, Crime]</td>\n",
       "      <td>206647</td>\n",
       "      <td>[spy, based on novel, secret agent, sequel, mi...</td>\n",
       "      <td>Spectre</td>\n",
       "      <td>A cryptic message from Bond’s past sends him o...</td>\n",
       "      <td>[Daniel Craig, Christoph Waltz, Léa Seydoux, R...</td>\n",
       "      <td>[Sam Mendes]</td>\n",
       "    </tr>\n",
       "    <tr>\n",
       "      <th>3</th>\n",
       "      <td>[Action, Crime, Drama, Thriller]</td>\n",
       "      <td>49026</td>\n",
       "      <td>[dc comics, crime fighter, terrorist, secret i...</td>\n",
       "      <td>The Dark Knight Rises</td>\n",
       "      <td>Following the death of District Attorney Harve...</td>\n",
       "      <td>[Christian Bale, Michael Caine, Gary Oldman, A...</td>\n",
       "      <td>[Christopher Nolan]</td>\n",
       "    </tr>\n",
       "    <tr>\n",
       "      <th>4</th>\n",
       "      <td>[Action, Adventure, Science Fiction]</td>\n",
       "      <td>49529</td>\n",
       "      <td>[based on novel, mars, medallion, space travel...</td>\n",
       "      <td>John Carter</td>\n",
       "      <td>John Carter is a war-weary, former military ca...</td>\n",
       "      <td>[Taylor Kitsch, Lynn Collins, Samantha Morton,...</td>\n",
       "      <td>[Andrew Stanton]</td>\n",
       "    </tr>\n",
       "    <tr>\n",
       "      <th>5</th>\n",
       "      <td>[Fantasy, Action, Adventure]</td>\n",
       "      <td>559</td>\n",
       "      <td>[dual identity, amnesia, sandstorm, love of on...</td>\n",
       "      <td>Spider-Man 3</td>\n",
       "      <td>The seemingly invincible Spider-Man goes up ag...</td>\n",
       "      <td>[Tobey Maguire, Kirsten Dunst, James Franco, T...</td>\n",
       "      <td>[Sam Raimi]</td>\n",
       "    </tr>\n",
       "    <tr>\n",
       "      <th>6</th>\n",
       "      <td>[Animation, Family]</td>\n",
       "      <td>38757</td>\n",
       "      <td>[hostage, magic, horse, fairy tale, musical, p...</td>\n",
       "      <td>Tangled</td>\n",
       "      <td>When the kingdom's most wanted-and most charmi...</td>\n",
       "      <td>[Zachary Levi, Mandy Moore, Donna Murphy, Ron ...</td>\n",
       "      <td>[Byron Howard]</td>\n",
       "    </tr>\n",
       "    <tr>\n",
       "      <th>7</th>\n",
       "      <td>[Action, Adventure, Science Fiction]</td>\n",
       "      <td>99861</td>\n",
       "      <td>[marvel comic, sequel, superhero, based on com...</td>\n",
       "      <td>Avengers: Age of Ultron</td>\n",
       "      <td>When Tony Stark tries to jumpstart a dormant p...</td>\n",
       "      <td>[Robert Downey Jr., Chris Hemsworth, Mark Ruff...</td>\n",
       "      <td>[Joss Whedon]</td>\n",
       "    </tr>\n",
       "    <tr>\n",
       "      <th>8</th>\n",
       "      <td>[Adventure, Fantasy, Family]</td>\n",
       "      <td>767</td>\n",
       "      <td>[witch, magic, broom, school of witchcraft, wi...</td>\n",
       "      <td>Harry Potter and the Half-Blood Prince</td>\n",
       "      <td>As Harry begins his sixth year at Hogwarts, he...</td>\n",
       "      <td>[Daniel Radcliffe, Rupert Grint, Emma Watson, ...</td>\n",
       "      <td>[David Yates]</td>\n",
       "    </tr>\n",
       "    <tr>\n",
       "      <th>9</th>\n",
       "      <td>[Action, Adventure, Fantasy]</td>\n",
       "      <td>209112</td>\n",
       "      <td>[dc comics, vigilante, superhero, based on com...</td>\n",
       "      <td>Batman v Superman: Dawn of Justice</td>\n",
       "      <td>Fearing the actions of a god-like Super Hero l...</td>\n",
       "      <td>[Ben Affleck, Henry Cavill, Gal Gadot, Amy Ada...</td>\n",
       "      <td>[Zack Snyder]</td>\n",
       "    </tr>\n",
       "  </tbody>\n",
       "</table>\n",
       "</div>"
      ],
      "text/plain": [
       "                                          genres      id  \\\n",
       "0  [Action, Adventure, Fantasy, Science Fiction]   19995   \n",
       "1                   [Adventure, Fantasy, Action]     285   \n",
       "2                     [Action, Adventure, Crime]  206647   \n",
       "3               [Action, Crime, Drama, Thriller]   49026   \n",
       "4           [Action, Adventure, Science Fiction]   49529   \n",
       "5                   [Fantasy, Action, Adventure]     559   \n",
       "6                            [Animation, Family]   38757   \n",
       "7           [Action, Adventure, Science Fiction]   99861   \n",
       "8                   [Adventure, Fantasy, Family]     767   \n",
       "9                   [Action, Adventure, Fantasy]  209112   \n",
       "\n",
       "                                            keywords  \\\n",
       "0  [culture clash, future, space war, space colon...   \n",
       "1  [ocean, drug abuse, exotic island, east india ...   \n",
       "2  [spy, based on novel, secret agent, sequel, mi...   \n",
       "3  [dc comics, crime fighter, terrorist, secret i...   \n",
       "4  [based on novel, mars, medallion, space travel...   \n",
       "5  [dual identity, amnesia, sandstorm, love of on...   \n",
       "6  [hostage, magic, horse, fairy tale, musical, p...   \n",
       "7  [marvel comic, sequel, superhero, based on com...   \n",
       "8  [witch, magic, broom, school of witchcraft, wi...   \n",
       "9  [dc comics, vigilante, superhero, based on com...   \n",
       "\n",
       "                                      title  \\\n",
       "0                                    Avatar   \n",
       "1  Pirates of the Caribbean: At World's End   \n",
       "2                                   Spectre   \n",
       "3                     The Dark Knight Rises   \n",
       "4                               John Carter   \n",
       "5                              Spider-Man 3   \n",
       "6                                   Tangled   \n",
       "7                   Avengers: Age of Ultron   \n",
       "8    Harry Potter and the Half-Blood Prince   \n",
       "9        Batman v Superman: Dawn of Justice   \n",
       "\n",
       "                                            overview  \\\n",
       "0  In the 22nd century, a paraplegic Marine is di...   \n",
       "1  Captain Barbossa, long believed to be dead, ha...   \n",
       "2  A cryptic message from Bond’s past sends him o...   \n",
       "3  Following the death of District Attorney Harve...   \n",
       "4  John Carter is a war-weary, former military ca...   \n",
       "5  The seemingly invincible Spider-Man goes up ag...   \n",
       "6  When the kingdom's most wanted-and most charmi...   \n",
       "7  When Tony Stark tries to jumpstart a dormant p...   \n",
       "8  As Harry begins his sixth year at Hogwarts, he...   \n",
       "9  Fearing the actions of a god-like Super Hero l...   \n",
       "\n",
       "                                                cast                 crew  \n",
       "0  [Sam Worthington, Zoe Saldana, Sigourney Weave...      [James Cameron]  \n",
       "1  [Johnny Depp, Orlando Bloom, Keira Knightley, ...     [Gore Verbinski]  \n",
       "2  [Daniel Craig, Christoph Waltz, Léa Seydoux, R...         [Sam Mendes]  \n",
       "3  [Christian Bale, Michael Caine, Gary Oldman, A...  [Christopher Nolan]  \n",
       "4  [Taylor Kitsch, Lynn Collins, Samantha Morton,...     [Andrew Stanton]  \n",
       "5  [Tobey Maguire, Kirsten Dunst, James Franco, T...          [Sam Raimi]  \n",
       "6  [Zachary Levi, Mandy Moore, Donna Murphy, Ron ...       [Byron Howard]  \n",
       "7  [Robert Downey Jr., Chris Hemsworth, Mark Ruff...        [Joss Whedon]  \n",
       "8  [Daniel Radcliffe, Rupert Grint, Emma Watson, ...        [David Yates]  \n",
       "9  [Ben Affleck, Henry Cavill, Gal Gadot, Amy Ada...        [Zack Snyder]  "
      ]
     },
     "execution_count": 32,
     "metadata": {},
     "output_type": "execute_result"
    }
   ],
   "source": [
    "movies.head(10)"
   ]
  },
  {
   "cell_type": "code",
   "execution_count": 33,
   "id": "9a0b9c9a",
   "metadata": {
    "execution": {
     "iopub.execute_input": "2023-10-18T17:04:15.115328Z",
     "iopub.status.busy": "2023-10-18T17:04:15.114738Z",
     "iopub.status.idle": "2023-10-18T17:04:15.151754Z",
     "shell.execute_reply": "2023-10-18T17:04:15.150208Z"
    },
    "papermill": {
     "duration": 0.054586,
     "end_time": "2023-10-18T17:04:15.154203",
     "exception": false,
     "start_time": "2023-10-18T17:04:15.099617",
     "status": "completed"
    },
    "tags": []
   },
   "outputs": [],
   "source": [
    "# Converting overview (string) into List\n",
    "movies['overview'] = movies['overview'].apply(lambda x:x.split())"
   ]
  },
  {
   "cell_type": "code",
   "execution_count": 34,
   "id": "fb7f3f47",
   "metadata": {
    "execution": {
     "iopub.execute_input": "2023-10-18T17:04:15.183058Z",
     "iopub.status.busy": "2023-10-18T17:04:15.182554Z",
     "iopub.status.idle": "2023-10-18T17:04:15.296730Z",
     "shell.execute_reply": "2023-10-18T17:04:15.295403Z"
    },
    "papermill": {
     "duration": 0.131224,
     "end_time": "2023-10-18T17:04:15.299081",
     "exception": false,
     "start_time": "2023-10-18T17:04:15.167857",
     "status": "completed"
    },
    "tags": []
   },
   "outputs": [],
   "source": [
    "# Removing spaces between words\n",
    "movies['genres'] = movies['genres'].apply(lambda x: [i.replace(\" \",\"\") for i in x])\n",
    "movies['keywords'] = movies['keywords'].apply(lambda x: [i.replace(\" \",\"\") for i in x])\n",
    "movies['cast'] = movies['cast'].apply(lambda x: [i.replace(\" \",\"\") for i in x])\n",
    "movies['crew'] = movies['crew'].apply(lambda x: [i.replace(\" \",\"\") for i in x])"
   ]
  },
  {
   "cell_type": "code",
   "execution_count": 35,
   "id": "0251acf4",
   "metadata": {
    "execution": {
     "iopub.execute_input": "2023-10-18T17:04:15.327816Z",
     "iopub.status.busy": "2023-10-18T17:04:15.327497Z",
     "iopub.status.idle": "2023-10-18T17:04:15.345532Z",
     "shell.execute_reply": "2023-10-18T17:04:15.344522Z"
    },
    "papermill": {
     "duration": 0.034261,
     "end_time": "2023-10-18T17:04:15.347299",
     "exception": false,
     "start_time": "2023-10-18T17:04:15.313038",
     "status": "completed"
    },
    "tags": []
   },
   "outputs": [
    {
     "data": {
      "text/html": [
       "<div>\n",
       "<style scoped>\n",
       "    .dataframe tbody tr th:only-of-type {\n",
       "        vertical-align: middle;\n",
       "    }\n",
       "\n",
       "    .dataframe tbody tr th {\n",
       "        vertical-align: top;\n",
       "    }\n",
       "\n",
       "    .dataframe thead th {\n",
       "        text-align: right;\n",
       "    }\n",
       "</style>\n",
       "<table border=\"1\" class=\"dataframe\">\n",
       "  <thead>\n",
       "    <tr style=\"text-align: right;\">\n",
       "      <th></th>\n",
       "      <th>genres</th>\n",
       "      <th>id</th>\n",
       "      <th>keywords</th>\n",
       "      <th>title</th>\n",
       "      <th>overview</th>\n",
       "      <th>cast</th>\n",
       "      <th>crew</th>\n",
       "    </tr>\n",
       "  </thead>\n",
       "  <tbody>\n",
       "    <tr>\n",
       "      <th>0</th>\n",
       "      <td>[Action, Adventure, Fantasy, ScienceFiction]</td>\n",
       "      <td>19995</td>\n",
       "      <td>[cultureclash, future, spacewar, spacecolony, ...</td>\n",
       "      <td>Avatar</td>\n",
       "      <td>[In, the, 22nd, century,, a, paraplegic, Marin...</td>\n",
       "      <td>[SamWorthington, ZoeSaldana, SigourneyWeaver, ...</td>\n",
       "      <td>[JamesCameron]</td>\n",
       "    </tr>\n",
       "    <tr>\n",
       "      <th>1</th>\n",
       "      <td>[Adventure, Fantasy, Action]</td>\n",
       "      <td>285</td>\n",
       "      <td>[ocean, drugabuse, exoticisland, eastindiatrad...</td>\n",
       "      <td>Pirates of the Caribbean: At World's End</td>\n",
       "      <td>[Captain, Barbossa,, long, believed, to, be, d...</td>\n",
       "      <td>[JohnnyDepp, OrlandoBloom, KeiraKnightley, Ste...</td>\n",
       "      <td>[GoreVerbinski]</td>\n",
       "    </tr>\n",
       "    <tr>\n",
       "      <th>2</th>\n",
       "      <td>[Action, Adventure, Crime]</td>\n",
       "      <td>206647</td>\n",
       "      <td>[spy, basedonnovel, secretagent, sequel, mi6, ...</td>\n",
       "      <td>Spectre</td>\n",
       "      <td>[A, cryptic, message, from, Bond’s, past, send...</td>\n",
       "      <td>[DanielCraig, ChristophWaltz, LéaSeydoux, Ralp...</td>\n",
       "      <td>[SamMendes]</td>\n",
       "    </tr>\n",
       "    <tr>\n",
       "      <th>3</th>\n",
       "      <td>[Action, Crime, Drama, Thriller]</td>\n",
       "      <td>49026</td>\n",
       "      <td>[dccomics, crimefighter, terrorist, secretiden...</td>\n",
       "      <td>The Dark Knight Rises</td>\n",
       "      <td>[Following, the, death, of, District, Attorney...</td>\n",
       "      <td>[ChristianBale, MichaelCaine, GaryOldman, Anne...</td>\n",
       "      <td>[ChristopherNolan]</td>\n",
       "    </tr>\n",
       "    <tr>\n",
       "      <th>4</th>\n",
       "      <td>[Action, Adventure, ScienceFiction]</td>\n",
       "      <td>49529</td>\n",
       "      <td>[basedonnovel, mars, medallion, spacetravel, p...</td>\n",
       "      <td>John Carter</td>\n",
       "      <td>[John, Carter, is, a, war-weary,, former, mili...</td>\n",
       "      <td>[TaylorKitsch, LynnCollins, SamanthaMorton, Wi...</td>\n",
       "      <td>[AndrewStanton]</td>\n",
       "    </tr>\n",
       "  </tbody>\n",
       "</table>\n",
       "</div>"
      ],
      "text/plain": [
       "                                         genres      id  \\\n",
       "0  [Action, Adventure, Fantasy, ScienceFiction]   19995   \n",
       "1                  [Adventure, Fantasy, Action]     285   \n",
       "2                    [Action, Adventure, Crime]  206647   \n",
       "3              [Action, Crime, Drama, Thriller]   49026   \n",
       "4           [Action, Adventure, ScienceFiction]   49529   \n",
       "\n",
       "                                            keywords  \\\n",
       "0  [cultureclash, future, spacewar, spacecolony, ...   \n",
       "1  [ocean, drugabuse, exoticisland, eastindiatrad...   \n",
       "2  [spy, basedonnovel, secretagent, sequel, mi6, ...   \n",
       "3  [dccomics, crimefighter, terrorist, secretiden...   \n",
       "4  [basedonnovel, mars, medallion, spacetravel, p...   \n",
       "\n",
       "                                      title  \\\n",
       "0                                    Avatar   \n",
       "1  Pirates of the Caribbean: At World's End   \n",
       "2                                   Spectre   \n",
       "3                     The Dark Knight Rises   \n",
       "4                               John Carter   \n",
       "\n",
       "                                            overview  \\\n",
       "0  [In, the, 22nd, century,, a, paraplegic, Marin...   \n",
       "1  [Captain, Barbossa,, long, believed, to, be, d...   \n",
       "2  [A, cryptic, message, from, Bond’s, past, send...   \n",
       "3  [Following, the, death, of, District, Attorney...   \n",
       "4  [John, Carter, is, a, war-weary,, former, mili...   \n",
       "\n",
       "                                                cast                crew  \n",
       "0  [SamWorthington, ZoeSaldana, SigourneyWeaver, ...      [JamesCameron]  \n",
       "1  [JohnnyDepp, OrlandoBloom, KeiraKnightley, Ste...     [GoreVerbinski]  \n",
       "2  [DanielCraig, ChristophWaltz, LéaSeydoux, Ralp...         [SamMendes]  \n",
       "3  [ChristianBale, MichaelCaine, GaryOldman, Anne...  [ChristopherNolan]  \n",
       "4  [TaylorKitsch, LynnCollins, SamanthaMorton, Wi...     [AndrewStanton]  "
      ]
     },
     "execution_count": 35,
     "metadata": {},
     "output_type": "execute_result"
    }
   ],
   "source": [
    "movies.head()"
   ]
  },
  {
   "cell_type": "code",
   "execution_count": 36,
   "id": "9532b015",
   "metadata": {
    "execution": {
     "iopub.execute_input": "2023-10-18T17:04:15.376462Z",
     "iopub.status.busy": "2023-10-18T17:04:15.376126Z",
     "iopub.status.idle": "2023-10-18T17:04:15.424400Z",
     "shell.execute_reply": "2023-10-18T17:04:15.423434Z"
    },
    "papermill": {
     "duration": 0.064983,
     "end_time": "2023-10-18T17:04:15.426308",
     "exception": false,
     "start_time": "2023-10-18T17:04:15.361325",
     "status": "completed"
    },
    "tags": []
   },
   "outputs": [],
   "source": [
    "#cooncatinating 'overview' , 'genres' ,'keywords' + 'cast' + 'crew' into a one column\n",
    "movies['tags'] = movies['overview'] + movies['genres'] + movies['keywords'] + movies['cast'] + movies['crew']"
   ]
  },
  {
   "cell_type": "code",
   "execution_count": 37,
   "id": "02d2eb3a",
   "metadata": {
    "execution": {
     "iopub.execute_input": "2023-10-18T17:04:15.455873Z",
     "iopub.status.busy": "2023-10-18T17:04:15.455548Z",
     "iopub.status.idle": "2023-10-18T17:04:15.460891Z",
     "shell.execute_reply": "2023-10-18T17:04:15.459787Z"
    },
    "papermill": {
     "duration": 0.022262,
     "end_time": "2023-10-18T17:04:15.462696",
     "exception": false,
     "start_time": "2023-10-18T17:04:15.440434",
     "status": "completed"
    },
    "tags": []
   },
   "outputs": [],
   "source": [
    "new_df = movies[['id','title','tags']]"
   ]
  },
  {
   "cell_type": "code",
   "execution_count": 38,
   "id": "a0db5083",
   "metadata": {
    "execution": {
     "iopub.execute_input": "2023-10-18T17:04:15.491715Z",
     "iopub.status.busy": "2023-10-18T17:04:15.491331Z",
     "iopub.status.idle": "2023-10-18T17:04:15.506259Z",
     "shell.execute_reply": "2023-10-18T17:04:15.505419Z"
    },
    "papermill": {
     "duration": 0.031597,
     "end_time": "2023-10-18T17:04:15.508008",
     "exception": false,
     "start_time": "2023-10-18T17:04:15.476411",
     "status": "completed"
    },
    "tags": []
   },
   "outputs": [
    {
     "data": {
      "text/html": [
       "<div>\n",
       "<style scoped>\n",
       "    .dataframe tbody tr th:only-of-type {\n",
       "        vertical-align: middle;\n",
       "    }\n",
       "\n",
       "    .dataframe tbody tr th {\n",
       "        vertical-align: top;\n",
       "    }\n",
       "\n",
       "    .dataframe thead th {\n",
       "        text-align: right;\n",
       "    }\n",
       "</style>\n",
       "<table border=\"1\" class=\"dataframe\">\n",
       "  <thead>\n",
       "    <tr style=\"text-align: right;\">\n",
       "      <th></th>\n",
       "      <th>id</th>\n",
       "      <th>title</th>\n",
       "      <th>tags</th>\n",
       "    </tr>\n",
       "  </thead>\n",
       "  <tbody>\n",
       "    <tr>\n",
       "      <th>0</th>\n",
       "      <td>19995</td>\n",
       "      <td>Avatar</td>\n",
       "      <td>[In, the, 22nd, century,, a, paraplegic, Marin...</td>\n",
       "    </tr>\n",
       "    <tr>\n",
       "      <th>1</th>\n",
       "      <td>285</td>\n",
       "      <td>Pirates of the Caribbean: At World's End</td>\n",
       "      <td>[Captain, Barbossa,, long, believed, to, be, d...</td>\n",
       "    </tr>\n",
       "    <tr>\n",
       "      <th>2</th>\n",
       "      <td>206647</td>\n",
       "      <td>Spectre</td>\n",
       "      <td>[A, cryptic, message, from, Bond’s, past, send...</td>\n",
       "    </tr>\n",
       "    <tr>\n",
       "      <th>3</th>\n",
       "      <td>49026</td>\n",
       "      <td>The Dark Knight Rises</td>\n",
       "      <td>[Following, the, death, of, District, Attorney...</td>\n",
       "    </tr>\n",
       "    <tr>\n",
       "      <th>4</th>\n",
       "      <td>49529</td>\n",
       "      <td>John Carter</td>\n",
       "      <td>[John, Carter, is, a, war-weary,, former, mili...</td>\n",
       "    </tr>\n",
       "    <tr>\n",
       "      <th>...</th>\n",
       "      <td>...</td>\n",
       "      <td>...</td>\n",
       "      <td>...</td>\n",
       "    </tr>\n",
       "    <tr>\n",
       "      <th>4804</th>\n",
       "      <td>9367</td>\n",
       "      <td>El Mariachi</td>\n",
       "      <td>[El, Mariachi, just, wants, to, play, his, gui...</td>\n",
       "    </tr>\n",
       "    <tr>\n",
       "      <th>4805</th>\n",
       "      <td>72766</td>\n",
       "      <td>Newlyweds</td>\n",
       "      <td>[A, newlywed, couple's, honeymoon, is, upended...</td>\n",
       "    </tr>\n",
       "    <tr>\n",
       "      <th>4806</th>\n",
       "      <td>231617</td>\n",
       "      <td>Signed, Sealed, Delivered</td>\n",
       "      <td>[\"Signed,, Sealed,, Delivered\", introduces, a,...</td>\n",
       "    </tr>\n",
       "    <tr>\n",
       "      <th>4807</th>\n",
       "      <td>126186</td>\n",
       "      <td>Shanghai Calling</td>\n",
       "      <td>[When, ambitious, New, York, attorney, Sam, is...</td>\n",
       "    </tr>\n",
       "    <tr>\n",
       "      <th>4808</th>\n",
       "      <td>25975</td>\n",
       "      <td>My Date with Drew</td>\n",
       "      <td>[Ever, since, the, second, grade, when, he, fi...</td>\n",
       "    </tr>\n",
       "  </tbody>\n",
       "</table>\n",
       "<p>4806 rows × 3 columns</p>\n",
       "</div>"
      ],
      "text/plain": [
       "          id                                     title  \\\n",
       "0      19995                                    Avatar   \n",
       "1        285  Pirates of the Caribbean: At World's End   \n",
       "2     206647                                   Spectre   \n",
       "3      49026                     The Dark Knight Rises   \n",
       "4      49529                               John Carter   \n",
       "...      ...                                       ...   \n",
       "4804    9367                               El Mariachi   \n",
       "4805   72766                                 Newlyweds   \n",
       "4806  231617                 Signed, Sealed, Delivered   \n",
       "4807  126186                          Shanghai Calling   \n",
       "4808   25975                         My Date with Drew   \n",
       "\n",
       "                                                   tags  \n",
       "0     [In, the, 22nd, century,, a, paraplegic, Marin...  \n",
       "1     [Captain, Barbossa,, long, believed, to, be, d...  \n",
       "2     [A, cryptic, message, from, Bond’s, past, send...  \n",
       "3     [Following, the, death, of, District, Attorney...  \n",
       "4     [John, Carter, is, a, war-weary,, former, mili...  \n",
       "...                                                 ...  \n",
       "4804  [El, Mariachi, just, wants, to, play, his, gui...  \n",
       "4805  [A, newlywed, couple's, honeymoon, is, upended...  \n",
       "4806  [\"Signed,, Sealed,, Delivered\", introduces, a,...  \n",
       "4807  [When, ambitious, New, York, attorney, Sam, is...  \n",
       "4808  [Ever, since, the, second, grade, when, he, fi...  \n",
       "\n",
       "[4806 rows x 3 columns]"
      ]
     },
     "execution_count": 38,
     "metadata": {},
     "output_type": "execute_result"
    }
   ],
   "source": [
    "new_df"
   ]
  },
  {
   "cell_type": "code",
   "execution_count": 39,
   "id": "f2ade856",
   "metadata": {
    "execution": {
     "iopub.execute_input": "2023-10-18T17:04:15.538178Z",
     "iopub.status.busy": "2023-10-18T17:04:15.537110Z",
     "iopub.status.idle": "2023-10-18T17:04:15.541563Z",
     "shell.execute_reply": "2023-10-18T17:04:15.540642Z"
    },
    "papermill": {
     "duration": 0.021189,
     "end_time": "2023-10-18T17:04:15.543403",
     "exception": false,
     "start_time": "2023-10-18T17:04:15.522214",
     "status": "completed"
    },
    "tags": []
   },
   "outputs": [],
   "source": [
    "# Converting this list of tags into a string"
   ]
  },
  {
   "cell_type": "code",
   "execution_count": 40,
   "id": "9cee0633",
   "metadata": {
    "execution": {
     "iopub.execute_input": "2023-10-18T17:04:15.572823Z",
     "iopub.status.busy": "2023-10-18T17:04:15.572476Z",
     "iopub.status.idle": "2023-10-18T17:04:15.589747Z",
     "shell.execute_reply": "2023-10-18T17:04:15.588307Z"
    },
    "papermill": {
     "duration": 0.034294,
     "end_time": "2023-10-18T17:04:15.591931",
     "exception": false,
     "start_time": "2023-10-18T17:04:15.557637",
     "status": "completed"
    },
    "tags": []
   },
   "outputs": [
    {
     "name": "stderr",
     "output_type": "stream",
     "text": [
      "C:\\Users\\prate\\AppData\\Local\\Temp\\ipykernel_1596\\3089450492.py:1: SettingWithCopyWarning: \n",
      "A value is trying to be set on a copy of a slice from a DataFrame.\n",
      "Try using .loc[row_indexer,col_indexer] = value instead\n",
      "\n",
      "See the caveats in the documentation: https://pandas.pydata.org/pandas-docs/stable/user_guide/indexing.html#returning-a-view-versus-a-copy\n",
      "  new_df['tags'] = new_df['tags'].apply(lambda x:\" \".join(x))\n"
     ]
    }
   ],
   "source": [
    "new_df['tags'] = new_df['tags'].apply(lambda x:\" \".join(x))"
   ]
  },
  {
   "cell_type": "code",
   "execution_count": 41,
   "id": "8cdf0e26",
   "metadata": {
    "execution": {
     "iopub.execute_input": "2023-10-18T17:04:15.621242Z",
     "iopub.status.busy": "2023-10-18T17:04:15.620911Z",
     "iopub.status.idle": "2023-10-18T17:04:15.627172Z",
     "shell.execute_reply": "2023-10-18T17:04:15.626271Z"
    },
    "papermill": {
     "duration": 0.022894,
     "end_time": "2023-10-18T17:04:15.628995",
     "exception": false,
     "start_time": "2023-10-18T17:04:15.606101",
     "status": "completed"
    },
    "tags": []
   },
   "outputs": [
    {
     "data": {
      "text/plain": [
       "'In the 22nd century, a paraplegic Marine is dispatched to the moon Pandora on a unique mission, but becomes torn between following orders and protecting an alien civilization. Action Adventure Fantasy ScienceFiction cultureclash future spacewar spacecolony society spacetravel futuristic romance space alien tribe alienplanet cgi marine soldier battle loveaffair antiwar powerrelations mindandsoul 3d SamWorthington ZoeSaldana SigourneyWeaver StephenLang MichelleRodriguez JamesCameron'"
      ]
     },
     "execution_count": 41,
     "metadata": {},
     "output_type": "execute_result"
    }
   ],
   "source": [
    "new_df['tags'][0]"
   ]
  },
  {
   "cell_type": "code",
   "execution_count": 42,
   "id": "5cca967a",
   "metadata": {
    "execution": {
     "iopub.execute_input": "2023-10-18T17:04:15.659267Z",
     "iopub.status.busy": "2023-10-18T17:04:15.658703Z",
     "iopub.status.idle": "2023-10-18T17:04:15.662020Z",
     "shell.execute_reply": "2023-10-18T17:04:15.661396Z"
    },
    "papermill": {
     "duration": 0.020443,
     "end_time": "2023-10-18T17:04:15.663672",
     "exception": false,
     "start_time": "2023-10-18T17:04:15.643229",
     "status": "completed"
    },
    "tags": []
   },
   "outputs": [],
   "source": [
    "# Converting all lowercase letters into lowercase"
   ]
  },
  {
   "cell_type": "code",
   "execution_count": 43,
   "id": "05cdebcc",
   "metadata": {
    "execution": {
     "iopub.execute_input": "2023-10-18T17:04:15.694058Z",
     "iopub.status.busy": "2023-10-18T17:04:15.693450Z",
     "iopub.status.idle": "2023-10-18T17:04:15.708305Z",
     "shell.execute_reply": "2023-10-18T17:04:15.707616Z"
    },
    "papermill": {
     "duration": 0.032213,
     "end_time": "2023-10-18T17:04:15.710370",
     "exception": false,
     "start_time": "2023-10-18T17:04:15.678157",
     "status": "completed"
    },
    "tags": []
   },
   "outputs": [
    {
     "name": "stderr",
     "output_type": "stream",
     "text": [
      "C:\\Users\\prate\\AppData\\Local\\Temp\\ipykernel_1596\\3214958533.py:1: SettingWithCopyWarning: \n",
      "A value is trying to be set on a copy of a slice from a DataFrame.\n",
      "Try using .loc[row_indexer,col_indexer] = value instead\n",
      "\n",
      "See the caveats in the documentation: https://pandas.pydata.org/pandas-docs/stable/user_guide/indexing.html#returning-a-view-versus-a-copy\n",
      "  new_df['tags'] = new_df['tags'].apply(lambda x:x.lower())\n"
     ]
    }
   ],
   "source": [
    "new_df['tags'] = new_df['tags'].apply(lambda x:x.lower())"
   ]
  },
  {
   "cell_type": "code",
   "execution_count": 44,
   "id": "69d00d0b",
   "metadata": {
    "execution": {
     "iopub.execute_input": "2023-10-18T17:04:15.740386Z",
     "iopub.status.busy": "2023-10-18T17:04:15.739781Z",
     "iopub.status.idle": "2023-10-18T17:04:15.748239Z",
     "shell.execute_reply": "2023-10-18T17:04:15.747617Z"
    },
    "papermill": {
     "duration": 0.025146,
     "end_time": "2023-10-18T17:04:15.749845",
     "exception": false,
     "start_time": "2023-10-18T17:04:15.724699",
     "status": "completed"
    },
    "tags": []
   },
   "outputs": [
    {
     "data": {
      "text/html": [
       "<div>\n",
       "<style scoped>\n",
       "    .dataframe tbody tr th:only-of-type {\n",
       "        vertical-align: middle;\n",
       "    }\n",
       "\n",
       "    .dataframe tbody tr th {\n",
       "        vertical-align: top;\n",
       "    }\n",
       "\n",
       "    .dataframe thead th {\n",
       "        text-align: right;\n",
       "    }\n",
       "</style>\n",
       "<table border=\"1\" class=\"dataframe\">\n",
       "  <thead>\n",
       "    <tr style=\"text-align: right;\">\n",
       "      <th></th>\n",
       "      <th>id</th>\n",
       "      <th>title</th>\n",
       "      <th>tags</th>\n",
       "    </tr>\n",
       "  </thead>\n",
       "  <tbody>\n",
       "    <tr>\n",
       "      <th>0</th>\n",
       "      <td>19995</td>\n",
       "      <td>Avatar</td>\n",
       "      <td>in the 22nd century, a paraplegic marine is di...</td>\n",
       "    </tr>\n",
       "    <tr>\n",
       "      <th>1</th>\n",
       "      <td>285</td>\n",
       "      <td>Pirates of the Caribbean: At World's End</td>\n",
       "      <td>captain barbossa, long believed to be dead, ha...</td>\n",
       "    </tr>\n",
       "    <tr>\n",
       "      <th>2</th>\n",
       "      <td>206647</td>\n",
       "      <td>Spectre</td>\n",
       "      <td>a cryptic message from bond’s past sends him o...</td>\n",
       "    </tr>\n",
       "    <tr>\n",
       "      <th>3</th>\n",
       "      <td>49026</td>\n",
       "      <td>The Dark Knight Rises</td>\n",
       "      <td>following the death of district attorney harve...</td>\n",
       "    </tr>\n",
       "    <tr>\n",
       "      <th>4</th>\n",
       "      <td>49529</td>\n",
       "      <td>John Carter</td>\n",
       "      <td>john carter is a war-weary, former military ca...</td>\n",
       "    </tr>\n",
       "  </tbody>\n",
       "</table>\n",
       "</div>"
      ],
      "text/plain": [
       "       id                                     title  \\\n",
       "0   19995                                    Avatar   \n",
       "1     285  Pirates of the Caribbean: At World's End   \n",
       "2  206647                                   Spectre   \n",
       "3   49026                     The Dark Knight Rises   \n",
       "4   49529                               John Carter   \n",
       "\n",
       "                                                tags  \n",
       "0  in the 22nd century, a paraplegic marine is di...  \n",
       "1  captain barbossa, long believed to be dead, ha...  \n",
       "2  a cryptic message from bond’s past sends him o...  \n",
       "3  following the death of district attorney harve...  \n",
       "4  john carter is a war-weary, former military ca...  "
      ]
     },
     "execution_count": 44,
     "metadata": {},
     "output_type": "execute_result"
    }
   ],
   "source": [
    "new_df.head()"
   ]
  },
  {
   "cell_type": "code",
   "execution_count": 45,
   "id": "2465b90e",
   "metadata": {
    "execution": {
     "iopub.execute_input": "2023-10-18T17:04:15.780424Z",
     "iopub.status.busy": "2023-10-18T17:04:15.779451Z",
     "iopub.status.idle": "2023-10-18T17:04:15.784007Z",
     "shell.execute_reply": "2023-10-18T17:04:15.783058Z"
    },
    "papermill": {
     "duration": 0.021709,
     "end_time": "2023-10-18T17:04:15.785877",
     "exception": false,
     "start_time": "2023-10-18T17:04:15.764168",
     "status": "completed"
    },
    "tags": []
   },
   "outputs": [],
   "source": [
    "# Now we will use stemming using nltk library to remove same words like love, loving, loved"
   ]
  },
  {
   "cell_type": "code",
   "execution_count": 46,
   "id": "6f1c113f",
   "metadata": {},
   "outputs": [],
   "source": [
    "#! pip3 install nltk"
   ]
  },
  {
   "cell_type": "code",
   "execution_count": 47,
   "id": "45a63be2",
   "metadata": {
    "execution": {
     "iopub.execute_input": "2023-10-18T17:04:15.815713Z",
     "iopub.status.busy": "2023-10-18T17:04:15.815330Z",
     "iopub.status.idle": "2023-10-18T17:04:17.491861Z",
     "shell.execute_reply": "2023-10-18T17:04:17.490775Z"
    },
    "papermill": {
     "duration": 1.693769,
     "end_time": "2023-10-18T17:04:17.494144",
     "exception": false,
     "start_time": "2023-10-18T17:04:15.800375",
     "status": "completed"
    },
    "tags": []
   },
   "outputs": [],
   "source": [
    "import nltk"
   ]
  },
  {
   "cell_type": "code",
   "execution_count": 48,
   "id": "b61becad",
   "metadata": {
    "execution": {
     "iopub.execute_input": "2023-10-18T17:04:17.525704Z",
     "iopub.status.busy": "2023-10-18T17:04:17.524752Z",
     "iopub.status.idle": "2023-10-18T17:04:17.528948Z",
     "shell.execute_reply": "2023-10-18T17:04:17.528128Z"
    },
    "papermill": {
     "duration": 0.021596,
     "end_time": "2023-10-18T17:04:17.530674",
     "exception": false,
     "start_time": "2023-10-18T17:04:17.509078",
     "status": "completed"
    },
    "tags": []
   },
   "outputs": [],
   "source": [
    "from nltk.stem.porter import PorterStemmer\n",
    "ps = PorterStemmer()"
   ]
  },
  {
   "cell_type": "code",
   "execution_count": 49,
   "id": "ccef5913",
   "metadata": {
    "execution": {
     "iopub.execute_input": "2023-10-18T17:04:17.561329Z",
     "iopub.status.busy": "2023-10-18T17:04:17.560636Z",
     "iopub.status.idle": "2023-10-18T17:04:17.566726Z",
     "shell.execute_reply": "2023-10-18T17:04:17.565771Z"
    },
    "papermill": {
     "duration": 0.023355,
     "end_time": "2023-10-18T17:04:17.568563",
     "exception": false,
     "start_time": "2023-10-18T17:04:17.545208",
     "status": "completed"
    },
    "tags": []
   },
   "outputs": [
    {
     "data": {
      "text/plain": [
       "'walk'"
      ]
     },
     "execution_count": 49,
     "metadata": {},
     "output_type": "execute_result"
    }
   ],
   "source": [
    "ps.stem('walked')\n"
   ]
  },
  {
   "cell_type": "code",
   "execution_count": 50,
   "id": "304f0658",
   "metadata": {
    "execution": {
     "iopub.execute_input": "2023-10-18T17:04:17.600449Z",
     "iopub.status.busy": "2023-10-18T17:04:17.599551Z",
     "iopub.status.idle": "2023-10-18T17:04:17.603904Z",
     "shell.execute_reply": "2023-10-18T17:04:17.603286Z"
    },
    "papermill": {
     "duration": 0.022103,
     "end_time": "2023-10-18T17:04:17.605559",
     "exception": false,
     "start_time": "2023-10-18T17:04:17.583456",
     "status": "completed"
    },
    "tags": []
   },
   "outputs": [],
   "source": [
    "def stem(text):\n",
    "    y = []\n",
    "    \n",
    "    # Converting string into list\n",
    "    \n",
    "    for i in text.split():\n",
    "        y.append(ps.stem(i))\n",
    "        \n",
    "    # Again converting list into string\n",
    "    return \" \".join(y)"
   ]
  },
  {
   "cell_type": "code",
   "execution_count": 51,
   "id": "a738dd8a",
   "metadata": {
    "execution": {
     "iopub.execute_input": "2023-10-18T17:04:17.636329Z",
     "iopub.status.busy": "2023-10-18T17:04:17.635780Z",
     "iopub.status.idle": "2023-10-18T17:04:23.156419Z",
     "shell.execute_reply": "2023-10-18T17:04:23.155472Z"
    },
    "papermill": {
     "duration": 5.5382,
     "end_time": "2023-10-18T17:04:23.158428",
     "exception": false,
     "start_time": "2023-10-18T17:04:17.620228",
     "status": "completed"
    },
    "tags": []
   },
   "outputs": [
    {
     "name": "stderr",
     "output_type": "stream",
     "text": [
      "C:\\Users\\prate\\AppData\\Local\\Temp\\ipykernel_1596\\3213734980.py:1: SettingWithCopyWarning: \n",
      "A value is trying to be set on a copy of a slice from a DataFrame.\n",
      "Try using .loc[row_indexer,col_indexer] = value instead\n",
      "\n",
      "See the caveats in the documentation: https://pandas.pydata.org/pandas-docs/stable/user_guide/indexing.html#returning-a-view-versus-a-copy\n",
      "  new_df['tags'] = new_df['tags'].apply(stem)\n"
     ]
    }
   ],
   "source": [
    "new_df['tags'] = new_df['tags'].apply(stem)"
   ]
  },
  {
   "cell_type": "code",
   "execution_count": 52,
   "id": "1a6e4b54",
   "metadata": {
    "execution": {
     "iopub.execute_input": "2023-10-18T17:04:23.189047Z",
     "iopub.status.busy": "2023-10-18T17:04:23.188728Z",
     "iopub.status.idle": "2023-10-18T17:04:23.192022Z",
     "shell.execute_reply": "2023-10-18T17:04:23.191419Z"
    },
    "papermill": {
     "duration": 0.020691,
     "end_time": "2023-10-18T17:04:23.193784",
     "exception": false,
     "start_time": "2023-10-18T17:04:23.173093",
     "status": "completed"
    },
    "tags": []
   },
   "outputs": [],
   "source": [
    "# Now we will do vectorization of data in tags column\n",
    "# First we'll combine all the tags and calculate 5000 words whose frequency is maximum"
   ]
  },
  {
   "cell_type": "code",
   "execution_count": 53,
   "id": "879e0c70",
   "metadata": {},
   "outputs": [],
   "source": [
    "# ! pip install scikit-learn"
   ]
  },
  {
   "cell_type": "code",
   "execution_count": 54,
   "id": "89ff9e17",
   "metadata": {
    "execution": {
     "iopub.execute_input": "2023-10-18T17:04:23.224007Z",
     "iopub.status.busy": "2023-10-18T17:04:23.223474Z",
     "iopub.status.idle": "2023-10-18T17:04:23.227796Z",
     "shell.execute_reply": "2023-10-18T17:04:23.227187Z"
    },
    "papermill": {
     "duration": 0.021411,
     "end_time": "2023-10-18T17:04:23.229485",
     "exception": false,
     "start_time": "2023-10-18T17:04:23.208074",
     "status": "completed"
    },
    "tags": []
   },
   "outputs": [],
   "source": [
    "\n",
    "from sklearn.feature_extraction.text import CountVectorizer\n",
    "cv = CountVectorizer(max_features=5000, stop_words='english')"
   ]
  },
  {
   "cell_type": "code",
   "execution_count": 55,
   "id": "5c8481e5",
   "metadata": {
    "execution": {
     "iopub.execute_input": "2023-10-18T17:04:23.260395Z",
     "iopub.status.busy": "2023-10-18T17:04:23.259782Z",
     "iopub.status.idle": "2023-10-18T17:04:23.779662Z",
     "shell.execute_reply": "2023-10-18T17:04:23.778702Z"
    },
    "papermill": {
     "duration": 0.538262,
     "end_time": "2023-10-18T17:04:23.782452",
     "exception": false,
     "start_time": "2023-10-18T17:04:23.244190",
     "status": "completed"
    },
    "tags": []
   },
   "outputs": [],
   "source": [
    "vectors = cv.fit_transform(new_df['tags']).toarray()"
   ]
  },
  {
   "cell_type": "code",
   "execution_count": 56,
   "id": "d51bf7b4",
   "metadata": {
    "execution": {
     "iopub.execute_input": "2023-10-18T17:04:23.814014Z",
     "iopub.status.busy": "2023-10-18T17:04:23.813689Z",
     "iopub.status.idle": "2023-10-18T17:04:23.819317Z",
     "shell.execute_reply": "2023-10-18T17:04:23.818289Z"
    },
    "papermill": {
     "duration": 0.023446,
     "end_time": "2023-10-18T17:04:23.821193",
     "exception": false,
     "start_time": "2023-10-18T17:04:23.797747",
     "status": "completed"
    },
    "tags": []
   },
   "outputs": [
    {
     "data": {
      "text/plain": [
       "(4806, 5000)"
      ]
     },
     "execution_count": 56,
     "metadata": {},
     "output_type": "execute_result"
    }
   ],
   "source": [
    "vectors.shape #vector containing top  5000 features from every 4806 rows"
   ]
  },
  {
   "cell_type": "code",
   "execution_count": 57,
   "id": "8323585a",
   "metadata": {
    "execution": {
     "iopub.execute_input": "2023-10-18T17:04:23.851811Z",
     "iopub.status.busy": "2023-10-18T17:04:23.851454Z",
     "iopub.status.idle": "2023-10-18T17:04:23.857747Z",
     "shell.execute_reply": "2023-10-18T17:04:23.856702Z"
    },
    "papermill": {
     "duration": 0.02361,
     "end_time": "2023-10-18T17:04:23.859412",
     "exception": false,
     "start_time": "2023-10-18T17:04:23.835802",
     "status": "completed"
    },
    "tags": []
   },
   "outputs": [
    {
     "data": {
      "text/plain": [
       "array([0, 0, 0, ..., 0, 0, 0], dtype=int64)"
      ]
     },
     "execution_count": 57,
     "metadata": {},
     "output_type": "execute_result"
    }
   ],
   "source": [
    "vectors[0] # Vector of movie Avatar"
   ]
  },
  {
   "cell_type": "code",
   "execution_count": 58,
   "id": "92e7f40a",
   "metadata": {
    "execution": {
     "iopub.execute_input": "2023-10-18T17:04:23.890800Z",
     "iopub.status.busy": "2023-10-18T17:04:23.889829Z",
     "iopub.status.idle": "2023-10-18T17:04:23.899809Z",
     "shell.execute_reply": "2023-10-18T17:04:23.898837Z"
    },
    "papermill": {
     "duration": 0.027763,
     "end_time": "2023-10-18T17:04:23.901853",
     "exception": false,
     "start_time": "2023-10-18T17:04:23.874090",
     "status": "completed"
    },
    "tags": []
   },
   "outputs": [
    {
     "data": {
      "text/plain": [
       "array(['000', '007', '10', ..., 'zone', 'zoo', 'zooeydeschanel'],\n",
       "      dtype=object)"
      ]
     },
     "execution_count": 58,
     "metadata": {},
     "output_type": "execute_result"
    }
   ],
   "source": [
    "cv.get_feature_names_out()"
   ]
  },
  {
   "cell_type": "code",
   "execution_count": 59,
   "id": "dbcf6c46",
   "metadata": {
    "execution": {
     "iopub.execute_input": "2023-10-18T17:04:23.934241Z",
     "iopub.status.busy": "2023-10-18T17:04:23.933689Z",
     "iopub.status.idle": "2023-10-18T17:04:23.940924Z",
     "shell.execute_reply": "2023-10-18T17:04:23.940124Z"
    },
    "papermill": {
     "duration": 0.025647,
     "end_time": "2023-10-18T17:04:23.942702",
     "exception": false,
     "start_time": "2023-10-18T17:04:23.917055",
     "status": "completed"
    },
    "tags": []
   },
   "outputs": [
    {
     "data": {
      "text/plain": [
       "'in the 22nd century, a parapleg marin is dispatch to the moon pandora on a uniqu mission, but becom torn between follow order and protect an alien civilization. action adventur fantasi sciencefict cultureclash futur spacewar spacecoloni societi spacetravel futurist romanc space alien tribe alienplanet cgi marin soldier battl loveaffair antiwar powerrel mindandsoul 3d samworthington zoesaldana sigourneyweav jamescameron'"
      ]
     },
     "execution_count": 59,
     "metadata": {},
     "output_type": "execute_result"
    }
   ],
   "source": [
    "stem('In the 22nd century, a paraplegic Marine is dispatched to the moon Pandora on a unique mission, but becomes torn between following orders and protecting an alien civilization. Action Adventure Fantasy ScienceFiction cultureclash future spacewar spacecolony society spacetravel futuristic romance space alien tribe alienplanet cgi marine soldier battle loveaffair antiwar powerrelations mindandsoul 3d SamWorthington ZoeSaldana SigourneyWeaver JamesCameron')"
   ]
  },
  {
   "cell_type": "code",
   "execution_count": 60,
   "id": "9f391bcb",
   "metadata": {
    "execution": {
     "iopub.execute_input": "2023-10-18T17:04:23.974374Z",
     "iopub.status.busy": "2023-10-18T17:04:23.973803Z",
     "iopub.status.idle": "2023-10-18T17:04:23.977881Z",
     "shell.execute_reply": "2023-10-18T17:04:23.977192Z"
    },
    "papermill": {
     "duration": 0.021974,
     "end_time": "2023-10-18T17:04:23.979629",
     "exception": false,
     "start_time": "2023-10-18T17:04:23.957655",
     "status": "completed"
    },
    "tags": []
   },
   "outputs": [],
   "source": [
    "# Now we have 4806 vectors (one for each movie)\n",
    "# Now we will calculate distance between two vectors to find similarity between movies\n",
    "# We will calculate cosine distance (angle b/w vectors) rather than euclidean distance\n",
    "# As the dimension of data increases, the performance of euclidean distance decreases"
   ]
  },
  {
   "cell_type": "code",
   "execution_count": 61,
   "id": "011d90a5",
   "metadata": {
    "execution": {
     "iopub.execute_input": "2023-10-18T17:04:24.010750Z",
     "iopub.status.busy": "2023-10-18T17:04:24.010165Z",
     "iopub.status.idle": "2023-10-18T17:04:24.014287Z",
     "shell.execute_reply": "2023-10-18T17:04:24.013707Z"
    },
    "papermill": {
     "duration": 0.021672,
     "end_time": "2023-10-18T17:04:24.016094",
     "exception": false,
     "start_time": "2023-10-18T17:04:23.994422",
     "status": "completed"
    },
    "tags": []
   },
   "outputs": [],
   "source": [
    "from sklearn.metrics.pairwise import cosine_similarity"
   ]
  },
  {
   "cell_type": "code",
   "execution_count": 62,
   "id": "c6de6263",
   "metadata": {
    "execution": {
     "iopub.execute_input": "2023-10-18T17:04:24.047193Z",
     "iopub.status.busy": "2023-10-18T17:04:24.046782Z",
     "iopub.status.idle": "2023-10-18T17:04:26.582852Z",
     "shell.execute_reply": "2023-10-18T17:04:26.581922Z"
    },
    "papermill": {
     "duration": 2.554121,
     "end_time": "2023-10-18T17:04:26.584789",
     "exception": false,
     "start_time": "2023-10-18T17:04:24.030668",
     "status": "completed"
    },
    "tags": []
   },
   "outputs": [
    {
     "data": {
      "text/plain": [
       "(4806, 4806)"
      ]
     },
     "execution_count": 62,
     "metadata": {},
     "output_type": "execute_result"
    }
   ],
   "source": [
    "#This calculates the cosine similarity between vectors which tells how similar each vector to \n",
    "#each other this will help to get similar movies w.r.t to our feed\n",
    "cosine_similarity(vectors).shape"
   ]
  },
  {
   "cell_type": "code",
   "execution_count": 63,
   "id": "a8fd5662",
   "metadata": {
    "execution": {
     "iopub.execute_input": "2023-10-18T17:04:26.617165Z",
     "iopub.status.busy": "2023-10-18T17:04:26.616784Z",
     "iopub.status.idle": "2023-10-18T17:04:29.043889Z",
     "shell.execute_reply": "2023-10-18T17:04:29.042461Z"
    },
    "papermill": {
     "duration": 2.44772,
     "end_time": "2023-10-18T17:04:29.048416",
     "exception": false,
     "start_time": "2023-10-18T17:04:26.600696",
     "status": "completed"
    },
    "tags": []
   },
   "outputs": [],
   "source": [
    "\n",
    "similarity = cosine_similarity(vectors)"
   ]
  },
  {
   "cell_type": "code",
   "execution_count": 64,
   "id": "6bef5938",
   "metadata": {},
   "outputs": [
    {
     "name": "stdout",
     "output_type": "stream",
     "text": [
      "[[1.         0.08006408 0.08492078 ... 0.04441156 0.         0.        ]\n",
      " [0.08006408 1.         0.05892557 ... 0.02311251 0.         0.02541643]\n",
      " [0.08492078 0.05892557 1.         ... 0.02451452 0.         0.        ]\n",
      " ...\n",
      " [0.04441156 0.02311251 0.02451452 ... 1.         0.0418121  0.04229549]\n",
      " [0.         0.         0.         ... 0.0418121  1.         0.0919601 ]\n",
      " [0.         0.02541643 0.         ... 0.04229549 0.0919601  1.        ]]\n"
     ]
    }
   ],
   "source": [
    "\n",
    "print(similarity)"
   ]
  },
  {
   "cell_type": "code",
   "execution_count": 65,
   "id": "01f5f11e",
   "metadata": {},
   "outputs": [
    {
     "name": "stdout",
     "output_type": "stream",
     "text": [
      "[13, 6, 5, 4, 2, 1]\n"
     ]
    }
   ],
   "source": [
    "lst=[1,2,13,4,5,6]\n",
    "x=sorted(lst,reverse=True)\n",
    "print(x)"
   ]
  },
  {
   "cell_type": "code",
   "execution_count": 66,
   "id": "8ee8219a",
   "metadata": {},
   "outputs": [
    {
     "name": "stdout",
     "output_type": "stream",
     "text": [
      "0\n",
      "[1.         0.08006408 0.08492078 ... 0.04441156 0.         0.        ]\n",
      "[(0, 1.0000000000000002), (1, 0.08006407690254357), (2, 0.08492077756084468), (3, 0.07161148740394328), (4, 0.18685673434682065), (5, 0.105129283382795), (6, 0.039722906114947866), (7, 0.1416576493949657), (8, 0.05661385170722978), (9, 0.09443843292997713), (10, 0.09883324222148016), (11, 0.09245003270420486), (12, 0.08770580193070292), (13, 0.04399058702145837), (14, 0.12503908082008883), (15, 0.06201736729460422), (16, 0.075955452531275), (17, 0.13592873654160803), (18, 0.09370791409872918), (19, 0.0826898230594723), (20, 0.05661385170722978), (21, 0.10529962529853128), (22, 0.06677805632941779), (23, 0.08627959628145762), (24, 0.053376051268362375), (25, 0.033757978902788886), (26, 0.1500468969841066), (27, 0.18605210188381263), (28, 0.10675210253672475), (29, 0.06419407387663695), (30, 0.06537204504606134), (31, 0.1513068831672006), (32, 0.0826898230594723), (33, 0.09245003270420485), (34, 0.0), (35, 0.09421114395319916), (36, 0.16898159235484367), (37, 0.07692307692307693), (38, 0.07944581222989573), (39, 0.081199794294115), (40, 0.07412493166611012), (41, 0.1585187847802434), (42, 0.0), (43, 0.10997646755364593), (44, 0.06405126152203486), (45, 0.08134518347820842), (46, 0.13344012817090595), (47, 0.1913897505877382), (48, 0.08134518347820842), (49, 0.05751973085430508), (50, 0.10984700727621793), (51, 0.07884165279854434), (52, 0.14484136487558028), (53, 0.04399058702145837), (54, 0.03026137663344012), (55, 0.07073278556897407), (56, 0.16694514082354447), (57, 0.02387049580131443), (58, 0.06598588053218755), (59, 0.07073278556897407), (60, 0.01813094310734737), (61, 0.23372319715296228), (62, 0.07548513560963972), (63, 0.08006407690254357), (64, 0.02875986542715254), (65, 0.019003715589632167), (66, 0.021995293510729184), (67, 0.16012815380508713), (68, 0.11694106924093722), (69, 0.025976216673306556), (70, 0.07792865001991967), (71, 0.07242068243779014), (72, 0.12988108336653278), (73, 0.032686022523030676), (74, 0.1998520162579474), (75, 0.10529962529853128), (76, 0.07007127538005775), (77, 0.014098497814593786), (78, 0.04883862905055043), (79, 0.060522753266880225), (80, 0.04954787398762882), (81, 0.108094949066235), (82, 0.07242068243779014), (83, 0.177646236673731), (84, 0.12201777521731262), (85, 0.11208970766356102), (86, 0.06862635163075162), (87, 0.10826639239215334), (88, 0.08770580193070292), (89, 0.05706139900145506), (90, 0.06163335513613657), (91, 0.16477051091432687), (92, 0.060522753266880225), (93, 0.07007127538005775), (94, 0.1754116038614058), (95, 0.1358732440973515), (96, 0.07502344849205331), (97, 0.06862635163075162), (98, 0.075955452531275), (99, 0.05264981264926564), (100, 0.06677805632941779), (101, 0.07412493166611012), (102, 0.12104550653376046), (103, 0.0782510703046739), (104, 0.05492350363810897), (105, 0.09805806756909202), (106, 0.060522753266880225), (107, 0.06100888760865632), (108, 0.1416576493949657), (109, 0.06405126152203486), (110, 0.04358136336404089), (111, 0.14484136487558028), (112, 0.07502344849205331), (113, 0.042796049251091296), (114, 0.04441155916843275), (115, 0.04358136336404089), (116, 0.04721921646498856), (117, 0.05751973085430508), (118, 0.03285760387267628), (119, 0.042051713353118), (120, 0.0), (121, 0.10675210253672475), (122, 0.11322770341445956), (123, 0.11102889792108188), (124, 0.06661733875264912), (125, 0.07717081694263092), (126, 0.1316245316231641), (127, 0.14322297480788657), (128, 0.0), (129, 0.08968970586617499), (130, 0.025976216673306556), (131, 0.10256410256410256), (132, 0.06537204504606134), (133, 0.026688025634181187), (134, 0.12326671027227314), (135, 0.0), (136, 0.022875450543583874), (137, 0.02948198280077641), (138, 0.1282051282051282), (139, 0.11737660545701087), (140, 0.04358136336404089), (141, 0.08492077756084468), (142, 0.08238525545716345), (143, 0.08483796839677037), (144, 0.04941662111074008), (145, 0.01887128390240993), (146, 0.015777895820254743), (147, 0.05492350363810897), (148, 0.09607689228305229), (149, 0.15202972471705734), (150, 0.1611258466588724), (151, 0.1921537845661046), (152, 0.08006407690254357), (153, 0.07710865759549869), (154, 0.06052275326688024), (155, 0.02001601922563589), (156, 0.06004805767690767), (157, 0.09805806756909202), (158, 0.12955005512625914), (159, 0.06163335513613657), (160, 0.11440107883060738), (161, 0.03140371465106639), (162, 0.03140371465106639), (163, 0.05063696835418333), (164, 0.08006407690254357), (165, 0.04399058702145837), (166, 0.1235415527768502), (167, 0.08627959628145762), (168, 0.16898159235484367), (169, 0.0863667034175061), (170, 0.10336227882434038), (171, 0.022645540682891915), (172, 0.20483662259967567), (173, 0.022875450543583874), (174, 0.07502344849205331), (175, 0.06933752452815364), (176, 0.02875986542715254), (177, 0.0), (178, 0.02360960823249428), (179, 0.06988565578146122), (180, 0.021398024625545648), (181, 0.04399058702145837), (182, 0.11556254088025608), (183, 0.0686701603499473), (184, 0.17295817388759027), (185, 0.04941662111074008), (186, 0.05783149319662402), (187, 0.1500468969841066), (188, 0.021995293510729184), (189, 0.10741723110591492), (190, 0.0806970043558403), (191, 0.04774099160262886), (192, 0.04721921646498856), (193, 0.07813453848974924), (194, 0.0), (195, 0.05661385170722978), (196, 0.05063696835418333), (197, 0.036031649688745), (198, 0.055749467333806056), (199, 0.08716272672808179), (200, 0.10241831129983783), (201, 0.0), (202, 0.02973505167250263), (203, 0.08006407690254357), (204, 0.04883862905055043), (205, 0.07548513560963972), (206, 0.12691660175143157), (207, 0.075955452531275), (208, 0.12326671027227314), (209, 0.06537204504606135), (210, 0.07242068243779014), (211, 0.02387049580131443), (212, 0.06537204504606134), (213, 0.05741692517632145), (214, 0.0), (215, 0.06537204504606134), (216, 0.06280742930213278), (217, 0.084103426706236), (218, 0.03580574370197164), (219, 0.08770580193070292), (220, 0.16984155512168933), (221, 0.04622501635210243), (222, 0.07767356373806174), (223, 0.10256410256410256), (224, 0.0595843591724218), (225, 0.04622501635210243), (226, 0.02875986542715254), (227, 0.08006407690254357), (228, 0.11322770341445958), (229, 0.108094949066235), (230, 0.0900791242218625), (231, 0.0), (232, 0.10984700727621793), (233, 0.10241831129983783), (234, 0.08338763984501665), (235, 0.07412493166611012), (236, 0.10826639239215334), (237, 0.06280742930213278), (238, 0.10741723110591493), (239, 0.09065471553673685), (240, 0.04671418358670517), (241, 0.07502344849205331), (242, 0.075955452531275), (243, 0.09058216273156766), (244, 0.09078412990032037), (245, 0.07897471897389846), (246, 0.07548513560963972), (247, 0.0), (248, 0.04318335170875305), (249, 0.13355611265883557), (250, 0.0), (251, 0.03883678186903087), (252, 0.02001601922563589), (253, 0.06477502756312957), (254, 0.06793662204867575), (255, 0.0), (256, 0.10482848367219183), (257, 0.05195243334661311), (258, 0.017167540087486825), (259, 0.06052275326688024), (260, 0.19814848097530424), (261, 0.02387049580131443), (262, 0.10699012312772824), (263, 0.09421114395319916), (264, 0.0), (265, 0.026688025634181187), (266, 0.09656090991705352), (267, 0.06280742930213278), (268, 0.05063696835418333), (269, 0.02875986542715254), (270, 0.08559209850218259), (271, 0.06793662204867575), (272, 0.027066598098038335), (273, 0.02050230920261824), (274, 0.08833906504195108), (275, 0.14153462926807445), (276, 0.06052275326688024), (277, 0.05180118867824779), (278, 0.11437725271791938), (279, 0.06862635163075162), (280, 0.0), (281, 0.06362847629757777), (282, 0.022205779584216375), (283, 0.02632490632463282), (284, 0.01813094310734737), (285, 0.0186145197762485), (286, 0.07710865759549869), (287, 0.02470831055537004), (288, 0.027066598098038335), (289, 0.044844852933087494), (290, 0.06052275326688024), (291, 0.04828045495852676), (292, 0.08362420100070908), (293, 0.027874733666903028), (294, 0.13937366833451514), (295, 0.10390486669322622), (296, 0.03942082639927217), (297, 0.044844852933087494), (298, 0.0), (299, 0.05741692517632145), (300, 0.1709352016769265), (301, 0.09183979479633063), (302, 0.06862635163075162), (303, 0.027874733666903028), (304, 0.06472796978171812), (305, 0.1860521018838127), (306, 0.08006407690254357), (307, 0.10687334289668038), (308, 0.06405126152203486), (309, 0.06052275326688024), (310, 0.03026137663344012), (311, 0.14484136487558028), (312, 0.09883324222148016), (313, 0.05413319619607667), (314, 0.0), (315, 0.081199794294115), (316, 0.0), (317, 0.0), (318, 0.0), (319, 0.09421114395319916), (320, 0.03140371465106639), (321, 0.0), (322, 0.20254787341673336), (323, 0.029235267310234306), (324, 0.025318484177091666), (325, 0.09421114395319916), (326, 0.05413319619607667), (327, 0.02632490632463282), (328, 0.026688025634181187), (329, 0.075955452531275), (330, 0.09767725810110087), (331, 0.08968970586617499), (332, 0.10675210253672475), (333, 0.02387049580131443), (334, 0.09548198320525772), (335, 0.04441155916843275), (336, 0.06827887419989188), (337, 0.04441155916843275), (338, 0.0), (339, 0.04671418358670517), (340, 0.04883862905055043), (341, 0.08006407690254357), (342, 0.15724272550828775), (343, 0.019138975058773818), (344, 0.029235267310234306), (345, 0.022422426466543747), (346, 0.0), (347, 0.0), (348, 0.05751973085430508), (349, 0.07325794357582566), (350, 0.04828045495852676), (351, 0.0), (352, 0.027066598098038335), (353, 0.04067259173910421), (354, 0.021025856676559), (355, 0.036031649688745), (356, 0.08920515501750789), (357, 0.0), (358, 0.05947010334500526), (359, 0.030816677568068284), (360, 0.02050230920261824), (361, 0.07502344849205331), (362, 0.09245003270420485), (363, 0.09855206599818042), (364, 0.022875450543583874), (365, 0.07325794357582566), (366, 0.055749467333806056), (367, 0.0), (368, 0.12561485860426555), (369, 0.1282051282051282), (370, 0.04883862905055043), (371, 0.09443843292997713), (372, 0.04671418358670517), (373, 0.1634301126151534), (374, 0.037483165639491674), (375, 0.060522753266880225), (376, 0.04529108136578383), (377, 0.0), (378, 0.0), (379, 0.049813548138671795), (380, 0.05063696835418333), (381, 0.07767356373806174), (382, 0.0), (383, 0.042796049251091296), (384, 0.02830692585361489), (385, 0.0), (386, 0.021025856676559), (387, 0.023357091793352585), (388, 0.0), (389, 0.08627959628145762), (390, 0.02564102564102564), (391, 0.055470019622522904), (392, 0.02875986542715254), (393, 0.0), (394, 0.02387049580131443), (395, 0.05128205128205128), (396, 0.04358136336404089), (397, 0.050015632328035534), (398, 0.0), (399, 0.022875450543583874), (400, 0.08770580193070292), (401, 0.029235267310234306), (402, 0.07502344849205331), (403, 0.08134518347820842), (404, 0.06052275326688024), (405, 0.05492350363810897), (406, 0.020174251088960076), (407, 0.020672455764868074), (408, 0.030816677568068284), (409, 0.0), (410, 0.09548198320525772), (411, 0.05063696835418333), (412, 0.09245003270420486), (413, 0.14153462926807445), (414, 0.029235267310234306), (415, 0.053049589176730555), (416, 0.05063696835418333), (417, 0.03140371465106639), (418, 0.03413943709994594), (419, 0.06661733875264912), (420, 0.10795837927188262), (421, 0.022645540682891915), (422, 0.11149893466761211), (423, 0.04100461840523648), (424, 0.03698001308168194), (425, 0.0625407298837625), (426, 0.052414241836095915), (427, 0.029235267310234306), (428, 0.05510387687779837), (429, 0.0), (430, 0.05063696835418333), (431, 0.02360960823249428), (432, 0.10997646755364593), (433, 0.02973505167250263), (434, 0.0), (435, 0.033389028164708894), (436, 0.0), (437, 0.025007816164017767), (438, 0.1180480411624714), (439, 0.025318484177091666), (440, 0.02387049580131443), (441, 0.055749467333806056), (442, 0.04529108136578383), (443, 0.06201736729460422), (444, 0.0), (445, 0.09767725810110087), (446, 0.022422426466543747), (447, 0.063077570029677), (448, 0.021025856676559), (449, 0.10984700727621793), (450, 0.02050230920261824), (451, 0.024419314525275217), (452, 0.03026137663344012), (453, 0.02414022747926338), (454, 0.11556254088025608), (455, 0.06004805767690767), (456, 0.04241898419838518), (457, 0.08362420100070908), (458, 0.042796049251091296), (459, 0.033389028164708894), (460, 0.023357091793352585), (461, 0.13937366833451514), (462, 0.031555791640509485), (463, 0.03202563076101743), (464, 0.0), (465, 0.0), (466, 0.13977131156292244), (467, 0.10423454980627081), (468, 0.027066598098038335), (469, 0.05868830272850543), (470, 0.04441155916843275), (471, 0.0625407298837625), (472, 0.10390486669322622), (473, 0.08968970586617499), (474, 0.0), (475, 0.042796049251091296), (476, 0.12561485860426555), (477, 0.0), (478, 0.05272904491779212), (479, 0.08684168428648435), (480, 0.09548198320525772), (481, 0.0), (482, 0.021398024625545648), (483, 0.11894020669001051), (484, 0.02875986542715254), (485, 0.05063696835418333), (486, 0.07927524902574902), (487, 0.12326671027227314), (488, 0.06571520774535256), (489, 0.0), (490, 0.13355611265883557), (491, 0.09855206599818042), (492, 0.07502344849205331), (493, 0.02999475137772317), (494, 0.0), (495, 0.1815682598006407), (496, 0.0), (497, 0.0), (498, 0.06677805632941779), (499, 0.0), (500, 0.025007816164017767), (501, 0.07944581222989573), (502, 0.1319717610643751), (503, 0.07242068243779014), (504, 0.0), (505, 0.13355611265883557), (506, 0.033389028164708894), (507, 0.2545139051903111), (508, 0.09767725810110087), (509, 0.021398024625545648), (510, 0.09656090991705352), (511, 0.08770580193070292), (512, 0.026688025634181187), (513, 0.14484136487558028), (514, 0.04721921646498856), (515, 0.02470831055537004), (516, 0.026688025634181187), (517, 0.0), (518, 0.04241898419838518), (519, 0.0), (520, 0.0), (521, 0.02414022747926338), (522, 0.02387049580131443), (523, 0.04721921646498856), (524, 0.0), (525, 0.04575090108716775), (526, 0.027461751819054483), (527, 0.03202563076101743), (528, 0.022875450543583874), (529, 0.16349964255346808), (530, 0.053376051268362375), (531, 0.04671418358670517), (532, 0.020846909961254163), (533, 0.05947010334500526), (534, 0.08006407690254357), (535, 0.09656090991705352), (536, 0.10997646755364593), (537, 0.06677805632941779), (538, 0.0), (539, 0.24019223070763068), (540, 0.07325794357582566), (541, 0.1025115460130912), (542, 0.03698001308168194), (543, 0.07692307692307693), (544, 0.05264981264926564), (545, 0.024419314525275217), (546, 0.06163335513613657), (547, 0.081199794294115), (548, 0.0), (549, 0.11678545896676293), (550, 0.02360960823249428), (551, 0.037229039552497), (552, 0.0), (553, 0.027874733666903028), (554, 0.0), (555, 0.04422297420116462), (556, 0.026688025634181187), (557, 0.12209657262637608), (558, 0.0), (559, 0.029235267310234306), (560, 0.03580574370197164), (561, 0.03140371465106639), (562, 0.05751973085430508), (563, 0.02470831055537004), (564, 0.08627959628145762), (565, 0.042051713353118), (566, 0.023357091793352585), (567, 0.024419314525275217), (568, 0.1373087590952724), (569, 0.04774099160262886), (570, 0.06405126152203486), (571, 0.04134491152973615), (572, 0.105129283382795), (573, 0.02050230920261824), (574, 0.04671418358670517), (575, 0.04399058702145837), (576, 0.05128205128205128), (577, 0.19814848097530424), (578, 0.03698001308168194), (579, 0.13937366833451514), (580, 0.02387049580131443), (581, 0.14867525836251314), (582, 0.24194822861802104), (583, 0.03673591791853225), (584, 0.07548513560963972), (585, 0.02360960823249428), (586, 0.04358136336404089), (587, 0.07082882469748285), (588, 0.02470831055537004), (589, 0.12955005512625914), (590, 0.02973505167250263), (591, 0.06150692760785473), (592, 0.020846909961254163), (593, 0.0), (594, 0.04774099160262886), (595, 0.1585187847802434), (596, 0.09058216273156766), (597, 0.05751973085430508), (598, 0.03413943709994594), (599, 0.026970446468757833), (600, 0.06793662204867575), (601, 0.03320903209244786), (602, 0.08968970586617499), (603, 0.05264981264926564), (604, 0.06405126152203486), (605, 0.025976216673306556), (606, 0.0), (607, 0.05741692517632145), (608, 0.0), (609, 0.04622501635210243), (610, 0.057289189923154626), (611, 0.022645540682891915), (612, 0.06201736729460422), (613, 0.03494282789073061), (614, 0.04671418358670517), (615, 0.05947010334500526), (616, 0.033389028164708894), (617, 0.04941662111074008), (618, 0.08483796839677037), (619, 0.0), (620, 0.0), (621, 0.06405126152203486), (622, 0.021025856676559), (623, 0.0), (624, 0.09607689228305229), (625, 0.03026137663344012), (626, 0.081199794294115), (627, 0.10741723110591492), (628, 0.0), (629, 0.04774099160262886), (630, 0.02414022747926338), (631, 0.04828045495852676), (632, 0.075955452531275), (633, 0.02120949209919259), (634, 0.07242068243779014), (635, 0.06477502756312958), (636, 0.023112508176051216), (637, 0.023357091793352585), (638, 0.03202563076101743), (639, 0.0), (640, 0.0595843591724218), (641, 0.0), (642, 0.0), (643, 0.09767725810110087), (644, 0.04828045495852676), (645, 0.04358136336404089), (646, 0.05128205128205128), (647, 0.04671418358670517), (648, 0.029235267310234306), (649, 0.0), (650, 0.05063696835418333), (651, 0.0), (652, 0.042796049251091296), (653, 0.10482848367219183), (654, 0.10087125544480038), (655, 0.023357091793352585), (656, 0.0), (657, 0.05092065106881741), (658, 0.04721921646498856), (659, 0.025007816164017767), (660, 0.09245003270420485), (661, 0.16269036695641684), (662, 0.0), (663, 0.0), (664, 0.05947010334500526), (665, 0.06862635163075162), (666, 0.04941662111074008), (667, 0.0), (668, 0.1307440900921227), (669, 0.032686022523030676), (670, 0.01697355035627247), (671, 0.0888231183368655), (672, 0.02875986542715254), (673, 0.019861453057473933), (674, 0.07242068243779014), (675, 0.04399058702145837), (676, 0.02830692585361489), (677, 0.02470831055537004), (678, 0.11503946170861017), (679, 0.0), (680, 0.07412493166611012), (681, 0.027066598098038335), (682, 0.019562767576168476), (683, 0.04721921646498856), (684, 0.0), (685, 0.03026137663344012), (686, 0.03026137663344012), (687, 0.10390486669322622), (688, 0.04169381992250833), (689, 0.0), (690, 0.02414022747926338), (691, 0.055749467333806056), (692, 0.10604746049596296), (693, 0.03202563076101743), (694, 0.02120949209919259), (695, 0.06405126152203486), (696, 0.020846909961254163), (697, 0.0), (698, 0.042051713353118), (699, 0.03673591791853225), (700, 0.027461751819054483), (701, 0.055749467333806056), (702, 0.021790681682020446), (703, 0.02120949209919259), (704, 0.06537204504606134), (705, 0.02360960823249428), (706, 0.02120949209919259), (707, 0.0), (708, 0.02414022747926338), (709, 0.02001601922563589), (710, 0.0570111467688965), (711, 0.05063696835418333), (712, 0.0), (713, 0.02414022747926338), (714, 0.0), (715, 0.09607689228305229), (716, 0.02632490632463282), (717, 0.0), (718, 0.04318335170875305), (719, 0.0), (720, 0.025318484177091666), (721, 0.030816677568068284), (722, 0.0), (723, 0.02414022747926338), (724, 0.022875450543583874), (725, 0.0), (726, 0.0), (727, 0.03039738350583688), (728, 0.06933752452815364), (729, 0.04721921646498856), (730, 0.029864054671577652), (731, 0.05063696835418333), (732, 0.06793662204867575), (733, 0.060522753266880225), (734, 0.06598588053218755), (735, 0.06598588053218755), (736, 0.02830692585361489), (737, 0.07325794357582566), (738, 0.0), (739, 0.03673591791853225), (740, 0.105129283382795), (741, 0.05264981264926564), (742, 0.02875986542715254), (743, 0.022875450543583874), (744, 0.06163335513613657), (745, 0.08492077756084468), (746, 0.063077570029677), (747, 0.038554328797749345), (748, 0.03413943709994594), (749, 0.0), (750, 0.04100461840523648), (751, 0.030816677568068284), (752, 0.08559209850218259), (753, 0.026688025634181187), (754, 0.12209657262637608), (755, 0.0595843591724218), (756, 0.027461751819054483), (757, 0.023357091793352585), (758, 0.021995293510729184), (759, 0.0), (760, 0.0), (761, 0.027874733666903028), (762, 0.05751973085430508), (763, 0.0), (764, 0.026688025634181187), (765, 0.024419314525275217), (766, 0.030816677568068284), (767, 0.04575090108716775), (768, 0.06004805767690767), (769, 0.03026137663344012), (770, 0.042051713353118), (771, 0.0), (772, 0.0), (773, 0.12561485860426555), (774, 0.03673591791853225), (775, 0.081199794294115), (776, 0.0734718358370645), (777, 0.1319717610643751), (778, 0.22645540682891918), (779, 0.0), (780, 0.0), (781, 0.11322770341445956), (782, 0.06726727939963124), (783, 0.03140371465106639), (784, 0.07007127538005775), (785, 0.0900791242218625), (786, 0.10984700727621793), (787, 0.07897471897389846), (788, 0.04575090108716775), (789, 0.0), (790, 0.07161148740394328), (791, 0.09607689228305229), (792, 0.05063696835418333), (793, 0.050015632328035534), (794, 0.08920515501750789), (795, 0.021790681682020446), (796, 0.0), (797, 0.03494282789073061), (798, 0.0), (799, 0.0900791242218625), (800, 0.06988565578146122), (801, 0.0), (802, 0.0), (803, 0.04671418358670517), (804, 0.05128205128205128), (805, 0.05413319619607667), (806, 0.04399058702145837), (807, 0.05264981264926564), (808, 0.11020775375559674), (809, 0.019277164398874672), (810, 0.026688025634181187), (811, 0.020336295869552105), (812, 0.0806970043558403), (813, 0.08968970586617499), (814, 0.10529962529853128), (815, 0.021591675854376526), (816, 0.04721921646498856), (817, 0.026688025634181187), (818, 0.02414022747926338), (819, 0.0), (820, 0.01562690769794985), (821, 0.015701857325533194), (822, 0.02050230920261824), (823, 0.04671418358670517), (824, 0.0), (825, 0.0), (826, 0.029235267310234306), (827, 0.0863667034175061), (828, 0.02470831055537004), (829, 0.0), (830, 0.026688025634181187), (831, 0.04721921646498856), (832, 0.02564102564102564), (833, 0.0716114874039433), (834, 0.04529108136578383), (835, 0.025007816164017767), (836, 0.06100888760865632), (837, 0.053376051268362375), (838, 0.14792005232672775), (839, 0.0), (840, 0.055749467333806056), (841, 0.022875450543583874), (842, 0.0), (843, 0.13533299049019168), (844, 0.05063696835418333), (845, 0.0), (846, 0.019277164398874672), (847, 0.046838921281619234), (848, 0.03673591791853225), (849, 0.0), (850, 0.0734718358370645), (851, 0.02414022747926338), (852, 0.02120949209919259), (853, 0.02875986542715254), (854, 0.07692307692307693), (855, 0.04883862905055043), (856, 0.02360960823249428), (857, 0.0), (858, 0.03580574370197164), (859, 0.13533299049019168), (860, 0.05092065106881741), (861, 0.020174251088960076), (862, 0.05195243334661311), (863, 0.05661385170722978), (864, 0.03774256780481986), (865, 0.0), (866, 0.08006407690254357), (867, 0.0), (868, 0.020174251088960076), (869, 0.04828045495852676), (870, 0.11678545896676293), (871, 0.05195243334661311), (872, 0.0), (873, 0.04100461840523648), (874, 0.025007816164017767), (875, 0.04941662111074008), (876, 0.0), (877, 0.0), (878, 0.09805806756909202), (879, 0.0), (880, 0.03140371465106639), (881, 0.0), (882, 0.025976216673306556), (883, 0.02470831055537004), (884, 0.0), (885, 0.0716114874039433), (886, 0.022422426466543747), (887, 0.03394710071254494), (888, 0.04774099160262886), (889, 0.11153342776500881), (890, 0.0), (891, 0.04134491152973615), (892, 0.0), (893, 0.01651595799587627), (894, 0.08006407690254357), (895, 0.0), (896, 0.0), (897, 0.03883678186903087), (898, 0.09656090991705352), (899, 0.07692307692307693), (900, 0.11678545896676293), (901, 0.08006407690254357), (902, 0.02387049580131443), (903, 0.03026137663344012), (904, 0.020336295869552105), (905, 0.0), (906, 0.0), (907, 0.023112508176051216), (908, 0.0716114874039433), (909, 0.0), (910, 0.019562767576168476), (911, 0.022875450543583874), (912, 0.03140371465106639), (913, 0.0), (914, 0.03673591791853225), (915, 0.025976216673306556), (916, 0.033389028164708894), (917, 0.027461751819054483), (918, 0.0), (919, 0.02120949209919259), (920, 0.09245003270420485), (921, 0.0), (922, 0.07692307692307693), (923, 0.0), (924, 0.0), (925, 0.019562767576168476), (926, 0.0), (927, 0.0), (928, 0.0), (929, 0.05063696835418333), (930, 0.04774099160262886), (931, 0.16724840200141816), (932, 0.07082882469748285), (933, 0.06933752452815364), (934, 0.02830692585361489), (935, 0.12810252304406972), (936, 0.0), (937, 0.1316245316231641), (938, 0.025976216673306556), (939, 0.1060991783534611), (940, 0.0), (941, 0.02973505167250263), (942, 0.1849000654084097), (943, 0.0), (944, 0.0), (945, 0.05947010334500526), (946, 0.02414022747926338), (947, 0.0), (948, 0.0), (949, 0.0), (950, 0.03673591791853225), (951, 0.06280742930213278), (952, 0.02470831055537004), (953, 0.02360960823249428), (954, 0.0), (955, 0.02632490632463282), (956, 0.04883862905055043), (957, 0.06163335513613657), (958, 0.02414022747926338), (959, 0.024419314525275217), (960, 0.08362420100070908), (961, 0.04941662111074008), (962, 0.02360960823249428), (963, 0.06201736729460422), (964, 0.025318484177091666), (965, 0.0), (966, 0.0), (967, 0.03580574370197164), (968, 0.0), (969, 0.05741692517632145), (970, 0.02875986542715254), (971, 0.03202563076101743), (972, 0.20131905799006777), (973, 0.19512313566832118), (974, 0.027461751819054483), (975, 0.0), (976, 0.0), (977, 0.07082882469748285), (978, 0.09078412990032037), (979, 0.04358136336404089), (980, 0.02050230920261824), (981, 0.0), (982, 0.05661385170722978), (983, 0.031555791640509485), (984, 0.0), (985, 0.053376051268362375), (986, 0.09656090991705352), (987, 0.05751973085430508), (988, 0.0), (989, 0.032686022523030676), (990, 0.04100461840523648), (991, 0.06052275326688024), (992, 0.0), (993, 0.07161148740394328), (994, 0.05413319619607667), (995, 0.08968970586617499), (996, 0.05847053462046861), (997, 0.0), (998, 0.0), (999, 0.0), (1000, 0.11737660545701087), (1001, 0.04441155916843275), (1002, 0.11694106924093722), (1003, 0.0734718358370645), (1004, 0.05195243334661311), (1005, 0.05783149319662402), (1006, 0.019138975058773818), (1007, 0.07412493166611012), (1008, 0.03774256780481986), (1009, 0.06362847629757777), (1010, 0.0), (1011, 0.0), (1012, 0.0), (1013, 0.12659242088545833), (1014, 0.029235267310234306), (1015, 0.021790681682020446), (1016, 0.06477502756312958), (1017, 0.08559209850218259), (1018, 0.042051713353118), (1019, 0.03673591791853225), (1020, 0.0), (1021, 0.04671418358670517), (1022, 0.026688025634181187), (1023, 0.0), (1024, 0.0), (1025, 0.08770580193070292), (1026, 0.03774256780481986), (1027, 0.05413319619607667), (1028, 0.06100888760865631), (1029, 0.10984700727621793), (1030, 0.05492350363810897), (1031, 0.03673591791853225), (1032, 0.027874733666903028), (1033, 0.03026137663344012), (1034, 0.025318484177091666), (1035, 0.10390486669322622), (1036, 0.04622501635210243), (1037, 0.025976216673306556), (1038, 0.018367958959266125), (1039, 0.0), (1040, 0.0), (1041, 0.022645540682891915), (1042, 0.03140371465106639), (1043, 0.07548513560963972), (1044, 0.02470831055537004), (1045, 0.11694106924093722), (1046, 0.02387049580131443), (1047, 0.0), (1048, 0.0), (1049, 0.021398024625545648), (1050, 0.03026137663344012), (1051, 0.04671418358670517), (1052, 0.027461751819054483), (1053, 0.03202563076101743), (1054, 0.13725270326150324), (1055, 0.0), (1056, 0.0), (1057, 0.034534125785498526), (1058, 0.0), (1059, 0.04622501635210243), (1060, 0.032686022523030676), (1061, 0.02875986542715254), (1062, 0.05751973085430508), (1063, 0.026688025634181187), (1064, 0.0), (1065, 0.04575090108716775), (1066, 0.06280742930213278), (1067, 0.0), (1068, 0.07242068243779014), (1069, 0.17505471314812435), (1070, 0.0), (1071, 0.055749467333806056), (1072, 0.0), (1073, 0.042796049251091296), (1074, 0.05847053462046861), (1075, 0.09607689228305229), (1076, 0.0), (1077, 0.055749467333806056), (1078, 0.07792865001991967), (1079, 0.04399058702145837), (1080, 0.10003126465607107), (1081, 0.04883862905055043), (1082, 0.03026137663344012), (1083, 0.06405126152203486), (1084, 0.12503908082008883), (1085, 0.06537204504606134), (1086, 0.04399058702145837), (1087, 0.20073126386549828), (1088, 0.0), (1089, 0.0), (1090, 0.05847053462046861), (1091, 0.06100888760865632), (1092, 0.02414022747926338), (1093, 0.0), (1094, 0.11894020669001051), (1095, 0.08119979429411502), (1096, 0.04622501635210243), (1097, 0.05783149319662402), (1098, 0.02875986542715254), (1099, 0.021995293510729184), (1100, 0.021591675854376526), (1101, 0.0595843591724218), (1102, 0.03673591791853225), (1103, 0.0), (1104, 0.03515269661186141), (1105, 0.03026137663344012), (1106, 0.0), (1107, 0.09767725810110087), (1108, 0.022205779584216375), (1109, 0.036031649688745), (1110, 0.04358136336404089), (1111, 0.075955452531275), (1112, 0.03140371465106639), (1113, 0.0), (1114, 0.0), (1115, 0.021790681682020446), (1116, 0.04671418358670517), (1117, 0.032686022523030676), (1118, 0.03012717918003676), (1119, 0.06537204504606134), (1120, 0.020846909961254163), (1121, 0.04941662111074008), (1122, 0.0), (1123, 0.021995293510729184), (1124, 0.02875986542715254), (1125, 0.04441155916843275), (1126, 0.021025856676559), (1127, 0.0), (1128, 0.038007431179264334), (1129, 0.02414022747926338), (1130, 0.0), (1131, 0.0), (1132, 0.05847053462046861), (1133, 0.037483165639491674), (1134, 0.015408338784034142), (1135, 0.05751973085430508), (1136, 0.0), (1137, 0.07767356373806174), (1138, 0.04575090108716775), (1139, 0.05751973085430508), (1140, 0.08362420100070908), (1141, 0.013252300302011579), (1142, 0.021790681682020446), (1143, 0.07007127538005775), (1144, 0.06726727939963124), (1145, 0.06280742930213278), (1146, 0.0), (1147, 0.07897471897389846), (1148, 0.0), (1149, 0.0), (1150, 0.0), (1151, 0.032686022523030676), (1152, 0.0), (1153, 0.04241898419838518), (1154, 0.10016708449412667), (1155, 0.022422426466543747), (1156, 0.11894020669001051), (1157, 0.0), (1158, 0.0), (1159, 0.07692307692307693), (1160, 0.0), (1161, 0.0), (1162, 0.020846909961254163), (1163, 0.02875986542715254), (1164, 0.10016708449412667), (1165, 0.0), (1166, 0.07007127538005775), (1167, 0.022205779584216375), (1168, 0.026688025634181187), (1169, 0.06405126152203486), (1170, 0.027874733666903028), (1171, 0.0), (1172, 0.0), (1173, 0.06537204504606134), (1174, 0.03026137663344012), (1175, 0.02830692585361489), (1176, 0.15585730003983933), (1177, 0.0), (1178, 0.024419314525275217), (1179, 0.05661385170722978), (1180, 0.0), (1181, 0.03883678186903087), (1182, 0.0), (1183, 0.025976216673306556), (1184, 0.042051713353118), (1185, 0.0), (1186, 0.03140371465106639), (1187, 0.0), (1188, 0.0), (1189, 0.06150692760785473), (1190, 0.0), (1191, 0.03883678186903087), (1192, 0.22880215766121476), (1193, 0.09548198320525772), (1194, 0.053376051268362375), (1195, 0.0), (1196, 0.024419314525275217), (1197, 0.025976216673306556), (1198, 0.0), (1199, 0.1815682598006407), (1200, 0.06201736729460422), (1201, 0.04399058702145837), (1202, 0.23357091793352583), (1203, 0.04883862905055043), (1204, 0.0), (1205, 0.08006407690254357), (1206, 0.0), (1207, 0.03673591791853225), (1208, 0.022645540682891915), (1209, 0.0), (1210, 0.0), (1211, 0.0), (1212, 0.04399058702145837), (1213, 0.018741582819745837), (1214, 0.28306925853614895), (1215, 0.0), (1216, 0.04529108136578383), (1217, 0.03140371465106639), (1218, 0.10997646755364592), (1219, 0.0), (1220, 0.0), (1221, 0.023112508176051216), (1222, 0.0), (1223, 0.0), (1224, 0.0), (1225, 0.021995293510729184), (1226, 0.03494282789073061), (1227, 0.02632490632463282), (1228, 0.025318484177091666), (1229, 0.05264981264926564), (1230, 0.0), (1231, 0.0888231183368655), (1232, 0.0), (1233, 0.024419314525275217), (1234, 0.0), (1235, 0.10390486669322622), (1236, 0.019138975058773818), (1237, 0.022645540682891915), (1238, 0.06988565578146122), (1239, 0.055749467333806056), (1240, 0.05492350363810897), (1241, 0.02875986542715254), (1242, 0.020672455764868074), (1243, 0.0), (1244, 0.0), (1245, 0.02875986542715254), (1246, 0.04828045495852676), (1247, 0.08627959628145762), (1248, 0.0), (1249, 0.03140371465106639), (1250, 0.01849000654084097), (1251, 0.0), (1252, 0.07548513560963972), (1253, 0.0), (1254, 0.013937366833451514), (1255, 0.02120949209919259), (1256, 0.023112508176051216), (1257, 0.08627959628145762), (1258, 0.02470831055537004), (1259, 0.05751973085430508), (1260, 0.06405126152203486), (1261, 0.05661385170722978), (1262, 0.0), (1263, 0.0), (1264, 0.04883862905055043), (1265, 0.0), (1266, 0.0), (1267, 0.08006407690254357), (1268, 0.04003203845127178), (1269, 0.0), (1270, 0.04441155916843275), (1271, 0.14484136487558028), (1272, 0.11694106924093722), (1273, 0.17255919256291524), (1274, 0.09245003270420486), (1275, 0.042796049251091296), (1276, 0.06726727939963124), (1277, 0.0), (1278, 0.09607689228305229), (1279, 0.04134491152973615), (1280, 0.07655590023509527), (1281, 0.0), (1282, 0.018248296715045298), (1283, 0.044844852933087494), (1284, 0.0), (1285, 0.029235267310234306), (1286, 0.03774256780481986), (1287, 0.07412493166611012), (1288, 0.07502344849205331), (1289, 0.032686022523030676), (1290, 0.06537204504606135), (1291, 0.07412493166611012), (1292, 0.10003126465607107), (1293, 0.0), (1294, 0.0), (1295, 0.14322297480788657), (1296, 0.03140371465106639), (1297, 0.1207011373963169), (1298, 0.0), (1299, 0.12326671027227314), (1300, 0.025318484177091666), (1301, 0.055749467333806056), (1302, 0.06280742930213278), (1303, 0.08200923681047297), (1304, 0.09607689228305229), (1305, 0.021995293510729184), (1306, 0.03673591791853225), (1307, 0.034534125785498526), (1308, 0.0), (1309, 0.0), (1310, 0.05751973085430508), (1311, 0.029235267310234306), (1312, 0.03413943709994594), (1313, 0.020174251088960076), (1314, 0.0), (1315, 0.0), (1316, 0.0), (1317, 0.0), (1318, 0.033389028164708894), (1319, 0.17471413945365305), (1320, 0.13302600912742518), (1321, 0.0734718358370645), (1322, 0.027461751819054483), (1323, 0.07692307692307693), (1324, 0.0), (1325, 0.13655774839978377), (1326, 0.033389028164708894), (1327, 0.1815682598006407), (1328, 0.0), (1329, 0.0), (1330, 0.020336295869552105), (1331, 0.0), (1332, 0.05661385170722978), (1333, 0.033389028164708894), (1334, 0.0), (1335, 0.017792017089454125), (1336, 0.03026137663344012), (1337, 0.0), (1338, 0.06933752452815364), (1339, 0.0), (1340, 0.02387049580131443), (1341, 0.0), (1342, 0.14824986333222023), (1343, 0.033757978902788886), (1344, 0.0595843591724218), (1345, 0.05947010334500526), (1346, 0.11322770341445959), (1347, 0.0), (1348, 0.03494282789073061), (1349, 0.027066598098038335), (1350, 0.01887128390240993), (1351, 0.03140371465106639), (1352, 0.0), (1353, 0.1401425507601155), (1354, 0.059584359172421796), (1355, 0.0915018021743355), (1356, 0.0), (1357, 0.0), (1358, 0.03883678186903087), (1359, 0.05913123959890826), (1360, 0.053376051268362375), (1361, 0.05661385170722978), (1362, 0.0), (1363, 0.07242068243779014), (1364, 0.0), (1365, 0.04828045495852676), (1366, 0.0), (1367, 0.055470019622522904), (1368, 0.02360960823249428), (1369, 0.12810252304406972), (1370, 0.0), (1371, 0.0), (1372, 0.019418390934515434), (1373, 0.0), (1374, 0.08362420100070908), (1375, 0.04067259173910421), (1376, 0.0), (1377, 0.06537204504606135), (1378, 0.04003203845127178), (1379, 0.1465158871516513), (1380, 0.0), (1381, 0.03494282789073061), (1382, 0.04941662111074008), (1383, 0.0), (1384, 0.05063696835418333), (1385, 0.024419314525275217), (1386, 0.04169381992250833), (1387, 0.03026137663344012), (1388, 0.0), (1389, 0.0), (1390, 0.0), (1391, 0.0), (1392, 0.1435161644183277), (1393, 0.0), (1394, 0.0), (1395, 0.050015632328035534), (1396, 0.0), (1397, 0.1207011373963169), (1398, 0.0), (1399, 0.03140371465106639), (1400, 0.027874733666903028), (1401, 0.09855206599818042), (1402, 0.026688025634181187), (1403, 0.01736833685729687), (1404, 0.06163335513613657), (1405, 0.0), (1406, 0.06988565578146122), (1407, 0.0), (1408, 0.026688025634181187), (1409, 0.03580574370197164), (1410, 0.029235267310234306), (1411, 0.0), (1412, 0.0), (1413, 0.03673591791853225), (1414, 0.11211213233271873), (1415, 0.0), (1416, 0.05661385170722978), (1417, 0.03673591791853225), (1418, 0.027461751819054483), (1419, 0.030816677568068284), (1420, 0.0), (1421, 0.03026137663344012), (1422, 0.038277950117547636), (1423, 0.05661385170722978), (1424, 0.048526158606196954), (1425, 0.015701857325533194), (1426, 0.0), (1427, 0.027066598098038335), (1428, 0.06419407387663695), (1429, 0.0), (1430, 0.05751973085430508), (1431, 0.0), (1432, 0.02830692585361489), (1433, 0.04003203845127178), (1434, 0.06280742930213278), (1435, 0.09781383788084239), (1436, 0.05751973085430508), (1437, 0.02830692585361489), (1438, 0.0), (1439, 0.053376051268362375), (1440, 0.20672455764868075), (1441, 0.06598588053218755), (1442, 0.09058216273156766), (1443, 0.02973505167250263), (1444, 0.02830692585361489), (1445, 0.05128205128205128), (1446, 0.01660451604622393), (1447, 0.025007816164017767), (1448, 0.042051713353118), (1449, 0.05413319619607667), (1450, 0.05128205128205128), (1451, 0.1025115460130912), (1452, 0.017683196392243517), (1453, 0.06933752452815364), (1454, 0.03413943709994594), (1455, 0.04241898419838518), (1456, 0.025318484177091666), (1457, 0.0), (1458, 0.0625407298837625), (1459, 0.020336295869552105), (1460, 0.03883678186903087), (1461, 0.027874733666903028), (1462, 0.06537204504606135), (1463, 0.04671418358670517), (1464, 0.02875986542715254), (1465, 0.05847053462046861), (1466, 0.022875450543583874), (1467, 0.04883862905055043), (1468, 0.0), (1469, 0.055749467333806056), (1470, 0.09245003270420485), (1471, 0.025318484177091666), (1472, 0.033389028164708894), (1473, 0.053049589176730555), (1474, 0.03774256780481986), (1475, 0.15253477177414312), (1476, 0.08770580193070292), (1477, 0.02875986542715254), (1478, 0.0), (1479, 0.03202563076101743), (1480, 0.0), (1481, 0.025976216673306556), (1482, 0.06280742930213278), (1483, 0.07299318686018119), (1484, 0.13655774839978377), (1485, 0.07161148740394328), (1486, 0.02830692585361489), (1487, 0.05778127044012804), (1488, 0.05947010334500526), (1489, 0.0), (1490, 0.032686022523030676), (1491, 0.0), (1492, 0.10423454980627081), (1493, 0.11168711865749101), (1494, 0.04622501635210243), (1495, 0.0), (1496, 0.04721921646498856), (1497, 0.10241831129983783), (1498, 0.03580574370197164), (1499, 0.03912553515233695), (1500, 0.027874733666903028), (1501, 0.02470831055537004), (1502, 0.025976216673306556), (1503, 0.0), (1504, 0.02470831055537004), (1505, 0.019710413199636085), (1506, 0.020174251088960076), (1507, 0.025007816164017767), (1508, 0.11102889792108186), (1509, 0.05413319619607667), (1510, 0.02470831055537004), (1511, 0.02875986542715254), (1512, 0.020846909961254163), (1513, 0.0), (1514, 0.0), (1515, 0.08006407690254357), (1516, 0.032686022523030676), (1517, 0.06988565578146122), (1518, 0.0), (1519, 0.07412493166611012), (1520, 0.10482848367219183), (1521, 0.033389028164708894), (1522, 0.0), (1523, 0.027066598098038335), (1524, 0.0), (1525, 0.036496593430090596), (1526, 0.0826898230594723), (1527, 0.06362847629757777), (1528, 0.044844852933087494), (1529, 0.0), (1530, 0.07884165279854434), (1531, 0.02564102564102564), (1532, 0.0), (1533, 0.1617875572323585), (1534, 0.06661733875264912), (1535, 0.0), (1536, 0.0), (1537, 0.05272904491779212), (1538, 0.0), (1539, 0.0), (1540, 0.032686022523030676), (1541, 0.03202563076101743), (1542, 0.04721921646498856), (1543, 0.0), (1544, 0.05128205128205128), (1545, 0.021790681682020446), (1546, 0.0), (1547, 0.0), (1548, 0.03558403417890825), (1549, 0.03413943709994594), (1550, 0.02050230920261824), (1551, 0.019003715589632167), (1552, 0.05661385170722978), (1553, 0.022875450543583874), (1554, 0.0), (1555, 0.0), (1556, 0.1316245316231641), (1557, 0.022205779584216375), (1558, 0.0), (1559, 0.0), (1560, 0.0), (1561, 0.02414022747926338), (1562, 0.027066598098038335), (1563, 0.019861453057473933), (1564, 0.029235267310234306), (1565, 0.030816677568068284), (1566, 0.05847053462046861), (1567, 0.019277164398874672), (1568, 0.0), (1569, 0.08920515501750789), (1570, 0.10878565864408421), (1571, 0.10741723110591492), (1572, 0.039722906114947866), (1573, 0.03774256780481986), (1574, 0.0180158248443725), (1575, 0.029235267310234306), (1576, 0.04003203845127178), (1577, 0.025318484177091666), (1578, 0.03580574370197164), (1579, 0.04575090108716775), (1580, 0.05947010334500526), (1581, 0.053376051268362375), (1582, 0.05661385170722978), (1583, 0.0), (1584, 0.030816677568068284), (1585, 0.08362420100070908), (1586, 0.022645540682891915), (1587, 0.0), (1588, 0.04575090108716775), (1589, 0.02001601922563589), (1590, 0.03202563076101743), (1591, 0.0), (1592, 0.02875986542715254), (1593, 0.02564102564102564), (1594, 0.042051713353118), (1595, 0.0), (1596, 0.05825517280354631), (1597, 0.0), (1598, 0.025007816164017767), (1599, 0.03942082639927217), (1600, 0.0), (1601, 0.05947010334500526), (1602, 0.06163335513613657), (1603, 0.06052275326688024), (1604, 0.04941662111074008), (1605, 0.03673591791853225), (1606, 0.0), (1607, 0.0), (1608, 0.025007816164017767), (1609, 0.03673591791853225), (1610, 0.09883324222148016), (1611, 0.0), (1612, 0.10984700727621793), (1613, 0.11322770341445958), (1614, 0.03413943709994594), (1615, 0.0), (1616, 0.0), (1617, 0.08006407690254357), (1618, 0.021995293510729184), (1619, 0.07007127538005775), (1620, 0.0), (1621, 0.04721921646498856), (1622, 0.0), (1623, 0.0), (1624, 0.0), (1625, 0.042796049251091296), (1626, 0.03883678186903087), (1627, 0.05847053462046861), (1628, 0.06933752452815364), (1629, 0.0), (1630, 0.06641806418489572), (1631, 0.05661385170722978), (1632, 0.0), (1633, 0.0), (1634, 0.019861453057473933), (1635, 0.084103426706236), (1636, 0.0), (1637, 0.017576348305930706), (1638, 0.02414022747926338), (1639, 0.04774099160262886), (1640, 0.025007816164017767), (1641, 0.0), (1642, 0.025976216673306556), (1643, 0.0), (1644, 0.023112508176051216), (1645, 0.05751973085430508), (1646, 0.021398024625545648), (1647, 0.04622501635210243), (1648, 0.03394710071254494), (1649, 0.025007816164017767), (1650, 0.0), (1651, 0.07161148740394328), (1652, 0.044844852933087494), (1653, 0.0), (1654, 0.11894020669001051), (1655, 0.07655590023509527), (1656, 0.03026137663344012), (1657, 0.025318484177091666), (1658, 0.0), (1659, 0.0), (1660, 0.07548513560963972), (1661, 0.0), (1662, 0.0), (1663, 0.05492350363810897), (1664, 0.03026137663344012), (1665, 0.0), (1666, 0.03494282789073061), (1667, 0.032686022523030676), (1668, 0.0), (1669, 0.11651034560709261), (1670, 0.03026137663344012), (1671, 0.04688072309384955), (1672, 0.04358136336404089), (1673, 0.04358136336404089), (1674, 0.05404747453311749), (1675, 0.0), (1676, 0.0), (1677, 0.03413943709994594), (1678, 0.0), (1679, 0.0), (1680, 0.021591675854376526), (1681, 0.030816677568068284), (1682, 0.09245003270420485), (1683, 0.0), (1684, 0.08006407690254357), (1685, 0.03580574370197164), (1686, 0.023357091793352585), (1687, 0.0), (1688, 0.0915018021743355), (1689, 0.019562767576168476), (1690, 0.04575090108716775), (1691, 0.027461751819054483), (1692, 0.0), (1693, 0.023112508176051216), (1694, 0.07767356373806174), (1695, 0.0), (1696, 0.05413319619607667), (1697, 0.0915018021743355), (1698, 0.0), (1699, 0.05751973085430508), (1700, 0.022205779584216375), (1701, 0.02360960823249428), (1702, 0.03413943709994594), (1703, 0.06052275326688024), (1704, 0.021591675854376526), (1705, 0.0), (1706, 0.0), (1707, 0.0), (1708, 0.0), (1709, 0.055749467333806056), (1710, 0.0), (1711, 0.11651034560709261), (1712, 0.0), (1713, 0.0), (1714, 0.0), (1715, 0.05195243334661311), (1716, 0.029235267310234306), (1717, 0.09078412990032037), (1718, 0.0), (1719, 0.03413943709994594), (1720, 0.03140371465106639), (1721, 0.04358136336404089), (1722, 0.05492350363810897), (1723, 0.09421114395319916), (1724, 0.0), (1725, 0.023112508176051216), (1726, 0.044844852933087494), (1727, 0.027874733666903028), (1728, 0.02360960823249428), (1729, 0.04134491152973615), (1730, 0.0), (1731, 0.019562767576168476), (1732, 0.0), (1733, 0.06677805632941779), (1734, 0.0), (1735, 0.02632490632463282), (1736, 0.050015632328035534), (1737, 0.12301385521570944), (1738, 0.0), (1739, 0.03774256780481986), (1740, 0.0), (1741, 0.10241831129983783), (1742, 0.05128205128205128), (1743, 0.08006407690254357), (1744, 0.04399058702145837), (1745, 0.08238525545716345), (1746, 0.02830692585361489), (1747, 0.04100461840523648), (1748, 0.0), (1749, 0.024419314525275217), (1750, 0.021398024625545648), (1751, 0.0), (1752, 0.08920515501750789), (1753, 0.03673591791853225), (1754, 0.0), (1755, 0.04241898419838518), (1756, 0.027874733666903028), (1757, 0.0), (1758, 0.019418390934515434), (1759, 0.04441155916843275), (1760, 0.0), (1761, 0.07007127538005775), (1762, 0.0), (1763, 0.042796049251091296), (1764, 0.05264981264926564), (1765, 0.03494282789073061), (1766, 0.0734718358370645), (1767, 0.10003126465607107), (1768, 0.019710413199636085), (1769, 0.0), (1770, 0.12326671027227314), (1771, 0.09638582199437336), (1772, 0.0), (1773, 0.038554328797749345), (1774, 0.0), (1775, 0.0), (1776, 0.0), (1777, 0.0), (1778, 0.03494282789073061), (1779, 0.08798117404291673), (1780, 0.0), (1781, 0.038554328797749345), (1782, 0.023357091793352585), (1783, 0.0), (1784, 0.02387049580131443), (1785, 0.03494282789073061), (1786, 0.05413319619607667), (1787, 0.0), (1788, 0.02564102564102564), (1789, 0.0), (1790, 0.0), (1791, 0.0), (1792, 0.05492350363810897), (1793, 0.0), (1794, 0.019861453057473933), (1795, 0.04774099160262886), (1796, 0.04529108136578383), (1797, 0.02360960823249428), (1798, 0.04441155916843275), (1799, 0.030816677568068284), (1800, 0.03140371465106639), (1801, 0.03140371465106639), (1802, 0.0), (1803, 0.0), (1804, 0.13344012817090595), (1805, 0.02632490632463282), (1806, 0.053376051268362375), (1807, 0.026688025634181187), (1808, 0.027874733666903028), (1809, 0.04034850217792015), (1810, 0.022645540682891915), (1811, 0.025976216673306556), (1812, 0.02414022747926338), (1813, 0.042051713353118), (1814, 0.0), (1815, 0.013344012817090594), (1816, 0.0), (1817, 0.027066598098038335), (1818, 0.04134491152973615), (1819, 0.09656090991705352), (1820, 0.0), (1821, 0.0), (1822, 0.0), (1823, 0.053376051268362375), (1824, 0.07884165279854434), (1825, 0.0), (1826, 0.0), (1827, 0.16349964255346808), (1828, 0.08559209850218259), (1829, 0.11694106924093722), (1830, 0.0), (1831, 0.0), (1832, 0.01651595799587627), (1833, 0.027874733666903028), (1834, 0.024419314525275217), (1835, 0.0), (1836, 0.0), (1837, 0.04828045495852676), (1838, 0.05264981264926564), (1839, 0.03026137663344012), (1840, 0.0), (1841, 0.0), (1842, 0.09342836717341034), (1843, 0.06793662204867575), (1844, 0.063077570029677), (1845, 0.033389028164708894), (1846, 0.026688025634181187), (1847, 0.0), (1848, 0.0), (1849, 0.0), (1850, 0.06280742930213278), (1851, 0.019861453057473933), (1852, 0.0335719831132296), (1853, 0.03912553515233695), (1854, 0.0), (1855, 0.027066598098038335), (1856, 0.06537204504606135), (1857, 0.03394710071254494), (1858, 0.04134491152973615), (1859, 0.035414412348741424), (1860, 0.022645540682891915), (1861, 0.0), (1862, 0.029235267310234306), (1863, 0.038554328797749345), (1864, 0.04134491152973615), (1865, 0.0), (1866, 0.030816677568068284), (1867, 0.0), (1868, 0.02470831055537004), (1869, 0.018367958959266125), (1870, 0.021591675854376526), (1871, 0.0), (1872, 0.019861453057473933), (1873, 0.0), (1874, 0.12104550653376046), (1875, 0.03774256780481986), (1876, 0.0), (1877, 0.03202563076101743), (1878, 0.0), (1879, 0.07007127538005775), (1880, 0.09805806756909202), (1881, 0.02414022747926338), (1882, 0.03413943709994594), (1883, 0.0), (1884, 0.025007816164017767), (1885, 0.0), (1886, 0.0), (1887, 0.0), (1888, 0.0), (1889, 0.0), (1890, 0.0), (1891, 0.0), (1892, 0.04575090108716775), (1893, 0.04003203845127178), (1894, 0.07767356373806174), (1895, 0.03140371465106639), (1896, 0.02564102564102564), (1897, 0.03774256780481986), (1898, 0.029235267310234306), (1899, 0.02470831055537004), (1900, 0.0), (1901, 0.0), (1902, 0.09058216273156766), (1903, 0.0), (1904, 0.0503579746698444), (1905, 0.0), (1906, 0.02387049580131443), (1907, 0.033389028164708894), (1908, 0.02387049580131443), (1909, 0.04941662111074008), (1910, 0.019138975058773818), (1911, 0.02414022747926338), (1912, 0.022645540682891915), (1913, 0.0), (1914, 0.03698001308168194), (1915, 0.0), (1916, 0.21977383072747692), (1917, 0.0), (1918, 0.03883678186903087), (1919, 0.0), (1920, 0.07601486235852867), (1921, 0.03580574370197164), (1922, 0.07767356373806174), (1923, 0.03026137663344012), (1924, 0.05413319619607667), (1925, 0.055749467333806056), (1926, 0.0), (1927, 0.0), (1928, 0.0), (1929, 0.02414022747926338), (1930, 0.03140371465106639), (1931, 0.0), (1932, 0.023112508176051216), (1933, 0.027066598098038335), (1934, 0.1416576493949657), (1935, 0.03883678186903087), (1936, 0.02120949209919259), (1937, 0.0), (1938, 0.09421114395319916), (1939, 0.03026137663344012), (1940, 0.05947010334500526), (1941, 0.13344012817090595), (1942, 0.0), (1943, 0.0), (1944, 0.03413943709994594), (1945, 0.026688025634181187), (1946, 0.06280742930213278), (1947, 0.025318484177091666), (1948, 0.024419314525275217), (1949, 0.014098497814593786), (1950, 0.0), (1951, 0.0), (1952, 0.03673591791853225), (1953, 0.04529108136578383), (1954, 0.042796049251091296), (1955, 0.0711680683578165), (1956, 0.026688025634181187), (1957, 0.02632490632463282), (1958, 0.04399058702145837), (1959, 0.04358136336404089), (1960, 0.03026137663344012), (1961, 0.13592873654160803), (1962, 0.0), (1963, 0.0), (1964, 0.02632490632463282), (1965, 0.03580574370197164), (1966, 0.04774099160262886), (1967, 0.029235267310234306), (1968, 0.0), (1969, 0.06052275326688024), (1970, 0.0), (1971, 0.02470831055537004), (1972, 0.0), (1973, 0.0), (1974, 0.0), (1975, 0.063077570029677), (1976, 0.021995293510729184), (1977, 0.026688025634181187), (1978, 0.16477051091432687), (1979, 0.05492350363810897), (1980, 0.04134491152973615), (1981, 0.0), (1982, 0.03883678186903087), (1983, 0.021790681682020446), (1984, 0.0), (1985, 0.0), (1986, 0.0734718358370645), (1987, 0.020672455764868074), (1988, 0.032186969972351175), (1989, 0.05128205128205128), (1990, 0.0), (1991, 0.0), (1992, 0.0716114874039433), (1993, 0.04529108136578383), (1994, 0.0), (1995, 0.0), (1996, 0.0), (1997, 0.039722906114947866), (1998, 0.06661733875264912), (1999, 0.06362847629757777), (2000, 0.0), (2001, 0.074458079104994), (2002, 0.023112508176051216), (2003, 0.04003203845127178), (2004, 0.04828045495852676), (2005, 0.04721921646498856), (2006, 0.0), (2007, 0.0), (2008, 0.02470831055537004), (2009, 0.04828045495852676), (2010, 0.023357091793352585), (2011, 0.03140371465106639), (2012, 0.0), (2013, 0.030816677568068284), (2014, 0.07412493166611012), (2015, 0.030816677568068284), (2016, 0.0), (2017, 0.07242068243779014), (2018, 0.05413319619607667), (2019, 0.05868830272850543), (2020, 0.027066598098038335), (2021, 0.044844852933087494), (2022, 0.0), (2023, 0.0), (2024, 0.026688025634181187), (2025, 0.019710413199636085), (2026, 0.023357091793352585), (2027, 0.0), (2028, 0.05120915564991892), (2029, 0.019710413199636085), (2030, 0.0), (2031, 0.06598588053218755), (2032, 0.0), (2033, 0.0), (2034, 0.03673591791853225), (2035, 0.0), (2036, 0.0), (2037, 0.0), (2038, 0.02875986542715254), (2039, 0.0), (2040, 0.02830692585361489), (2041, 0.0), (2042, 0.02360960823249428), (2043, 0.0), (2044, 0.0), (2045, 0.05247283798836394), (2046, 0.02470831055537004), (2047, 0.024419314525275217), (2048, 0.06419407387663695), (2049, 0.09607689228305229), (2050, 0.039722906114947866), (2051, 0.02414022747926338), (2052, 0.07242068243779014), (2053, 0.027874733666903028), (2054, 0.0), (2055, 0.04883862905055043), (2056, 0.11694106924093722), (2057, 0.04003203845127178), (2058, 0.0), (2059, 0.044844852933087494), (2060, 0.0), (2061, 0.033389028164708894), (2062, 0.02470831055537004), (2063, 0.03140371465106639), (2064, 0.0), (2065, 0.0), (2066, 0.0335719831132296), (2067, 0.02120949209919259), (2068, 0.10390486669322622), (2069, 0.0), (2070, 0.0), (2071, 0.14617633655117152), (2072, 0.03413943709994594), (2073, 0.02632490632463282), (2074, 0.0), (2075, 0.0), (2076, 0.021995293510729184), (2077, 0.018248296715045298), (2078, 0.016878989451394443), (2079, 0.022205779584216375), (2080, 0.0), (2081, 0.04134491152973615), (2082, 0.0), (2083, 0.04774099160262886), (2084, 0.0), (2085, 0.0), (2086, 0.05847053462046861), (2087, 0.05413319619607667), (2088, 0.021995293510729184), (2089, 0.09078412990032037), (2090, 0.0), (2091, 0.023357091793352585), (2092, 0.0), (2093, 0.0), (2094, 0.0), (2095, 0.1025115460130912), (2096, 0.032686022523030676), (2097, 0.033389028164708894), (2098, 0.0), (2099, 0.06933752452815364), (2100, 0.0), (2101, 0.0), (2102, 0.10168147934776052), (2103, 0.0), (2104, 0.0), (2105, 0.0863667034175061), (2106, 0.03026137663344012), (2107, 0.0), (2108, 0.05847053462046861), (2109, 0.06280742930213278), (2110, 0.06827887419989188), (2111, 0.08735706972682653), (2112, 0.0), (2113, 0.03413943709994594), (2114, 0.0), (2115, 0.0), (2116, 0.06052275326688024), (2117, 0.0), (2118, 0.02875986542715254), (2119, 0.0), (2120, 0.0), (2121, 0.0), (2122, 0.0), (2123, 0.06163335513613657), (2124, 0.08006407690254357), (2125, 0.0), (2126, 0.04358136336404089), (2127, 0.0), (2128, 0.026688025634181187), (2129, 0.13074409009212268), (2130, 0.02632490632463282), (2131, 0.06419407387663695), (2132, 0.03673591791853225), (2133, 0.0), (2134, 0.02973505167250263), (2135, 0.0), (2136, 0.0), (2137, 0.0), (2138, 0.04756514941544941), (2139, 0.0), (2140, 0.030816677568068284), (2141, 0.0), (2142, 0.05751973085430508), (2143, 0.0), (2144, 0.09883324222148016), (2145, 0.025976216673306556), (2146, 0.037483165639491674), (2147, 0.0), (2148, 0.024419314525275217), (2149, 0.042051713353118), (2150, 0.02120949209919259), (2151, 0.03140371465106639), (2152, 0.0), (2153, 0.016343011261515338), (2154, 0.04941662111074008), (2155, 0.05947010334500526), (2156, 0.024419314525275217), (2157, 0.10016708449412667), (2158, 0.04358136336404089), (2159, 0.07412493166611012), (2160, 0.025976216673306556), (2161, 0.0734718358370645), (2162, 0.0), (2163, 0.081199794294115), (2164, 0.0), (2165, 0.13533299049019168), (2166, 0.0), (2167, 0.0), (2168, 0.026688025634181187), (2169, 0.019562767576168476), (2170, 0.0), (2171, 0.05413319619607667), (2172, 0.0), (2173, 0.025318484177091666), (2174, 0.03883678186903087), (2175, 0.05413319619607667), (2176, 0.02470831055537004), (2177, 0.12503908082008883), (2178, 0.0), (2179, 0.0), (2180, 0.025318484177091666), (2181, 0.05661385170722978), (2182, 0.023357091793352585), (2183, 0.023357091793352585), (2184, 0.0), (2185, 0.027066598098038335), (2186, 0.07299318686018119), (2187, 0.020174251088960076), (2188, 0.0), (2189, 0.0), (2190, 0.03140371465106639), (2191, 0.036031649688745), (2192, 0.027461751819054483), (2193, 0.0), (2194, 0.0), (2195, 0.033389028164708894), (2196, 0.025007816164017767), (2197, 0.02414022747926338), (2198, 0.02830692585361489), (2199, 0.0806970043558403), (2200, 0.1709352016769265), (2201, 0.03673591791853225), (2202, 0.027874733666903028), (2203, 0.01706971854997297), (2204, 0.02632490632463282), (2205, 0.06793662204867575), (2206, 0.0), (2207, 0.050015632328035534), (2208, 0.0734718358370645), (2209, 0.04067259173910421), (2210, 0.0), (2211, 0.04774099160262886), (2212, 0.05751973085430508), (2213, 0.0), (2214, 0.06405126152203486), (2215, 0.075955452531275), (2216, 0.021398024625545648), (2217, 0.0), (2218, 0.0), (2219, 0.020672455764868074), (2220, 0.05128205128205128), (2221, 0.0), (2222, 0.03912553515233695), (2223, 0.02973505167250263), (2224, 0.06163335513613657), (2225, 0.02632490632463282), (2226, 0.055749467333806056), (2227, 0.03140371465106639), (2228, 0.04622501635210243), (2229, 0.02973505167250263), (2230, 0.03202563076101743), (2231, 0.08238525545716345), (2232, 0.023112508176051216), (2233, 0.0), (2234, 0.0), (2235, 0.0), (2236, 0.0), (2237, 0.09342836717341034), (2238, 0.0), (2239, 0.06726727939963124), (2240, 0.0), (2241, 0.0), (2242, 0.0), (2243, 0.10003126465607107), (2244, 0.0), (2245, 0.0), (2246, 0.06405126152203486), (2247, 0.08920515501750789), (2248, 0.0), (2249, 0.09656090991705352), (2250, 0.021591675854376526), (2251, 0.0), (2252, 0.07396002616336388), (2253, 0.0), (2254, 0.0), (2255, 0.06280742930213278), (2256, 0.0), (2257, 0.055749467333806056), (2258, 0.0), (2259, 0.02414022747926338), (2260, 0.063077570029677), (2261, 0.0), (2262, 0.029235267310234306), (2263, 0.03202563076101743), (2264, 0.06405126152203486), (2265, 0.02470831055537004), (2266, 0.06163335513613657), (2267, 0.03140371465106639), (2268, 0.02387049580131443), (2269, 0.0), (2270, 0.07548513560963972), (2271, 0.0), (2272, 0.02387049580131443), (2273, 0.0), (2274, 0.0), (2275, 0.0), (2276, 0.0), (2277, 0.0), (2278, 0.03580574370197164), (2279, 0.03202563076101743), (2280, 0.11556254088025608), (2281, 0.0), (2282, 0.0), (2283, 0.0), (2284, 0.0), (2285, 0.0), (2286, 0.0), (2287, 0.056613851707229795), (2288, 0.0), (2289, 0.0), (2290, 0.044036771377507694), (2291, 0.07897471897389846), (2292, 0.0), (2293, 0.07161148740394328), (2294, 0.025976216673306556), (2295, 0.03494282789073061), (2296, 0.04883862905055043), (2297, 0.015553021195625068), (2298, 0.06477502756312958), (2299, 0.0), (2300, 0.08238525545716345), (2301, 0.06537204504606134), (2302, 0.0), (2303, 0.016093484986175587), (2304, 0.03202563076101743), (2305, 0.06405126152203486), (2306, 0.0), (2307, 0.0), (2308, 0.0), (2309, 0.0), (2310, 0.0), (2311, 0.04441155916843275), (2312, 0.027874733666903028), (2313, 0.06988565578146122), (2314, 0.0), (2315, 0.06201736729460422), (2316, 0.06477502756312958), (2317, 0.0), (2318, 0.0), (2319, 0.09805806756909202), (2320, 0.0), (2321, 0.02387049580131443), (2322, 0.07161148740394328), (2323, 0.030816677568068284), (2324, 0.022645540682891915), (2325, 0.0), (2326, 0.027874733666903028), (2327, 0.12009611535381534), (2328, 0.0), (2329, 0.20180183819889372), (2330, 0.0), (2331, 0.0), (2332, 0.0), (2333, 0.027461751819054483), (2334, 0.0), (2335, 0.07548513560963972), (2336, 0.021398024625545648), (2337, 0.023357091793352585), (2338, 0.030816677568068284), (2339, 0.0167859915566148), (2340, 0.023112508176051216), (2341, 0.0), (2342, 0.03140371465106639), (2343, 0.027066598098038335), (2344, 0.029235267310234306), (2345, 0.04539206495016018), (2346, 0.0), (2347, 0.021591675854376526), (2348, 0.04828045495852676), (2349, 0.04003203845127178), (2350, 0.08483796839677037), (2351, 0.055749467333806056), (2352, 0.025007816164017767), (2353, 0.0), (2354, 0.04622501635210243), (2355, 0.0), (2356, 0.0), (2357, 0.019861453057473933), (2358, 0.019003715589632167), (2359, 0.08798117404291673), (2360, 0.020846909961254163), (2361, 0.020672455764868074), (2362, 0.02387049580131443), (2363, 0.03698001308168194), (2364, 0.026688025634181187), (2365, 0.03494282789073061), (2366, 0.020846909961254163), (2367, 0.03140371465106639), (2368, 0.11102889792108188), (2369, 0.022205779584216375), (2370, 0.02564102564102564), (2371, 0.02973505167250263), (2372, 0.04828045495852676), (2373, 0.02470831055537004), (2374, 0.12810252304406972), (2375, 0.0), (2376, 0.02120949209919259), (2377, 0.06988565578146122), (2378, 0.02360960823249428), (2379, 0.0), (2380, 0.0), (2381, 0.0), (2382, 0.0817150563075767), (2383, 0.02387049580131443), (2384, 0.042796049251091296), (2385, 0.0), (2386, 0.0), (2387, 0.0), (2388, 0.03774256780481986), (2389, 0.02875986542715254), (2390, 0.03580574370197164), (2391, 0.0716114874039433), (2392, 0.08920515501750789), (2393, 0.05913123959890826), (2394, 0.0), (2395, 0.0), (2396, 0.02830692585361489), (2397, 0.04883862905055043), (2398, 0.0), (2399, 0.0), (2400, 0.06598588053218755), (2401, 0.0), (2402, 0.033389028164708894), (2403, 0.0), (2404, 0.025007816164017767), (2405, 0.23870495801314426), (2406, 0.033389028164708894), (2407, 0.0), (2408, 0.025007816164017767), (2409, 0.03026137663344012), (2410, 0.02414022747926338), (2411, 0.0), (2412, 0.03413943709994594), (2413, 0.03774256780481986), (2414, 0.027066598098038335), (2415, 0.05063696835418333), (2416, 0.021790681682020446), (2417, 0.0), (2418, 0.03912553515233695), (2419, 0.025976216673306556), (2420, 0.0), (2421, 0.0), (2422, 0.0), (2423, 0.0), (2424, 0.02120949209919259), (2425, 0.038277950117547636), (2426, 0.02360960823249428), (2427, 0.0), (2428, 0.04828045495852676), (2429, 0.03774256780481986), (2430, 0.0), (2431, 0.06677805632941779), (2432, 0.0), (2433, 0.02414022747926338), (2434, 0.0), (2435, 0.10336227882434038), (2436, 0.05063696835418333), (2437, 0.022645540682891915), (2438, 0.0), (2439, 0.03413943709994594), (2440, 0.053376051268362375), (2441, 0.0734718358370645), (2442, 0.0), (2443, 0.03026137663344012), (2444, 0.08684168428648435), (2445, 0.075955452531275), (2446, 0.1235415527768502), (2447, 0.0), (2448, 0.0), (2449, 0.024419314525275217), (2450, 0.0), (2451, 0.03202563076101743), (2452, 0.09805806756909202), (2453, 0.03494282789073061), (2454, 0.0), (2455, 0.0), (2456, 0.0), (2457, 0.030816677568068284), (2458, 0.0), (2459, 0.030816677568068284), (2460, 0.02470831055537004), (2461, 0.02875986542715254), (2462, 0.0), (2463, 0.02414022747926338), (2464, 0.0), (2465, 0.025976216673306556), (2466, 0.0), (2467, 0.025318484177091666), (2468, 0.04169381992250833), (2469, 0.022422426466543747), (2470, 0.03558403417890825), (2471, 0.05063696835418333), (2472, 0.03433508017497365), (2473, 0.022422426466543747), (2474, 0.05661385170722978), (2475, 0.06988565578146122), (2476, 0.12009611535381534), (2477, 0.025007816164017767), (2478, 0.0), (2479, 0.0), (2480, 0.0), (2481, 0.0), (2482, 0.027874733666903028), (2483, 0.023357091793352585), (2484, 0.0915018021743355), (2485, 0.0), (2486, 0.02414022747926338), (2487, 0.0), (2488, 0.04774099160262886), (2489, 0.0), (2490, 0.0), (2491, 0.025007816164017767), (2492, 0.13937366833451514), (2493, 0.0), (2494, 0.10336227882434038), (2495, 0.02632490632463282), (2496, 0.02973505167250263), (2497, 0.0), (2498, 0.05195243334661311), (2499, 0.0), (2500, 0.033389028164708894), (2501, 0.017267062892749263), (2502, 0.05947010334500526), (2503, 0.0), (2504, 0.0), (2505, 0.0), (2506, 0.0), (2507, 0.0), (2508, 0.03580574370197164), (2509, 0.0), (2510, 0.025007816164017767), (2511, 0.1634301126151534), (2512, 0.023112508176051216), (2513, 0.0), (2514, 0.0), (2515, 0.06373338729429075), (2516, 0.06201736729460422), (2517, 0.10241831129983783), (2518, 0.0), (2519, 0.0), (2520, 0.022645540682891915), (2521, 0.021995293510729184), (2522, 0.0), (2523, 0.0625407298837625), (2524, 0.0), (2525, 0.04622501635210243), (2526, 0.0), (2527, 0.0), (2528, 0.0), (2529, 0.06537204504606135), (2530, 0.0), (2531, 0.02830692585361489), (2532, 0.025007816164017767), (2533, 0.0), (2534, 0.06052275326688024), (2535, 0.03673591791853225), (2536, 0.0), (2537, 0.02050230920261824), (2538, 0.0), (2539, 0.02470831055537004), (2540, 0.0), (2541, 0.0), (2542, 0.02973505167250263), (2543, 0.11437725271791938), (2544, 0.0), (2545, 0.05783149319662402), (2546, 0.0), (2547, 0.06988565578146122), (2548, 0.05195243334661311), (2549, 0.03494282789073061), (2550, 0.0), (2551, 0.05413319619607667), (2552, 0.09443843292997713), (2553, 0.0), (2554, 0.03413943709994594), (2555, 0.0), (2556, 0.023112508176051216), (2557, 0.0), (2558, 0.09421114395319916), (2559, 0.0), (2560, 0.03026137663344012), (2561, 0.015777895820254743), (2562, 0.03140371465106639), (2563, 0.05741692517632145), (2564, 0.0), (2565, 0.0), (2566, 0.09007912422186248), (2567, 0.05413319619607667), (2568, 0.0), (2569, 0.03580574370197164), (2570, 0.02875986542715254), (2571, 0.04399058702145837), (2572, 0.0), (2573, 0.04529108136578383), (2574, 0.0), (2575, 0.06405126152203486), (2576, 0.0), (2577, 0.03494282789073061), (2578, 0.019861453057473933), (2579, 0.08238525545716345), (2580, 0.13355611265883557), (2581, 0.03580574370197164), (2582, 0.022422426466543747), (2583, 0.019418390934515434), (2584, 0.029235267310234306), (2585, 0.05661385170722978), (2586, 0.0), (2587, 0.0), (2588, 0.09245003270420486), (2589, 0.053376051268362375), (2590, 0.0), (2591, 0.0), (2592, 0.06598588053218755), (2593, 0.0), (2594, 0.05404747453311749), (2595, 0.0), (2596, 0.06163335513613657), (2597, 0.0), (2598, 0.0), (2599, 0.04003203845127178), (2600, 0.021995293510729184), (2601, 0.02414022747926338), (2602, 0.022205779584216375), (2603, 0.0), (2604, 0.03673591791853225), (2605, 0.020672455764868074), (2606, 0.04003203845127178), (2607, 0.022205779584216375), (2608, 0.02120949209919259), (2609, 0.0), (2610, 0.0), (2611, 0.027461751819054483), (2612, 0.0), (2613, 0.02360960823249428), (2614, 0.0), (2615, 0.029235267310234306), (2616, 0.06052275326688024), (2617, 0.03774256780481986), (2618, 0.06677805632941779), (2619, 0.03413943709994594), (2620, 0.0), (2621, 0.0), (2622, 0.0), (2623, 0.025007816164017767), (2624, 0.0), (2625, 0.02001601922563589), (2626, 0.0), (2627, 0.02360960823249428), (2628, 0.027461751819054483), (2629, 0.0), (2630, 0.10482848367219183), (2631, 0.04622501635210243), (2632, 0.055749467333806056), (2633, 0.0), (2634, 0.025007816164017767), (2635, 0.04828045495852676), (2636, 0.03580574370197164), (2637, 0.0), (2638, 0.04575090108716775), (2639, 0.0), (2640, 0.08006407690254357), (2641, 0.09421114395319916), (2642, 0.0), (2643, 0.042796049251091296), (2644, 0.05868830272850543), (2645, 0.0), (2646, 0.09342836717341034), (2647, 0.08920515501750789), (2648, 0.12104550653376048), (2649, 0.023357091793352585), (2650, 0.0), (2651, 0.0), (2652, 0.03494282789073061), (2653, 0.06419407387663695), (2654, 0.029235267310234306), (2655, 0.05264981264926564), (2656, 0.08627959628145762), (2657, 0.081199794294115), (2658, 0.027066598098038335), (2659, 0.04034850217792015), (2660, 0.06537204504606135), (2661, 0.0), (2662, 0.03026137663344012), (2663, 0.0), (2664, 0.0), (2665, 0.025318484177091666), (2666, 0.0), (2667, 0.08006407690254357), (2668, 0.03413943709994594), (2669, 0.023112508176051216), (2670, 0.11322770341445959), (2671, 0.0), (2672, 0.02632490632463282), (2673, 0.0), (2674, 0.022875450543583874), (2675, 0.0), (2676, 0.04399058702145837), (2677, 0.0), (2678, 0.02973505167250263), (2679, 0.07792865001991967), (2680, 0.02973505167250263), (2681, 0.0), (2682, 0.12659242088545833), (2683, 0.03202563076101743), (2684, 0.03975690090603474), (2685, 0.05492350363810897), (2686, 0.03026137663344012), (2687, 0.0), (2688, 0.04575090108716775), (2689, 0.04671418358670517), (2690, 0.0), (2691, 0.0), (2692, 0.0), (2693, 0.0), (2694, 0.03494282789073061), (2695, 0.0), (2696, 0.04671418358670517), (2697, 0.07082882469748285), (2698, 0.0), (2699, 0.02564102564102564), (2700, 0.0), (2701, 0.0), (2702, 0.026688025634181187), (2703, 0.0), (2704, 0.03774256780481986), (2705, 0.04828045495852676), (2706, 0.023357091793352585), (2707, 0.04721921646498856), (2708, 0.0734718358370645), (2709, 0.08798117404291673), (2710, 0.032686022523030676), (2711, 0.06405126152203486), (2712, 0.0), (2713, 0.02360960823249428), (2714, 0.05847053462046861), (2715, 0.0), (2716, 0.0), (2717, 0.033389028164708894), (2718, 0.02387049580131443), (2719, 0.04721921646498856), (2720, 0.03774256780481986), (2721, 0.03580574370197164), (2722, 0.027066598098038335), (2723, 0.023112508176051216), (2724, 0.0), (2725, 0.03774256780481986), (2726, 0.02470831055537004), (2727, 0.15408338784034142), (2728, 0.0), (2729, 0.018367958959266125), (2730, 0.0186145197762485), (2731, 0.02632490632463282), (2732, 0.0), (2733, 0.03413943709994594), (2734, 0.0), (2735, 0.0), (2736, 0.08716272672808179), (2737, 0.11322770341445956), (2738, 0.0), (2739, 0.06280742930213278), (2740, 0.02001601922563589), (2741, 0.0), (2742, 0.0), (2743, 0.0), (2744, 0.02830692585361489), (2745, 0.0), (2746, 0.0), (2747, 0.02973505167250263), (2748, 0.039722906114947866), (2749, 0.0), (2750, 0.0), (2751, 0.0), (2752, 0.02360960823249428), (2753, 0.021591675854376526), (2754, 0.04399058702145837), (2755, 0.027066598098038335), (2756, 0.14592836972877915), (2757, 0.03413943709994594), (2758, 0.10016708449412667), (2759, 0.06988565578146122), (2760, 0.03774256780481986), (2761, 0.0), (2762, 0.0), (2763, 0.02632490632463282), (2764, 0.053376051268362375), (2765, 0.0), (2766, 0.0), (2767, 0.04721921646498856), (2768, 0.06988565578146122), (2769, 0.0), (2770, 0.023357091793352585), (2771, 0.021591675854376526), (2772, 0.04529108136578383), (2773, 0.027066598098038335), (2774, 0.0), (2775, 0.0), (2776, 0.03883678186903087), (2777, 0.04941662111074008), (2778, 0.022875450543583874), (2779, 0.03413943709994594), (2780, 0.019710413199636085), (2781, 0.0), (2782, 0.21571674297647797), (2783, 0.09607689228305229), (2784, 0.0), (2785, 0.11322770341445959), (2786, 0.05272904491779212), (2787, 0.023112508176051216), (2788, 0.07944581222989573), (2789, 0.026688025634181187), (2790, 0.05264981264926564), (2791, 0.05492350363810897), (2792, 0.0888231183368655), (2793, 0.027066598098038335), (2794, 0.0), (2795, 0.02564102564102564), (2796, 0.0), (2797, 0.0734718358370645), (2798, 0.04358136336404089), (2799, 0.0), (2800, 0.02001601922563589), (2801, 0.04529108136578383), (2802, 0.0), (2803, 0.03140371465106639), (2804, 0.06537204504606135), (2805, 0.0), (2806, 0.05847053462046861), (2807, 0.050738547128998585), (2808, 0.03494282789073061), (2809, 0.04883862905055043), (2810, 0.02973505167250263), (2811, 0.02632490632463282), (2812, 0.0), (2813, 0.10256410256410256), (2814, 0.020846909961254163), (2815, 0.0), (2816, 0.09058216273156766), (2817, 0.0), (2818, 0.020174251088960076), (2819, 0.025007816164017767), (2820, 0.05661385170722978), (2821, 0.05063696835418333), (2822, 0.05413319619607667), (2823, 0.025318484177091666), (2824, 0.04883862905055043), (2825, 0.02632490632463282), (2826, 0.032686022523030676), (2827, 0.06933752452815364), (2828, 0.06405126152203486), (2829, 0.0), (2830, 0.0), (2831, 0.04575090108716775), (2832, 0.03202563076101743), (2833, 0.0), (2834, 0.0), (2835, 0.0), (2836, 0.05751973085430508), (2837, 0.025976216673306556), (2838, 0.02360960823249428), (2839, 0.029235267310234306), (2840, 0.0), (2841, 0.0), (2842, 0.032686022523030676), (2843, 0.0), (2844, 0.0), (2845, 0.0), (2846, 0.04622501635210243), (2847, 0.05063696835418333), (2848, 0.07082882469748285), (2849, 0.04134491152973615), (2850, 0.06827887419989188), (2851, 0.0), (2852, 0.08559209850218259), (2853, 0.0), (2854, 0.025976216673306556), (2855, 0.02564102564102564), (2856, 0.02001601922563589), (2857, 0.04003203845127178), (2858, 0.0), (2859, 0.02470831055537004), (2860, 0.04529108136578383), (2861, 0.081199794294115), (2862, 0.0), (2863, 0.02050230920261824), (2864, 0.08770580193070292), (2865, 0.0), (2866, 0.04003203845127178), (2867, 0.0), (2868, 0.03580574370197164), (2869, 0.1283881477532739), (2870, 0.0), (2871, 0.0), (2872, 0.0), (2873, 0.08006407690254357), (2874, 0.0), (2875, 0.026688025634181187), (2876, 0.08559209850218259), (2877, 0.016012815380508715), (2878, 0.023419460640809617), (2879, 0.023052553449442244), (2880, 0.06280742930213278), (2881, 0.01887128390240993), (2882, 0.021995293510729184), (2883, 0.0), (2884, 0.0), (2885, 0.03026137663344012), (2886, 0.06362847629757777), (2887, 0.020336295869552105), (2888, 0.06405126152203486), (2889, 0.04003203845127178), (2890, 0.02470831055537004), (2891, 0.0), (2892, 0.042796049251091296), (2893, 0.0), (2894, 0.03580574370197164), (2895, 0.023357091793352585), (2896, 0.0), (2897, 0.0), (2898, 0.0), (2899, 0.029235267310234306), (2900, 0.05063696835418333), (2901, 0.06933752452815364), (2902, 0.019418390934515434), (2903, 0.0), (2904, 0.0), (2905, 0.03413943709994594), (2906, 0.0), (2907, 0.0), (2908, 0.01651595799587627), (2909, 0.0), (2910, 0.03202563076101743), (2911, 0.03494282789073061), (2912, 0.04622501635210243), (2913, 0.02875986542715254), (2914, 0.07412493166611012), (2915, 0.0), (2916, 0.02830692585361489), (2917, 0.03202563076101743), (2918, 0.052414241836095915), (2919, 0.0), (2920, 0.032686022523030676), (2921, 0.0), (2922, 0.02360960823249428), (2923, 0.03580574370197164), (2924, 0.0), (2925, 0.027874733666903028), (2926, 0.0), (2927, 0.027066598098038335), (2928, 0.0), (2929, 0.02564102564102564), (2930, 0.0), (2931, 0.0), (2932, 0.024419314525275217), (2933, 0.03580574370197164), (2934, 0.0), (2935, 0.06052275326688024), (2936, 0.07692307692307693), (2937, 0.032686022523030676), (2938, 0.04529108136578383), (2939, 0.0), (2940, 0.0), (2941, 0.04774099160262886), (2942, 0.02973505167250263), (2943, 0.0), (2944, 0.0), (2945, 0.025318484177091666), (2946, 0.06163335513613657), (2947, 0.02360960823249428), (2948, 0.02973505167250263), (2949, 0.0), (2950, 0.0), (2951, 0.05195243334661311), (2952, 0.026688025634181187), (2953, 0.05947010334500526), (2954, 0.04774099160262886), (2955, 0.08920515501750789), (2956, 0.0), (2957, 0.02387049580131443), (2958, 0.027563274353157433), (2959, 0.0), (2960, 0.0), (2961, 0.02050230920261824), (2962, 0.05063696835418333), (2963, 0.0), (2964, 0.03774256780481986), (2965, 0.02414022747926338), (2966, 0.0826898230594723), (2967, 0.0), (2968, 0.12810252304406972), (2969, 0.18871283902409933), (2970, 0.02632490632463282), (2971, 0.05063696835418333), (2972, 0.0), (2973, 0.04003203845127178), (2974, 0.06537204504606135), (2975, 0.0), (2976, 0.020336295869552105), (2977, 0.0), (2978, 0.0), (2979, 0.02632490632463282), (2980, 0.025976216673306556), (2981, 0.0), (2982, 0.04883862905055043), (2983, 0.04134491152973615), (2984, 0.0), (2985, 0.03140371465106639), (2986, 0.07242068243779014), (2987, 0.0), (2988, 0.055749467333806056), (2989, 0.0), (2990, 0.021790681682020446), (2991, 0.0), (2992, 0.02387049580131443), (2993, 0.04441155916843275), (2994, 0.0), (2995, 0.0), (2996, 0.014265349750363764), (2997, 0.17902871850985821), (2998, 0.051502620262460476), (2999, 0.0), (3000, 0.0), (3001, 0.0), (3002, 0.0), (3003, 0.05661385170722978), (3004, 0.04441155916843275), (3005, 0.02564102564102564), (3006, 0.10529962529853128), (3007, 0.0), (3008, 0.04671418358670517), (3009, 0.05264981264926564), (3010, 0.04721921646498856), (3011, 0.044844852933087494), (3012, 0.02830692585361489), (3013, 0.04529108136578383), (3014, 0.0), (3015, 0.042796049251091296), (3016, 0.04318335170875305), (3017, 0.0), (3018, 0.06661733875264912), (3019, 0.0), (3020, 0.07242068243779014), (3021, 0.0), (3022, 0.02830692585361489), (3023, 0.05063696835418333), (3024, 0.0), (3025, 0.022875450543583874), (3026, 0.07692307692307693), (3027, 0.0), (3028, 0.01642880193633814), (3029, 0.04883862905055043), (3030, 0.023357091793352585), (3031, 0.022205779584216375), (3032, 0.026688025634181187), (3033, 0.0), (3034, 0.0), (3035, 0.02564102564102564), (3036, 0.0), (3037, 0.04671418358670517), (3038, 0.0), (3039, 0.0), (3040, 0.025007816164017767), (3041, 0.0), (3042, 0.022205779584216375), (3043, 0.02470831055537004), (3044, 0.0), (3045, 0.03494282789073061), (3046, 0.06419407387663695), (3047, 0.0), (3048, 0.027066598098038335), (3049, 0.0), (3050, 0.0), (3051, 0.027066598098038335), (3052, 0.0), (3053, 0.10016708449412667), (3054, 0.020174251088960076), (3055, 0.02050230920261824), (3056, 0.0), (3057, 0.04941662111074008), (3058, 0.03026137663344012), (3059, 0.032517101379184316), (3060, 0.0), (3061, 0.03774256780481986), (3062, 0.025007816164017767), (3063, 0.0), (3064, 0.04774099160262886), (3065, 0.0), (3066, 0.030816677568068284), (3067, 0.07161148740394328), (3068, 0.04134491152973615), (3069, 0.055749467333806056), (3070, 0.07161148740394328), (3071, 0.0), (3072, 0.021591675854376526), (3073, 0.02973505167250263), (3074, 0.01660451604622393), (3075, 0.03580574370197164), (3076, 0.06004805767690767), (3077, 0.0), (3078, 0.04828045495852676), (3079, 0.03673591791853225), (3080, 0.05063696835418333), (3081, 0.12009611535381534), (3082, 0.05492350363810897), (3083, 0.0), (3084, 0.032686022523030676), (3085, 0.0), (3086, 0.0), (3087, 0.0), (3088, 0.04828045495852676), (3089, 0.07502344849205331), (3090, 0.0), (3091, 0.10699012312772824), (3092, 0.0), (3093, 0.0), (3094, 0.0), (3095, 0.0), (3096, 0.03774256780481986), (3097, 0.044844852933087494), (3098, 0.02387049580131443), (3099, 0.033389028164708894), (3100, 0.07502344849205331), (3101, 0.07161148740394328), (3102, 0.0), (3103, 0.0), (3104, 0.0), (3105, 0.021790681682020446), (3106, 0.02120949209919259), (3107, 0.05847053462046861), (3108, 0.029235267310234306), (3109, 0.019861453057473933), (3110, 0.0), (3111, 0.0), (3112, 0.027874733666903028), (3113, 0.029235267310234306), (3114, 0.02973505167250263), (3115, 0.0734718358370645), (3116, 0.06052275326688024), (3117, 0.03774256780481986), (3118, 0.04671418358670517), (3119, 0.01790287185098582), (3120, 0.0), (3121, 0.0), (3122, 0.0), (3123, 0.0), (3124, 0.07548513560963972), (3125, 0.0), (3126, 0.0), (3127, 0.03140371465106639), (3128, 0.042796049251091296), (3129, 0.05751973085430508), (3130, 0.021591675854376526), (3131, 0.06280742930213278), (3132, 0.020174251088960076), (3133, 0.08492077756084468), (3134, 0.030816677568068284), (3135, 0.05413319619607667), (3136, 0.02470831055537004), (3137, 0.0), (3138, 0.10529962529853128), (3139, 0.0), (3140, 0.01887128390240993), (3141, 0.0), (3142, 0.025976216673306556), (3143, 0.0), (3144, 0.042796049251091296), (3145, 0.11244949691847503), (3146, 0.03140371465106639), (3147, 0.026688025634181187), (3148, 0.0), (3149, 0.033389028164708894), (3150, 0.10127393670836667), (3151, 0.02120949209919259), (3152, 0.042796049251091296), (3153, 0.06988565578146122), (3154, 0.0), (3155, 0.03202563076101743), (3156, 0.04067259173910421), (3157, 0.03774256780481986), (3158, 0.0), (3159, 0.020336295869552105), (3160, 0.16677527969003328), (3161, 0.0), (3162, 0.07692307692307693), (3163, 0.02973505167250263), (3164, 0.05264981264926564), (3165, 0.03580574370197164), (3166, 0.022645540682891915), (3167, 0.02414022747926338), (3168, 0.0), (3169, 0.0), (3170, 0.0), (3171, 0.0), (3172, 0.06362847629757777), (3173, 0.023357091793352585), (3174, 0.02973505167250263), (3175, 0.0), (3176, 0.0), (3177, 0.0), (3178, 0.08006407690254357), (3179, 0.06405126152203486), (3180, 0.05413319619607667), (3181, 0.025007816164017767), (3182, 0.02360960823249428), (3183, 0.0), (3184, 0.0), (3185, 0.029235267310234306), (3186, 0.04575090108716775), (3187, 0.01697355035627247), (3188, 0.04883862905055043), (3189, 0.0), (3190, 0.020846909961254163), (3191, 0.02360960823249428), (3192, 0.0), (3193, 0.05947010334500526), (3194, 0.0), (3195, 0.0), (3196, 0.0), (3197, 0.023357091793352585), (3198, 0.0), (3199, 0.03473667371459374), (3200, 0.04003203845127178), (3201, 0.0), (3202, 0.02387049580131443), (3203, 0.02470831055537004), (3204, 0.07082882469748285), (3205, 0.033389028164708894), (3206, 0.021790681682020446), (3207, 0.0), (3208, 0.022875450543583874), (3209, 0.0), (3210, 0.11357879791108), (3211, 0.03140371465106639), (3212, 0.0), (3213, 0.022422426466543747), (3214, 0.02973505167250263), (3215, 0.03580574370197164), (3216, 0.0826898230594723), (3217, 0.03580574370197164), (3218, 0.02632490632463282), (3219, 0.0), (3220, 0.025976216673306556), (3221, 0.06988565578146122), (3222, 0.0), (3223, 0.06661733875264912), (3224, 0.02470831055537004), (3225, 0.032686022523030676), (3226, 0.027163785477513323), (3227, 0.042796049251091296), (3228, 0.032517101379184316), (3229, 0.0), (3230, 0.03140371465106639), (3231, 0.07792865001991967), (3232, 0.03494282789073061), (3233, 0.1207011373963169), (3234, 0.02632490632463282), (3235, 0.021995293510729184), (3236, 0.027066598098038335), (3237, 0.0), (3238, 0.05947010334500526), (3239, 0.06537204504606135), (3240, 0.0), (3241, 0.0), (3242, 0.04721921646498856), (3243, 0.0), (3244, 0.0), (3245, 0.019138975058773818), (3246, 0.042796049251091296), (3247, 0.0), (3248, 0.0), (3249, 0.053376051268362375), (3250, 0.0), (3251, 0.06280742930213278), (3252, 0.02414022747926338), (3253, 0.0716114874039433), (3254, 0.025007816164017767), (3255, 0.05413319619607667), (3256, 0.0), (3257, 0.0), (3258, 0.018741582819745837), (3259, 0.0), (3260, 0.029235267310234306), (3261, 0.02973505167250263), (3262, 0.02875986542715254), (3263, 0.0), (3264, 0.04169381992250833), (3265, 0.0), (3266, 0.04622501635210243), (3267, 0.0), (3268, 0.025976216673306556), (3269, 0.019710413199636085), (3270, 0.0), (3271, 0.025318484177091666), (3272, 0.036031649688745), (3273, 0.042796049251091296), (3274, 0.0), (3275, 0.02875986542715254), (3276, 0.02632490632463282), (3277, 0.0), (3278, 0.0), (3279, 0.0), (3280, 0.0), (3281, 0.02564102564102564), (3282, 0.05063696835418333), (3283, 0.07242068243779014), (3284, 0.030816677568068284), (3285, 0.02830692585361489), (3286, 0.03883678186903087), (3287, 0.030816677568068284), (3288, 0.0), (3289, 0.04774099160262886), (3290, 0.025318484177091666), (3291, 0.02830692585361489), (3292, 0.016175386202065652), (3293, 0.0), (3294, 0.0), (3295, 0.05492350363810897), (3296, 0.06150692760785473), (3297, 0.05264981264926564), (3298, 0.06933752452815364), (3299, 0.081199794294115), (3300, 0.0), (3301, 0.03580574370197164), (3302, 0.05751973085430508), (3303, 0.07007127538005775), (3304, 0.03202563076101743), (3305, 0.0), (3306, 0.03413943709994594), (3307, 0.10604746049596296), (3308, 0.06793662204867575), (3309, 0.0), (3310, 0.0), (3311, 0.01790287185098582), (3312, 0.02875986542715254), (3313, 0.0), (3314, 0.032686022523030676), (3315, 0.03026137663344012), (3316, 0.027461751819054483), (3317, 0.0), (3318, 0.05195243334661311), (3319, 0.019861453057473933), (3320, 0.08627959628145762), (3321, 0.025007816164017767), (3322, 0.0), (3323, 0.0), (3324, 0.0), (3325, 0.1887128390240993), (3326, 0.0), (3327, 0.0), (3328, 0.04399058702145837), (3329, 0.07466013667894413), (3330, 0.025007816164017767), (3331, 0.04358136336404089), (3332, 0.02973505167250263), (3333, 0.0), (3334, 0.03202563076101743), (3335, 0.0), (3336, 0.03202563076101743), (3337, 0.021025856676559), (3338, 0.10390486669322622), (3339, 0.0), (3340, 0.02632490632463282), (3341, 0.020672455764868074), (3342, 0.06100888760865632), (3343, 0.0), (3344, 0.0), (3345, 0.055749467333806056), (3346, 0.023112508176051216), (3347, 0.026688025634181187), (3348, 0.0), (3349, 0.0), (3350, 0.0), (3351, 0.02973505167250263), (3352, 0.14153462926807445), (3353, 0.07242068243779014), (3354, 0.05661385170722978), (3355, 0.050015632328035534), (3356, 0.02470831055537004), (3357, 0.0), (3358, 0.021790681682020446), (3359, 0.0), (3360, 0.030816677568068284), (3361, 0.042796049251091296), (3362, 0.0), (3363, 0.05751973085430508), (3364, 0.0), (3365, 0.0), (3366, 0.057289189923154626), (3367, 0.05413319619607667), (3368, 0.04622501635210243), (3369, 0.022422426466543747), (3370, 0.01790287185098582), (3371, 0.030816677568068284), (3372, 0.06280742930213278), (3373, 0.0), (3374, 0.11694106924093722), (3375, 0.059215412224577), (3376, 0.04134491152973615), (3377, 0.013990461756514725), (3378, 0.04318335170875305), (3379, 0.0), (3380, 0.0), (3381, 0.021790681682020446), (3382, 0.0), (3383, 0.0), (3384, 0.05492350363810897), (3385, 0.0), (3386, 0.026688025634181187), (3387, 0.0888231183368655), (3388, 0.06477502756312958), (3389, 0.0), (3390, 0.04575090108716775), (3391, 0.04441155916843275), (3392, 0.0), (3393, 0.0), (3394, 0.05751973085430508), (3395, 0.03673591791853225), (3396, 0.06537204504606135), (3397, 0.021025856676559), (3398, 0.021398024625545648), (3399, 0.025318484177091666), (3400, 0.024419314525275217), (3401, 0.02973505167250263), (3402, 0.0), (3403, 0.0), (3404, 0.019277164398874672), (3405, 0.09245003270420486), (3406, 0.021995293510729184), (3407, 0.13937366833451514), (3408, 0.027461751819054483), (3409, 0.0), (3410, 0.06537204504606135), (3411, 0.0), (3412, 0.04441155916843275), (3413, 0.0), (3414, 0.025318484177091666), (3415, 0.0), (3416, 0.0), (3417, 0.04067259173910421), (3418, 0.03494282789073061), (3419, 0.03140371465106639), (3420, 0.0), (3421, 0.07082882469748285), (3422, 0.0), (3423, 0.0), (3424, 0.03494282789073061), (3425, 0.0), (3426, 0.10529962529853128), (3427, 0.0), (3428, 0.06988565578146122), (3429, 0.07299318686018119), (3430, 0.0), (3431, 0.0), (3432, 0.0), (3433, 0.0), (3434, 0.0), (3435, 0.0), (3436, 0.02973505167250263), (3437, 0.0), (3438, 0.024419314525275217), (3439, 0.10008009612817945), (3440, 0.0), (3441, 0.06793662204867575), (3442, 0.02564102564102564), (3443, 0.0), (3444, 0.0), (3445, 0.03494282789073061), (3446, 0.08770580193070292), (3447, 0.08238525545716345), (3448, 0.0), (3449, 0.025976216673306556), (3450, 0.04622501635210243), (3451, 0.0), (3452, 0.0), (3453, 0.02973505167250263), (3454, 0.03140371465106639), (3455, 0.029235267310234306), (3456, 0.0), (3457, 0.0), (3458, 0.01849000654084097), (3459, 0.020174251088960076), (3460, 0.0888231183368655), (3461, 0.0), (3462, 0.0716114874039433), (3463, 0.0), (3464, 0.0), (3465, 0.032686022523030676), (3466, 0.0), (3467, 0.04134491152973615), (3468, 0.081199794294115), (3469, 0.0), (3470, 0.04774099160262886), (3471, 0.0), (3472, 0.0), (3473, 0.04671418358670517), (3474, 0.021790681682020446), (3475, 0.03883678186903087), (3476, 0.04774099160262886), (3477, 0.0), (3478, 0.0), (3479, 0.036496593430090596), (3480, 0.0), (3481, 0.06827887419989188), (3482, 0.02001601922563589), (3483, 0.06933752452815364), (3484, 0.032350772404131305), (3485, 0.023357091793352585), (3486, 0.03494282789073061), (3487, 0.03912553515233695), (3488, 0.0), (3489, 0.0), (3490, 0.0), (3491, 0.04622501635210243), (3492, 0.04241898419838518), (3493, 0.0), (3494, 0.04003203845127178), (3495, 0.04828045495852676), (3496, 0.10675210253672475), (3497, 0.0), (3498, 0.0), (3499, 0.0), (3500, 0.0), (3501, 0.027461751819054483), (3502, 0.019138975058773818), (3503, 0.03673591791853225), (3504, 0.0), (3505, 0.05063696835418333), (3506, 0.022422426466543747), (3507, 0.03012717918003676), (3508, 0.0), (3509, 0.027461751819054483), (3510, 0.026688025634181187), (3511, 0.03673591791853225), (3512, 0.020336295869552105), (3513, 0.05751973085430508), (3514, 0.03026137663344012), (3515, 0.0), (3516, 0.0), (3517, 0.04003203845127178), (3518, 0.036031649688745), (3519, 0.0), (3520, 0.01849000654084097), (3521, 0.0), (3522, 0.038277950117547636), (3523, 0.0), (3524, 0.05492350363810897), (3525, 0.08006407690254357), (3526, 0.03883678186903087), (3527, 0.0), (3528, 0.0), (3529, 0.0), (3530, 0.022205779584216375), (3531, 0.0), (3532, 0.02564102564102564), (3533, 0.0), (3534, 0.0), (3535, 0.09245003270420485), (3536, 0.16898159235484367), (3537, 0.0), (3538, 0.022205779584216375), (3539, 0.02470831055537004), (3540, 0.032686022523030676), (3541, 0.027874733666903028), (3542, 0.023112508176051216), (3543, 0.019710413199636085), (3544, 0.0), (3545, 0.0), (3546, 0.03413943709994594), (3547, 0.05413319619607667), (3548, 0.0), (3549, 0.025318484177091666), (3550, 0.0), (3551, 0.08716272672808179), (3552, 0.0312538153958997), (3553, 0.0), (3554, 0.08559209850218259), (3555, 0.02973505167250263), (3556, 0.0), (3557, 0.0), (3558, 0.08006407690254357), (3559, 0.0), (3560, 0.0), (3561, 0.0), (3562, 0.0), (3563, 0.0), (3564, 0.0), (3565, 0.0), (3566, 0.0), (3567, 0.0), (3568, 0.021995293510729184), (3569, 0.02632490632463282), (3570, 0.06537204504606135), (3571, 0.0), (3572, 0.0), (3573, 0.0), (3574, 0.0), (3575, 0.0), (3576, 0.0), (3577, 0.0), (3578, 0.0), (3579, 0.0), (3580, 0.0), (3581, 0.038007431179264334), (3582, 0.0), (3583, 0.0), (3584, 0.02875986542715254), (3585, 0.0), (3586, 0.06598588053218755), (3587, 0.0), (3588, 0.0), (3589, 0.0), (3590, 0.0), (3591, 0.0), (3592, 0.027066598098038335), (3593, 0.04622501635210243), (3594, 0.0), (3595, 0.03673591791853225), (3596, 0.0), (3597, 0.02050230920261824), (3598, 0.02830692585361489), (3599, 0.0), (3600, 0.0), (3601, 0.030816677568068284), (3602, 0.0), (3603, 0.0), (3604, 0.0), (3605, 0.0625407298837625), (3606, 0.20174251088960077), (3607, 0.026688025634181187), (3608, 0.02470831055537004), (3609, 0.06933752452815364), (3610, 0.011869488458622453), (3611, 0.03774256780481986), (3612, 0.04622501635210243), (3613, 0.02001601922563589), (3614, 0.023357091793352585), (3615, 0.054744890145135894), (3616, 0.0), (3617, 0.0), (3618, 0.09767725810110087), (3619, 0.10241831129983783), (3620, 0.1282051282051282), (3621, 0.0), (3622, 0.0), (3623, 0.0), (3624, 0.025976216673306556), (3625, 0.03494282789073061), (3626, 0.1235415527768502), (3627, 0.0), (3628, 0.10795837927188262), (3629, 0.0), (3630, 0.01813094310734737), (3631, 0.0), (3632, 0.10127393670836667), (3633, 0.06419407387663693), (3634, 0.0), (3635, 0.02414022747926338), (3636, 0.0), (3637, 0.0), (3638, 0.0), (3639, 0.02875986542715254), (3640, 0.0), (3641, 0.0), (3642, 0.0), (3643, 0.02360960823249428), (3644, 0.02387049580131443), (3645, 0.02414022747926338), (3646, 0.0), (3647, 0.0), (3648, 0.03202563076101743), (3649, 0.01706971854997297), (3650, 0.01736833685729687), (3651, 0.0), (3652, 0.04003203845127178), (3653, 0.05195243334661311), (3654, 0.0), (3655, 0.03413943709994594), (3656, 0.0), (3657, 0.0), (3658, 0.021790681682020446), (3659, 0.10016708449412667), (3660, 0.02470831055537004), (3661, 0.0), (3662, 0.02414022747926338), (3663, 0.0), (3664, 0.0), (3665, 0.0), (3666, 0.0), (3667, 0.03140371465106639), (3668, 0.015701857325533194), (3669, 0.05063696835418333), (3670, 0.03202563076101743), (3671, 0.19312181983410703), (3672, 0.0), (3673, 0.0), (3674, 0.06677805632941779), (3675, 0.055749467333806056), (3676, 0.0), (3677, 0.019277164398874672), (3678, 0.0), (3679, 0.0), (3680, 0.0), (3681, 0.0), (3682, 0.0), (3683, 0.0), (3684, 0.0), (3685, 0.024419314525275217), (3686, 0.0), (3687, 0.0), (3688, 0.0), (3689, 0.027066598098038335), (3690, 0.03673591791853225), (3691, 0.027163785477513323), (3692, 0.019138975058773818), (3693, 0.025007816164017767), (3694, 0.0), (3695, 0.0), (3696, 0.0), (3697, 0.0), (3698, 0.0), (3699, 0.07325794357582566), (3700, 0.02414022747926338), (3701, 0.04529108136578383), (3702, 0.023357091793352585), (3703, 0.0), (3704, 0.03026137663344012), (3705, 0.0), (3706, 0.03140371465106639), (3707, 0.030816677568068284), (3708, 0.0), (3709, 0.0), (3710, 0.02830692585361489), (3711, 0.019562767576168476), (3712, 0.0), (3713, 0.0), (3714, 0.06988565578146122), (3715, 0.02564102564102564), (3716, 0.0), (3717, 0.0), (3718, 0.09245003270420486), (3719, 0.11020775375559674), (3720, 0.0), (3721, 0.0), (3722, 0.02001601922563589), (3723, 0.0), (3724, 0.0), (3725, 0.0), (3726, 0.08006407690254357), (3727, 0.0), (3728, 0.2506402059138015), (3729, 0.042051713353118), (3730, 0.0), (3731, 0.03883678186903087), (3732, 0.016343011261515338), (3733, 0.025976216673306556), (3734, 0.09078412990032037), (3735, 0.044844852933087494), (3736, 0.023357091793352585), (3737, 0.035366392784487034), (3738, 0.06201736729460422), (3739, 0.0), (3740, 0.032686022523030676), (3741, 0.0), (3742, 0.027066598098038335), (3743, 0.03026137663344012), (3744, 0.05847053462046861), (3745, 0.026688025634181187), (3746, 0.04671418358670517), (3747, 0.023112508176051216), (3748, 0.0), (3749, 0.02973505167250263), (3750, 0.0), (3751, 0.04134491152973615), (3752, 0.05492350363810897), (3753, 0.10127393670836667), (3754, 0.019562767576168476), (3755, 0.0), (3756, 0.0), (3757, 0.023357091793352585), (3758, 0.0), (3759, 0.027066598098038335), (3760, 0.04399058702145837), (3761, 0.027461751819054483), (3762, 0.08006407690254357), (3763, 0.0), (3764, 0.0), (3765, 0.0), (3766, 0.0), (3767, 0.03580574370197164), (3768, 0.06052275326688024), (3769, 0.0), (3770, 0.0), (3771, 0.02830692585361489), (3772, 0.0), (3773, 0.03673591791853225), (3774, 0.0), (3775, 0.06004805767690767), (3776, 0.027874733666903028), (3777, 0.0), (3778, 0.027066598098038335), (3779, 0.13655774839978377), (3780, 0.022422426466543747), (3781, 0.09767725810110087), (3782, 0.03140371465106639), (3783, 0.0), (3784, 0.0), (3785, 0.0), (3786, 0.042796049251091296), (3787, 0.027461751819054483), (3788, 0.027066598098038335), (3789, 0.0186145197762485), (3790, 0.01736833685729687), (3791, 0.02830692585361489), (3792, 0.0), (3793, 0.044844852933087494), (3794, 0.0), (3795, 0.030674990943689556), (3796, 0.0), (3797, 0.03202563076101743), (3798, 0.0), (3799, 0.04671418358670517), (3800, 0.0), (3801, 0.0), (3802, 0.0), (3803, 0.07242068243779014), (3804, 0.04671418358670517), (3805, 0.0), (3806, 0.0), (3807, 0.03558403417890825), (3808, 0.05706139900145506), (3809, 0.02564102564102564), (3810, 0.0), (3811, 0.0), (3812, 0.0), (3813, 0.01642880193633814), (3814, 0.07897471897389846), (3815, 0.0), (3816, 0.0), (3817, 0.02973505167250263), (3818, 0.03202563076101743), (3819, 0.0), (3820, 0.06419407387663695), (3821, 0.0), (3822, 0.0), (3823, 0.04941662111074008), (3824, 0.03413943709994594), (3825, 0.01651595799587627), (3826, 0.0), (3827, 0.0), (3828, 0.0), (3829, 0.0), (3830, 0.07548513560963972), (3831, 0.0), (3832, 0.05847053462046861), (3833, 0.0), (3834, 0.025007816164017767), (3835, 0.0), (3836, 0.05128205128205128), (3837, 0.10241831129983783), (3838, 0.0), (3839, 0.0), (3840, 0.033389028164708894), (3841, 0.022422426466543747), (3842, 0.0), (3843, 0.024419314525275217), (3844, 0.0), (3845, 0.02632490632463282), (3846, 0.04241898419838518), (3847, 0.0), (3848, 0.0), (3849, 0.07897471897389846), (3850, 0.02564102564102564), (3851, 0.0), (3852, 0.04134491152973615), (3853, 0.04774099160262886), (3854, 0.0), (3855, 0.030816677568068284), (3856, 0.0), (3857, 0.0), (3858, 0.055749467333806056), (3859, 0.0), (3860, 0.0558435593287455), (3861, 0.03494282789073061), (3862, 0.05128205128205128), (3863, 0.0), (3864, 0.02875986542715254), (3865, 0.0), (3866, 0.0), (3867, 0.02120949209919259), (3868, 0.0), (3869, 0.0), (3870, 0.021398024625545648), (3871, 0.019277164398874672), (3872, 0.10003126465607107), (3873, 0.0), (3874, 0.0), (3875, 0.033389028164708894), (3876, 0.024419314525275217), (3877, 0.06477502756312958), (3878, 0.0), (3879, 0.08968970586617499), (3880, 0.0), (3881, 0.03202563076101743), (3882, 0.0), (3883, 0.04441155916843275), (3884, 0.033389028164708894), (3885, 0.02830692585361489), (3886, 0.04622501635210243), (3887, 0.0), (3888, 0.05751973085430508), (3889, 0.06677805632941779), (3890, 0.03698001308168194), (3891, 0.0), (3892, 0.02564102564102564), (3893, 0.0), (3894, 0.042796049251091296), (3895, 0.02973505167250263), (3896, 0.0), (3897, 0.0), (3898, 0.03026137663344012), (3899, 0.06405126152203486), (3900, 0.0), (3901, 0.0), (3902, 0.021995293510729184), (3903, 0.0826898230594723), (3904, 0.027163785477513323), (3905, 0.06933752452815364), (3906, 0.019562767576168476), (3907, 0.0), (3908, 0.06726727939963124), (3909, 0.0), (3910, 0.024419314525275217), (3911, 0.017576348305930706), (3912, 0.04003203845127178), (3913, 0.0), (3914, 0.027461751819054483), (3915, 0.02875986542715254), (3916, 0.03494282789073061), (3917, 0.053376051268362375), (3918, 0.0), (3919, 0.03433508017497365), (3920, 0.0), (3921, 0.05063696835418333), (3922, 0.03140371465106639), (3923, 0.022875450543583874), (3924, 0.08006407690254357), (3925, 0.0), (3926, 0.018367958959266125), (3927, 0.06405126152203486), (3928, 0.04441155916843275), (3929, 0.06280742930213278), (3930, 0.02414022747926338), (3931, 0.0), (3932, 0.02387049580131443), (3933, 0.09656090991705352), (3934, 0.0), (3935, 0.021790681682020446), (3936, 0.04003203845127178), (3937, 0.0), (3938, 0.0), (3939, 0.04134491152973615), (3940, 0.0), (3941, 0.0), (3942, 0.0), (3943, 0.0), (3944, 0.030816677568068284), (3945, 0.035366392784487034), (3946, 0.037229039552497), (3947, 0.04134491152973615), (3948, 0.021025856676559), (3949, 0.029864054671577652), (3950, 0.0), (3951, 0.027874733666903028), (3952, 0.09607689228305229), (3953, 0.03413943709994594), (3954, 0.029235267310234306), (3955, 0.0), (3956, 0.0), (3957, 0.0), (3958, 0.0), (3959, 0.017267062892749263), (3960, 0.03580574370197164), (3961, 0.019277164398874672), (3962, 0.0), (3963, 0.0), (3964, 0.0), (3965, 0.0), (3966, 0.03026137663344012), (3967, 0.0), (3968, 0.0), (3969, 0.03413943709994594), (3970, 0.03494282789073061), (3971, 0.0), (3972, 0.0), (3973, 0.0), (3974, 0.07161148740394328), (3975, 0.026688025634181187), (3976, 0.08006407690254357), (3977, 0.02973505167250263), (3978, 0.0), (3979, 0.0), (3980, 0.13355611265883557), (3981, 0.030816677568068284), (3982, 0.0), (3983, 0.0), (3984, 0.0), (3985, 0.029235267310234306), (3986, 0.04003203845127178), (3987, 0.02973505167250263), (3988, 0.022422426466543747), (3989, 0.02470831055537004), (3990, 0.04575090108716775), (3991, 0.017792017089454125), (3992, 0.06537204504606135), (3993, 0.05751973085430508), (3994, 0.03580574370197164), (3995, 0.04169381992250833), (3996, 0.0), (3997, 0.17841031003501576), (3998, 0.12009611535381534), (3999, 0.0), (4000, 0.034534125785498526), (4001, 0.019277164398874672), (4002, 0.0), (4003, 0.0), (4004, 0.06405126152203486), (4005, 0.0), (4006, 0.030816677568068284), (4007, 0.027461751819054483), (4008, 0.15534712747612348), (4009, 0.0734718358370645), (4010, 0.04134491152973615), (4011, 0.021790681682020446), (4012, 0.0), (4013, 0.0), (4014, 0.0), (4015, 0.019861453057473933), (4016, 0.09805806756909202), (4017, 0.0671439662264592), (4018, 0.0), (4019, 0.021025856676559), (4020, 0.019418390934515434), (4021, 0.029235267310234306), (4022, 0.01642880193633814), (4023, 0.032686022523030676), (4024, 0.042796049251091296), (4025, 0.0), (4026, 0.013533299049019168), (4027, 0.030816677568068284), (4028, 0.03494282789073061), (4029, 0.0), (4030, 0.0), (4031, 0.0), (4032, 0.0), (4033, 0.0), (4034, 0.04622501635210243), (4035, 0.027874733666903028), (4036, 0.03140371465106639), (4037, 0.027461751819054483), (4038, 0.0), (4039, 0.0), (4040, 0.05847053462046861), (4041, 0.019277164398874672), (4042, 0.03673591791853225), (4043, 0.07412493166611012), (4044, 0.05947010334500526), (4045, 0.02470831055537004), (4046, 0.21897956058054358), (4047, 0.0), (4048, 0.0), (4049, 0.020336295869552105), (4050, 0.04134491152973615), (4051, 0.0), (4052, 0.0), (4053, 0.05264981264926564), (4054, 0.0), (4055, 0.0), (4056, 0.0), (4057, 0.021591675854376526), (4058, 0.0), (4059, 0.06405126152203486), (4060, 0.04441155916843275), (4061, 0.02360960823249428), (4062, 0.0), (4063, 0.02632490632463282), (4064, 0.03673591791853225), (4065, 0.022645540682891915), (4066, 0.04441155916843275), (4067, 0.02564102564102564), (4068, 0.0), (4069, 0.0), (4070, 0.032686022523030676), (4071, 0.0), (4072, 0.0), (4073, 0.04134491152973615), (4074, 0.03774256780481986), (4075, 0.0595843591724218), (4076, 0.025976216673306556), (4077, 0.12988108336653278), (4078, 0.04721921646498856), (4079, 0.0), (4080, 0.0), (4081, 0.0716114874039433), (4082, 0.044844852933087494), (4083, 0.02830692585361489), (4084, 0.0), (4085, 0.04941662111074008), (4086, 0.0), (4087, 0.0), (4088, 0.05264981264926564), (4089, 0.02875986542715254), (4090, 0.0), (4091, 0.0), (4092, 0.03202563076101743), (4093, 0.0), (4094, 0.0), (4095, 0.10127393670836667), (4096, 0.0), (4097, 0.05947010334500526), (4098, 0.056613851707229795), (4099, 0.0), (4100, 0.0), (4101, 0.037229039552497), (4102, 0.0), (4103, 0.020336295869552105), (4104, 0.0), (4105, 0.02973505167250263), (4106, 0.0), (4107, 0.02830692585361489), (4108, 0.027066598098038335), (4109, 0.0), (4110, 0.05847053462046861), (4111, 0.02875986542715254), (4112, 0.030816677568068284), (4113, 0.02564102564102564), (4114, 0.028418151923945745), (4115, 0.044844852933087494), (4116, 0.0), (4117, 0.03026137663344012), (4118, 0.06362847629757777), (4119, 0.0), (4120, 0.0), (4121, 0.06726727939963124), (4122, 0.025007816164017767), (4123, 0.05492350363810897), (4124, 0.0), (4125, 0.027066598098038335), (4126, 0.0), (4127, 0.014678923792502564), (4128, 0.03774256780481986), (4129, 0.03673591791853225), (4130, 0.03413943709994594), (4131, 0.0), (4132, 0.05195243334661311), (4133, 0.10016708449412667), (4134, 0.0), (4135, 0.03494282789073061), (4136, 0.03942082639927217), (4137, 0.03774256780481986), (4138, 0.0), (4139, 0.02830692585361489), (4140, 0.0), (4141, 0.027461751819054483), (4142, 0.0), (4143, 0.0), (4144, 0.03413943709994594), (4145, 0.0), (4146, 0.04828045495852676), (4147, 0.0), (4148, 0.0), (4149, 0.04104201432582705), (4150, 0.0), (4151, 0.0), (4152, 0.03942082639927217), (4153, 0.0), (4154, 0.025976216673306556), (4155, 0.0), (4156, 0.0), (4157, 0.0), (4158, 0.04318335170875305), (4159, 0.0335719831132296), (4160, 0.0), (4161, 0.02120949209919259), (4162, 0.0), (4163, 0.0734718358370645), (4164, 0.06052275326688024), (4165, 0.0), (4166, 0.02387049580131443), (4167, 0.04100461840523648), (4168, 0.0), (4169, 0.0), (4170, 0.0), (4171, 0.0), (4172, 0.0), (4173, 0.0), (4174, 0.022645540682891915), (4175, 0.0), (4176, 0.04067259173910421), (4177, 0.022645540682891915), (4178, 0.06862635163075162), (4179, 0.04067259173910421), (4180, 0.0), (4181, 0.0), (4182, 0.03202563076101743), (4183, 0.0), (4184, 0.0), (4185, 0.02414022747926338), (4186, 0.0), (4187, 0.0), (4188, 0.0), (4189, 0.0), (4190, 0.20033416898825337), (4191, 0.02875986542715254), (4192, 0.022205779584216375), (4193, 0.033389028164708894), (4194, 0.06052275326688024), (4195, 0.0), (4196, 0.09805806756909202), (4197, 0.0), (4198, 0.0), (4199, 0.0), (4200, 0.03202563076101743), (4201, 0.09245003270420485), (4202, 0.03140371465106639), (4203, 0.07502344849205331), (4204, 0.032686022523030676), (4205, 0.02001601922563589), (4206, 0.0), (4207, 0.026688025634181187), (4208, 0.0), (4209, 0.03026137663344012), (4210, 0.0), (4211, 0.053376051268362375), (4212, 0.022875450543583874), (4213, 0.024419314525275217), (4214, 0.06677805632941779), (4215, 0.022205779584216375), (4216, 0.026688025634181187), (4217, 0.0), (4218, 0.03026137663344012), (4219, 0.0), (4220, 0.0), (4221, 0.0), (4222, 0.0), (4223, 0.0405998971470575), (4224, 0.0), (4225, 0.021790681682020446), (4226, 0.030816677568068284), (4227, 0.0), (4228, 0.12659242088545833), (4229, 0.0), (4230, 0.0), (4231, 0.0), (4232, 0.05128205128205128), (4233, 0.016093484986175587), (4234, 0.04134491152973615), (4235, 0.04241898419838518), (4236, 0.04941662111074008), (4237, 0.0), (4238, 0.022422426466543747), (4239, 0.0), (4240, 0.0), (4241, 0.04003203845127178), (4242, 0.029114209782743115), (4243, 0.0), (4244, 0.05063696835418333), (4245, 0.0), (4246, 0.03774256780481986), (4247, 0.019710413199636085), (4248, 0.02470831055537004), (4249, 0.0), (4250, 0.013031044349091301), (4251, 0.0), (4252, 0.0), (4253, 0.0), (4254, 0.09421114395319916), (4255, 0.0), (4256, 0.0), (4257, 0.05661385170722978), (4258, 0.025976216673306556), (4259, 0.03774256780481986), (4260, 0.0), (4261, 0.02387049580131443), (4262, 0.02470831055537004), (4263, 0.04828045495852676), (4264, 0.0), (4265, 0.020672455764868074), (4266, 0.07502344849205331), (4267, 0.0), (4268, 0.0), (4269, 0.0), (4270, 0.05847053462046861), (4271, 0.06280742930213278), (4272, 0.0), (4273, 0.0), (4274, 0.0), (4275, 0.0), (4276, 0.0), (4277, 0.018741582819745837), (4278, 0.0), (4279, 0.07767356373806174), (4280, 0.023357091793352585), (4281, 0.04622501635210243), (4282, 0.03580574370197164), (4283, 0.026688025634181187), (4284, 0.027461751819054483), (4285, 0.0), (4286, 0.023357091793352585), (4287, 0.023112508176051216), (4288, 0.025318484177091666), (4289, 0.0), (4290, 0.06677805632941779), (4291, 0.0), (4292, 0.0), (4293, 0.05661385170722978), (4294, 0.0), (4295, 0.0), (4296, 0.0), (4297, 0.03140371465106639), (4298, 0.0), (4299, 0.02387049580131443), (4300, 0.04003203845127178), (4301, 0.0), (4302, 0.0), (4303, 0.0), (4304, 0.0), (4305, 0.03883678186903087), (4306, 0.0), (4307, 0.0), (4308, 0.0), (4309, 0.0), (4310, 0.04318335170875305), (4311, 0.0), (4312, 0.06280742930213278), (4313, 0.030816677568068284), (4314, 0.0186145197762485), (4315, 0.0), (4316, 0.07792865001991967), (4317, 0.022875450543583874), (4318, 0.0), (4319, 0.031555791640509485), (4320, 0.05947010334500526), (4321, 0.0), (4322, 0.0), (4323, 0.02564102564102564), (4324, 0.02875986542715254), (4325, 0.04622501635210243), (4326, 0.03673591791853225), (4327, 0.025976216673306556), (4328, 0.0), (4329, 0.05063696835418333), (4330, 0.05741692517632145), (4331, 0.09245003270420485), (4332, 0.03580574370197164), (4333, 0.04003203845127178), (4334, 0.0), (4335, 0.021995293510729184), (4336, 0.17295817388759027), (4337, 0.0), (4338, 0.0), (4339, 0.05413319619607667), (4340, 0.0), (4341, 0.07692307692307693), (4342, 0.0), (4343, 0.09245003270420486), (4344, 0.0), (4345, 0.0), (4346, 0.0), (4347, 0.0), (4348, 0.13323467750529824), (4349, 0.02830692585361489), (4350, 0.0), (4351, 0.06537204504606135), (4352, 0.0), (4353, 0.0888231183368655), (4354, 0.0), (4355, 0.06280742930213278), (4356, 0.0), (4357, 0.06163335513613657), (4358, 0.06004805767690767), (4359, 0.02120949209919259), (4360, 0.0), (4361, 0.0), (4362, 0.04134491152973615), (4363, 0.0), (4364, 0.0), (4365, 0.042796049251091296), (4366, 0.0), (4367, 0.0), (4368, 0.03774256780481986), (4369, 0.05128205128205128), (4370, 0.0), (4371, 0.023357091793352585), (4372, 0.04529108136578383), (4373, 0.0), (4374, 0.0), (4375, 0.04134491152973615), (4376, 0.0), (4377, 0.053376051268362375), (4378, 0.0), (4379, 0.0), (4380, 0.025007816164017767), (4381, 0.0), (4382, 0.03883678186903087), (4383, 0.03473667371459374), (4384, 0.04318335170875305), (4385, 0.0), (4386, 0.0), (4387, 0.0), (4388, 0.01790287185098582), (4389, 0.027461751819054483), (4390, 0.03774256780481986), (4391, 0.0), (4392, 0.06726727939963124), (4393, 0.0), (4394, 0.0), (4395, 0.0), (4396, 0.0), (4397, 0.020846909961254163), (4398, 0.022645540682891915), (4399, 0.04575090108716775), (4400, 0.03883678186903087), (4401, 0.025007816164017767), (4402, 0.03026137663344012), (4403, 0.09245003270420485), (4404, 0.0), (4405, 0.18490006540840973), (4406, 0.027874733666903028), (4407, 0.0), (4408, 0.05947010334500526), (4409, 0.0), (4410, 0.025318484177091666), (4411, 0.0), (4412, 0.0734718358370645), (4413, 0.022875450543583874), (4414, 0.033389028164708894), (4415, 0.0), (4416, 0.0), (4417, 0.0), (4418, 0.0), (4419, 0.0), (4420, 0.029235267310234306), (4421, 0.033389028164708894), (4422, 0.02470831055537004), (4423, 0.0), (4424, 0.0), (4425, 0.0), (4426, 0.0), (4427, 0.04358136336404089), (4428, 0.0), (4429, 0.054744890145135894), (4430, 0.0), (4431, 0.07161148740394328), (4432, 0.0), (4433, 0.03140371465106639), (4434, 0.03202563076101743), (4435, 0.0), (4436, 0.0), (4437, 0.032686022523030676), (4438, 0.0), (4439, 0.0), (4440, 0.0), (4441, 0.0), (4442, 0.0), (4443, 0.06988565578146122), (4444, 0.0), (4445, 0.0), (4446, 0.023112508176051216), (4447, 0.0), (4448, 0.044036771377507694), (4449, 0.0), (4450, 0.02470831055537004), (4451, 0.04399058702145837), (4452, 0.0), (4453, 0.04100461840523648), (4454, 0.0), (4455, 0.0), (4456, 0.0), (4457, 0.0), (4458, 0.05492350363810897), (4459, 0.05128205128205128), (4460, 0.03673591791853225), (4461, 0.0), (4462, 0.0), (4463, 0.03413943709994594), (4464, 0.0), (4465, 0.0), (4466, 0.038554328797749345), (4467, 0.02830692585361489), (4468, 0.10984700727621793), (4469, 0.02564102564102564), (4470, 0.0), (4471, 0.03883678186903087), (4472, 0.09421114395319916), (4473, 0.08006407690254357), (4474, 0.03580574370197164), (4475, 0.0), (4476, 0.0), (4477, 0.03774256780481986), (4478, 0.0), (4479, 0.0), (4480, 0.0), (4481, 0.0), (4482, 0.03202563076101743), (4483, 0.07082882469748285), (4484, 0.02050230920261824), (4485, 0.02830692585361489), (4486, 0.032686022523030676), (4487, 0.021591675854376526), (4488, 0.0), (4489, 0.015553021195625068), (4490, 0.09805806756909202), (4491, 0.0), (4492, 0.07767356373806174), (4493, 0.0), (4494, 0.0), (4495, 0.0), (4496, 0.0), (4497, 0.0), (4498, 0.02470831055537004), (4499, 0.0), (4500, 0.0), (4501, 0.0), (4502, 0.0826898230594723), (4503, 0.0), (4504, 0.0), (4505, 0.029235267310234306), (4506, 0.07944581222989573), (4507, 0.0), (4508, 0.0), (4509, 0.0), (4510, 0.02564102564102564), (4511, 0.026688025634181187), (4512, 0.050015632328035534), (4513, 0.0), (4514, 0.02875986542715254), (4515, 0.0), (4516, 0.08559209850218259), (4517, 0.0), (4518, 0.0), (4519, 0.04941662111074008), (4520, 0.0), (4521, 0.0), (4522, 0.013730875909527242), (4523, 0.0), (4524, 0.02360960823249428), (4525, 0.04399058702145837), (4526, 0.0), (4527, 0.0), (4528, 0.04828045495852676), (4529, 0.01242835507562029), (4530, 0.050015632328035534), (4531, 0.0), (4532, 0.03320903209244786), (4533, 0.05063696835418333), (4534, 0.0), (4535, 0.032686022523030676), (4536, 0.02875986542715254), (4537, 0.0), (4538, 0.1345345587992625), (4539, 0.0), (4540, 0.05413319619607667), (4541, 0.0), (4542, 0.0734718358370645), (4543, 0.027066598098038335), (4544, 0.0), (4545, 0.09435641951204965), (4546, 0.0), (4547, 0.0), (4548, 0.0), (4549, 0.02360960823249428), (4550, 0.0), (4551, 0.0), (4552, 0.042796049251091296), (4553, 0.02470831055537004), (4554, 0.03494282789073061), (4555, 0.04003203845127178), (4556, 0.0), (4557, 0.03774256780481986), (4558, 0.07502344849205331), (4559, 0.03673591791853225), (4560, 0.08362420100070908), (4561, 0.0), (4562, 0.0), (4563, 0.0), (4564, 0.04134491152973615), (4565, 0.014557104891371558), (4566, 0.06052275326688024), (4567, 0.0), (4568, 0.08006407690254357), (4569, 0.02875986542715254), (4570, 0.02973505167250263), (4571, 0.0), (4572, 0.0), (4573, 0.03673591791853225), (4574, 0.0167859915566148), (4575, 0.0), (4576, 0.023357091793352585), (4577, 0.0), (4578, 0.05661385170722978), (4579, 0.029235267310234306), (4580, 0.03140371465106639), (4581, 0.032686022523030676), (4582, 0.05210501057189061), (4583, 0.0), (4584, 0.0), (4585, 0.0), (4586, 0.0), (4587, 0.08559209850218259), (4588, 0.0), (4589, 0.025318484177091666), (4590, 0.04721921646498856), (4591, 0.05661385170722978), (4592, 0.0), (4593, 0.0), (4594, 0.0), (4595, 0.0), (4596, 0.04828045495852676), (4597, 0.023112508176051216), (4598, 0.0), (4599, 0.0), (4600, 0.019562767576168476), (4601, 0.0), (4602, 0.053376051268362375), (4603, 0.0), (4604, 0.03413943709994594), (4605, 0.025976216673306556), (4606, 0.04134491152973615), (4607, 0.04100461840523648), (4608, 0.0), (4609, 0.0), (4610, 0.0), (4611, 0.03413943709994594), (4612, 0.0), (4613, 0.0), (4614, 0.0), (4615, 0.0), (4616, 0.0), (4617, 0.0), (4618, 0.029235267310234306), (4619, 0.04441155916843275), (4620, 0.02470831055537004), (4621, 0.0), (4622, 0.033389028164708894), (4623, 0.06405126152203486), (4624, 0.07502344849205331), (4625, 0.0), (4626, 0.081199794294115), (4627, 0.04003203845127178), (4628, 0.0), (4629, 0.02875986542715254), (4630, 0.033757978902788886), (4631, 0.0), (4632, 0.03413943709994594), (4633, 0.03026137663344012), (4634, 0.025318484177091666), (4635, 0.03774256780481986), (4636, 0.05661385170722978), (4637, 0.0), (4638, 0.06988565578146122), (4639, 0.0), (4640, 0.0716114874039433), (4641, 0.08006407690254357), (4642, 0.032686022523030676), (4643, 0.03883678186903087), (4644, 0.0), (4645, 0.0), (4646, 0.04003203845127178), (4647, 0.021025856676559), (4648, 0.018367958959266125), (4649, 0.0), (4650, 0.0), (4651, 0.04003203845127178), (4652, 0.06052275326688024), (4653, 0.0), (4654, 0.08006407690254357), (4655, 0.03883678186903087), (4656, 0.019277164398874672), (4657, 0.08006407690254357), (4658, 0.0), (4659, 0.03026137663344012), (4660, 0.0), (4661, 0.03202563076101743), (4662, 0.02050230920261824), (4663, 0.0), (4664, 0.06052275326688024), (4665, 0.0), (4666, 0.030816677568068284), (4667, 0.027066598098038335), (4668, 0.0), (4669, 0.02830692585361489), (4670, 0.03626188621469474), (4671, 0.027874733666903028), (4672, 0.04529108136578383), (4673, 0.11694106924093722), (4674, 0.022205779584216375), (4675, 0.027066598098038335), (4676, 0.0), (4677, 0.0), (4678, 0.0), (4679, 0.04441155916843275), (4680, 0.05847053462046861), (4681, 0.0), (4682, 0.0), (4683, 0.0), (4684, 0.0), (4685, 0.0), (4686, 0.0), (4687, 0.0), (4688, 0.0), (4689, 0.0), (4690, 0.02360960823249428), (4691, 0.05195243334661311), (4692, 0.0), (4693, 0.05847053462046861), (4694, 0.021790681682020446), (4695, 0.04003203845127178), (4696, 0.01437993271357627), (4697, 0.0), (4698, 0.0), (4699, 0.05492350363810897), (4700, 0.03026137663344012), (4701, 0.0), (4702, 0.0), (4703, 0.033389028164708894), (4704, 0.06163335513613657), (4705, 0.0), (4706, 0.022367670764624703), (4707, 0.025318484177091666), (4708, 0.0), (4709, 0.0), (4710, 0.0), (4711, 0.0558435593287455), (4712, 0.022422426466543747), (4713, 0.022875450543583874), (4714, 0.0), (4715, 0.0), (4716, 0.0), (4717, 0.0), (4718, 0.04003203845127178), (4719, 0.0), (4720, 0.02830692585361489), (4721, 0.0), (4722, 0.04241898419838518), (4723, 0.0), (4724, 0.0), (4725, 0.0), (4726, 0.0), (4727, 0.053376051268362375), (4728, 0.0), (4729, 0.0), (4730, 0.022422426466543747), (4731, 0.027461751819054483), (4732, 0.0), (4733, 0.0), (4734, 0.02387049580131443), (4735, 0.0), (4736, 0.0), (4737, 0.0826898230594723), (4738, 0.0), (4739, 0.02564102564102564), (4740, 0.0), (4741, 0.0), (4742, 0.04003203845127178), (4743, 0.014557104891371558), (4744, 0.03026137663344012), (4745, 0.0), (4746, 0.0), (4747, 0.0), (4748, 0.019710413199636085), (4749, 0.0), (4750, 0.0), (4751, 0.021025856676559), (4752, 0.02830692585361489), (4753, 0.0), (4754, 0.08492077756084468), (4755, 0.025976216673306556), (4756, 0.0), (4757, 0.04622501635210243), (4758, 0.0), (4759, 0.019138975058773818), (4760, 0.025318484177091666), (4761, 0.026688025634181187), (4762, 0.0), (4763, 0.0), (4764, 0.0), (4765, 0.0), (4766, 0.01706971854997297), (4767, 0.03580574370197164), (4768, 0.0), (4769, 0.0), (4770, 0.0), (4771, 0.03883678186903087), (4772, 0.02360960823249428), (4773, 0.029235267310234306), (4774, 0.0), (4775, 0.055749467333806056), (4776, 0.0), (4777, 0.10675210253672475), (4778, 0.0), (4779, 0.0), (4780, 0.0), (4781, 0.05847053462046861), (4782, 0.025318484177091666), (4783, 0.0), (4784, 0.042796049251091296), (4785, 0.019418390934515434), (4786, 0.0), (4787, 0.019562767576168476), (4788, 0.0), (4789, 0.060522753266880225), (4790, 0.05661385170722978), (4791, 0.0), (4792, 0.0), (4793, 0.053376051268362375), (4794, 0.0), (4795, 0.0), (4796, 0.0), (4797, 0.0), (4798, 0.04169381992250833), (4799, 0.05195243334661311), (4800, 0.0), (4801, 0.019003715589632167), (4802, 0.04622501635210243), (4803, 0.04441155916843275), (4804, 0.0), (4805, 0.0)]\n",
      "[(1214, 0.28306925853614895), (507, 0.2545139051903111), (3728, 0.2506402059138015), (582, 0.24194822861802104), (539, 0.24019223070763068)]\n"
     ]
    }
   ],
   "source": [
    "movie_index = new_df[new_df['title'] == 'Avatar'].index[0]\n",
    "print(movie_index)\n",
    "distances = similarity[movie_index]\n",
    "print(distances)\n",
    "print(list(enumerate(distances)))\n",
    "\n",
    "movies_list = sorted(list(enumerate(distances)),reverse=True,key = lambda x:x[1])[1:6]\n",
    "\n",
    "print(movies_list)\n",
    "\n",
    "#for i in movies_list:\n",
    "#       print(new_df.iloc[i[0]].title)"
   ]
  },
  {
   "cell_type": "code",
   "execution_count": 67,
   "id": "9321084e",
   "metadata": {
    "execution": {
     "iopub.execute_input": "2023-10-18T17:04:29.093514Z",
     "iopub.status.busy": "2023-10-18T17:04:29.093160Z",
     "iopub.status.idle": "2023-10-18T17:04:29.098561Z",
     "shell.execute_reply": "2023-10-18T17:04:29.097454Z"
    },
    "papermill": {
     "duration": 0.025597,
     "end_time": "2023-10-18T17:04:29.100467",
     "exception": false,
     "start_time": "2023-10-18T17:04:29.074870",
     "status": "completed"
    },
    "tags": []
   },
   "outputs": [],
   "source": [
    "def recommend(movie):\n",
    "    movie_index = new_df[new_df['title'] == movie].index[0]\n",
    "    distances = similarity[movie_index]\n",
    "    movies_list = sorted(list(enumerate(distances)),reverse=True,key=lambda x:x[1])[1:6]\n",
    "    \n",
    "    for i in movies_list:\n",
    "        print(new_df.iloc[i[0]].title)"
   ]
  },
  {
   "cell_type": "code",
   "execution_count": 68,
   "id": "8b6229ec",
   "metadata": {},
   "outputs": [],
   "source": [
    "#above code will give error if similar movies are not presnt\n",
    "#so the below code will handel that error using try and except block"
   ]
  },
  {
   "cell_type": "code",
   "execution_count": 69,
   "id": "8f5ca6e4",
   "metadata": {},
   "outputs": [],
   "source": [
    "def recommend(movie):\n",
    "    try:\n",
    "        movie_index = new_df[new_df['title'] == movie].index[0]\n",
    "        distances = similarity[movie_index]\n",
    "        movies_list = sorted(list(enumerate(distances)), reverse=True, key=lambda x: x[1])[1:6]\n",
    "        \n",
    "        for i in movies_list:\n",
    "            print(new_df.iloc[i[0]].title)\n",
    "            \n",
    "    except IndexError:\n",
    "        print(movie , 'not found')"
   ]
  },
  {
   "cell_type": "code",
   "execution_count": 70,
   "id": "a8e60de3",
   "metadata": {
    "execution": {
     "iopub.execute_input": "2023-10-18T17:04:29.132817Z",
     "iopub.status.busy": "2023-10-18T17:04:29.132151Z",
     "iopub.status.idle": "2023-10-18T17:04:29.140626Z",
     "shell.execute_reply": "2023-10-18T17:04:29.139635Z"
    },
    "papermill": {
     "duration": 0.026623,
     "end_time": "2023-10-18T17:04:29.142470",
     "exception": false,
     "start_time": "2023-10-18T17:04:29.115847",
     "status": "completed"
    },
    "tags": []
   },
   "outputs": [
    {
     "data": {
      "text/plain": [
       "0        True\n",
       "1       False\n",
       "2       False\n",
       "3       False\n",
       "4       False\n",
       "        ...  \n",
       "4804    False\n",
       "4805    False\n",
       "4806    False\n",
       "4807    False\n",
       "4808    False\n",
       "Name: title, Length: 4806, dtype: bool"
      ]
     },
     "execution_count": 70,
     "metadata": {},
     "output_type": "execute_result"
    }
   ],
   "source": [
    "new_df['title'] == 'Avatar'"
   ]
  },
  {
   "cell_type": "code",
   "execution_count": 71,
   "id": "4b9ae818",
   "metadata": {},
   "outputs": [
    {
     "data": {
      "text/plain": [
       "'Captain America: Civil War'"
      ]
     },
     "execution_count": 71,
     "metadata": {},
     "output_type": "execute_result"
    }
   ],
   "source": [
    "new_df.iloc[26]['title']"
   ]
  },
  {
   "cell_type": "code",
   "execution_count": 72,
   "id": "f26e716f",
   "metadata": {
    "execution": {
     "iopub.execute_input": "2023-10-18T17:04:29.301706Z",
     "iopub.status.busy": "2023-10-18T17:04:29.301119Z",
     "iopub.status.idle": "2023-10-18T17:04:29.310702Z",
     "shell.execute_reply": "2023-10-18T17:04:29.309483Z"
    },
    "papermill": {
     "duration": 0.027426,
     "end_time": "2023-10-18T17:04:29.312511",
     "exception": false,
     "start_time": "2023-10-18T17:04:29.285085",
     "status": "completed"
    },
    "tags": []
   },
   "outputs": [
    {
     "name": "stdout",
     "output_type": "stream",
     "text": [
      "Captain America: The First Avenger\n",
      "Avengers: Age of Ultron\n",
      "Captain America: The Winter Soldier\n",
      "Iron Man 3\n",
      "The Avengers\n"
     ]
    }
   ],
   "source": [
    "recommend('Captain America: Civil War')"
   ]
  },
  {
   "cell_type": "code",
   "execution_count": 73,
   "id": "4baf0925",
   "metadata": {
    "execution": {
     "iopub.execute_input": "2023-10-18T17:04:29.345281Z",
     "iopub.status.busy": "2023-10-18T17:04:29.344679Z",
     "iopub.status.idle": "2023-10-18T17:04:29.354520Z",
     "shell.execute_reply": "2023-10-18T17:04:29.353267Z"
    },
    "papermill": {
     "duration": 0.028349,
     "end_time": "2023-10-18T17:04:29.356492",
     "exception": false,
     "start_time": "2023-10-18T17:04:29.328143",
     "status": "completed"
    },
    "tags": []
   },
   "outputs": [
    {
     "name": "stdout",
     "output_type": "stream",
     "text": [
      "Quantum of Solace\n",
      "Skyfall\n",
      "Never Say Never Again\n",
      "From Russia with Love\n",
      "Octopussy\n"
     ]
    }
   ],
   "source": [
    "#recommend('Batman')\n",
    "recommend('Spectre')\n"
   ]
  },
  {
   "cell_type": "code",
   "execution_count": 75,
   "id": "885aecb2",
   "metadata": {},
   "outputs": [
    {
     "name": "stdout",
     "output_type": "stream",
     "text": [
      "Aliens vs Predator: Requiem\n",
      "Independence Day\n",
      "Falcon Rising\n",
      "Battle: Los Angeles\n",
      "Titan A.E.\n"
     ]
    }
   ],
   "source": [
    "recommend('Avatar')"
   ]
  }
 ],
 "metadata": {
  "kernelspec": {
   "display_name": "Python 3 (ipykernel)",
   "language": "python",
   "name": "python3"
  },
  "language_info": {
   "codemirror_mode": {
    "name": "ipython",
    "version": 3
   },
   "file_extension": ".py",
   "mimetype": "text/x-python",
   "name": "python",
   "nbconvert_exporter": "python",
   "pygments_lexer": "ipython3",
   "version": "3.12.3"
  },
  "papermill": {
   "default_parameters": {},
   "duration": 27.736423,
   "end_time": "2023-10-18T17:04:30.075460",
   "environment_variables": {},
   "exception": null,
   "input_path": "__notebook__.ipynb",
   "output_path": "__notebook__.ipynb",
   "parameters": {},
   "start_time": "2023-10-18T17:04:02.339037",
   "version": "2.4.0"
  }
 },
 "nbformat": 4,
 "nbformat_minor": 5
}
